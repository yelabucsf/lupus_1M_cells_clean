{
 "cells": [
  {
   "cell_type": "markdown",
   "metadata": {},
   "source": [
    "## Compare HE and GCTA standardized results"
   ]
  },
  {
   "cell_type": "code",
   "execution_count": 1,
   "metadata": {},
   "outputs": [
    {
     "name": "stderr",
     "output_type": "stream",
     "text": [
      "\n",
      "Attaching package: ‘dplyr’\n",
      "\n",
      "The following objects are masked from ‘package:stats’:\n",
      "\n",
      "    filter, lag\n",
      "\n",
      "The following objects are masked from ‘package:base’:\n",
      "\n",
      "    intersect, setdiff, setequal, union\n",
      "\n"
     ]
    }
   ],
   "source": [
    "library(dplyr)\n",
    "library(pheatmap)\n",
    "options(stringsAsFactors = FALSE)"
   ]
  },
  {
   "cell_type": "code",
   "execution_count": 2,
   "metadata": {},
   "outputs": [
    {
     "name": "stderr",
     "output_type": "stream",
     "text": [
      "Warning message in file(file, \"rt\"):\n",
      "“cannot open file '/Users/marygordon/Documents/YeLab/Lupus/all.HE.txt': No such file or directory”"
     ]
    },
    {
     "ename": "ERROR",
     "evalue": "Error in file(file, \"rt\"): cannot open the connection\n",
     "execution_count": 2,
     "output_type": "error",
     "traceback": [
      "Error in file(file, \"rt\"): cannot open the connection\nTraceback:\n",
      "1. as.data.frame(read.table(\"/Users/marygordon/Documents/YeLab/Lupus/all.HE.txt\"))",
      "2. read.table(\"/Users/marygordon/Documents/YeLab/Lupus/all.HE.txt\")",
      "3. file(file, \"rt\")"
     ]
    }
   ],
   "source": [
    "## load HE data\n",
    "##\n",
    "HE_std=as.data.frame(read.table('/Users/marygordon/Documents/YeLab/Lupus/all.HE.txt'))\n",
    "#HE_std=read.table(\"/Users/marygordon/Documents/YeLab/Lupus/non_standard_H2/all.HE.results.txt\")\n",
    "HE_header=c('cell_pair','gene','v','sg1','se1','sg2','se2','sgx','sex','rg','re')\n",
    "colnames(HE_std)=HE_header\n",
    "\n",
    "## load GCTA data\n",
    "\n",
    "\n",
    "##load cell pairs\n",
    "pairs=scan('/Users/marygordon/Documents/YeLab/Lupus/phen_pairs.txt',what=character())"
   ]
  },
  {
   "cell_type": "code",
   "execution_count": null,
   "metadata": {},
   "outputs": [],
   "source": [
    "head(HE_std)"
   ]
  },
  {
   "cell_type": "markdown",
   "metadata": {},
   "source": [
    "### some general functions"
   ]
  },
  {
   "cell_type": "code",
   "execution_count": null,
   "metadata": {},
   "outputs": [],
   "source": [
    "#print simple stats of a vector\n",
    "print_stats<-function(vect,label){\n",
    "    print(label)\n",
    "    print(c('min',min(as.numeric(vect))))\n",
    "    print(c('max',max(as.numeric(vect))))\n",
    "    print(c('mean',mean(as.numeric(vect))))\n",
    "    print(c('median',median(as.numeric(vect))))\n",
    "    print(c('var',var(as.numeric(vect))))\n",
    "    print(c('in 0,1 range', sum(as.numeric(vect) >= 0 & as.numeric(vect)<=1), 'of',(length(as.numeric(vect)))))\n",
    "    \n",
    "}"
   ]
  },
  {
   "cell_type": "code",
   "execution_count": null,
   "metadata": {},
   "outputs": [],
   "source": [
    "#filter HE output file by standard errors for trait 1 and trait 2\n",
    "filter_std_err<-function(df,se_filter){\n",
    "    tmp1=as.data.frame(filter(df,se1<se_filter))\n",
    "    tmp2=as.data.frame(filter(tmp1,se2<se_filter))\n",
    "    return(tmp2)\n",
    "}\n"
   ]
  },
  {
   "cell_type": "code",
   "execution_count": null,
   "metadata": {},
   "outputs": [],
   "source": [
    "#inverse variance weighting\n",
    "calc_inverse_variance<-function(df){\n",
    "    rG_inv_wgt=as.numeric(df$rg)/as.numeric(var(df$rg))\n",
    "    rE_inv_wgt=as.numeric(df$rg)/as.numeric(var(df$re))\n",
    "    out=as.data.frame(cbind(as.character(df$cell_pair),as.character(df$gene),as.numeric(rG_inv_wgt),as.numeric(rE_inv_wgt)))\n",
    "    header=c('cell_pair','gene','rg','re')\n",
    "    colnames(out)=header\n",
    "    return(out)\n",
    "}"
   ]
  },
  {
   "cell_type": "code",
   "execution_count": null,
   "metadata": {},
   "outputs": [],
   "source": [
    "#plot scatter plots and histograms\n",
    "plot_scatter_hist<-function(df, title){\n",
    "    #print out some stats to start\n",
    "    all_rG_rE=as.numeric(df$rg)+as.numeric(df$re)\n",
    "    print_stats(df$rg,\"rG info\")\n",
    "    print_stats(df$re,\"rE info\")\n",
    "    print_stats(all_rG_rE,\"summary stats rG+rE\")\n",
    "    \n",
    "    #plot overall 1)rG vs rE scatter 2)hist rG+rE 3)variance weighted of 1 and 2\n",
    "    #rG vs rE scatter\n",
    "    print(plot(df$rg, df$re, xlab=\"rG\",ylab=\"rE\",main=paste(title,cor(as.numeric(df$rg),as.numeric(df$re)))))\n",
    "    \n",
    "    #hist rG+rE\n",
    "    hist(all_rG_rE,breaks=10000,main=paste(title),xlim=c(-10,10))\n",
    "\n",
    "}"
   ]
  },
  {
   "cell_type": "code",
   "execution_count": null,
   "metadata": {},
   "outputs": [],
   "source": [
    "#for each pair plot 1)rG vs rE scatter 2)hist rG+rE 3)variance weighted of 1 and 2\n",
    "plot_cell_cell_scatter_hist<-function(df,se_filt){\n",
    "    avg_rG=c()\n",
    "    avg_rG_w=c()\n",
    "    avg_rE=c()\n",
    "    avg_rE_w=c()\n",
    "    var_rG=c()\n",
    "    var_rE=c()\n",
    "    avg_rG_FW=c()\n",
    "    avg_rE_FW=c()\n",
    "    for(p in pairs){\n",
    "        print(p)\n",
    "        df_tmp=filter_std_err(as.data.frame(filter(df,cell_pair==as.character(p))),se_filt)\n",
    "        print(head(df_tmp))\n",
    "        plot_scatter_hist(df_tmp,paste(p,\"rG vs rE\"))\n",
    "        \n",
    "        #calculate inverse variance weight rG and rE per cell comparison\n",
    "        inv_tmp=calc_inverse_variance(df_tmp)\n",
    "        plot_scatter_hist(inv_tmp,paste(p,\"inverse var weight rG vs inverse var weight rE\"))\n",
    "        \n",
    "        #rG inverse variance weight vs rE raw\n",
    "        mixed_inv_tmp=as.data.frame(cbind(as.character(df_tmp$cell_pair),as.character(df_tmp$gene),as.numeric(inv_tmp$rg),as.numeric(df_tmp$re)))\n",
    "        colnames(mixed_inv_tmp)=c(\"cell_pair\",\"gene\",\"rg\",\"re\")\n",
    "        plot_scatter_hist(mixed_inv_tmp,paste(p,\"inverse var weight rG vs rE\"))\n",
    "        \n",
    "        #collect averages to view together\n",
    "        avg_rG=c(avg_rG,median(df_tmp$rg))\n",
    "        avg_rG_w=c(avg_rG_w,median(as.numeric(inv_tmp$rg)))\n",
    "        avg_rE=c(avg_rE,median(df_tmp$re))\n",
    "        avg_rE_w=c(avg_rE_w,median(as.numeric(inv_tmp$re)))\n",
    "        var_rG=c(var_rG,var(df_tmp$rg))\n",
    "        var_rE=c(var_rE,var(df_tmp$re))\n",
    "        \n",
    "    }\n",
    "    all_avgs=as.data.frame(cbind(pairs,avg_rG,avg_rG_w,var_rG,avg_rE,avg_rE_w,var_rE,(avg_rG+avg_rE),(avg_rG_w+avg_rE_w),(avg_rG_w+avg_rE)))\n",
    "\n",
    "\n",
    "    return(all_avgs)\n",
    "}\n",
    "\n"
   ]
  },
  {
   "cell_type": "code",
   "execution_count": null,
   "metadata": {},
   "outputs": [],
   "source": []
  },
  {
   "cell_type": "markdown",
   "metadata": {},
   "source": [
    "## Analyze raw heritability"
   ]
  },
  {
   "cell_type": "code",
   "execution_count": null,
   "metadata": {
    "scrolled": true
   },
   "outputs": [],
   "source": [
    "#plot HE stats over all pairs\n",
    "plot_scatter_hist(HE_std,\"all rG vs rE\")"
   ]
  },
  {
   "cell_type": "code",
   "execution_count": null,
   "metadata": {
    "scrolled": true
   },
   "outputs": [],
   "source": [
    "#plot HE variance weighted over all pairs\n",
    "head(HE_std)\n",
    "inv_w=(calc_inverse_variance(HE_std))\n",
    "head(inv_w)\n",
    "print(head(as.numeric(inv_w$re)+as.numeric(inv_w$rg)))\n",
    "plot_scatter_hist(inv_w,\"all inverse weighted rG vs rE\")\n",
    "#len=dim(HE_std)[1]\n"
   ]
  },
  {
   "cell_type": "code",
   "execution_count": null,
   "metadata": {},
   "outputs": [],
   "source": [
    "he_outs=plot_cell_cell_scatter_hist(HE_std,2)\n",
    "head(he_outs,36)"
   ]
  },
  {
   "cell_type": "code",
   "execution_count": null,
   "metadata": {
    "scrolled": true
   },
   "outputs": [],
   "source": [
    "#standard SE1\n",
    "#head(all_avgs,36)"
   ]
  },
  {
   "cell_type": "code",
   "execution_count": null,
   "metadata": {
    "scrolled": true
   },
   "outputs": [],
   "source": [
    "#non-standard SE1\n",
    "#head(all_avgs,36)"
   ]
  },
  {
   "cell_type": "markdown",
   "metadata": {},
   "source": [
    "### Analyze GCTA"
   ]
  },
  {
   "cell_type": "code",
   "execution_count": null,
   "metadata": {},
   "outputs": [],
   "source": [
    "gcta_std_full=as.data.frame(read.table('/Users/marygordon/Documents/YeLab/Lupus/GCTA/all.cells.bivar.standardized.txt',header=TRUE,sep='\\t'))\n",
    "#head(gcta_std)\n",
    "gcta_std=as.data.frame(cbind(as.character(gcta_std_full$cell),as.character(gcta_std_full$gene),as.numeric(gcta_std_full$Var_V.G._tr1),as.numeric(gcta_std_full$SE_V.G._tr1),as.numeric(gcta_std_full$Var_V.G._tr2),as.numeric(gcta_std_full$SE_V.G._tr2),as.numeric(gcta_std_full$Var_rG),as.numeric(gcta_std_full$Var_C.e._tr12)))\n",
    "gcta_header=c('cell_pair','gene','sg1','se1','sg2','se2','rg','re')\n",
    "colnames(gcta_std)=gcta_header\n",
    "\n",
    "\n"
   ]
  },
  {
   "cell_type": "code",
   "execution_count": null,
   "metadata": {},
   "outputs": [],
   "source": [
    "head(gcta_std)"
   ]
  },
  {
   "cell_type": "code",
   "execution_count": null,
   "metadata": {},
   "outputs": [],
   "source": [
    "#plot gcta stats over all pairs\n",
    "plot_scatter_hist(gcta_std, \"all rG vs rE\")"
   ]
  },
  {
   "cell_type": "code",
   "execution_count": null,
   "metadata": {},
   "outputs": [],
   "source": [
    "#plot gcta variance weighted over all pairs\n",
    "head(gcta_std)\n",
    "head(gcta_std$rg)\n",
    "\n",
    "inv_w=(calc_inverse_variance(gcta_std))\n",
    "\n",
    "print('made invw')\n",
    "head(inv_w)\n",
    "print(head(as.numeric(inv_w$re)+as.numeric(inv_w$rg)))\n",
    "plot_scatter_hist(inv_w,\"all inverse weighted rG vs rE\")"
   ]
  },
  {
   "cell_type": "code",
   "execution_count": null,
   "metadata": {},
   "outputs": [],
   "source": [
    "head(gcta_std)\n",
    "#ONLY ONE CELL PAIR- fixing aggregated file\n",
    "gcta_outs=plot_cell_cell_scatter_hist(gcta_std,2)\n"
   ]
  },
  {
   "cell_type": "markdown",
   "metadata": {},
   "source": [
    "## compare rG HE to rG GCTA"
   ]
  },
  {
   "cell_type": "code",
   "execution_count": 3,
   "metadata": {
    "scrolled": true
   },
   "outputs": [
    {
     "ename": "ERROR",
     "evalue": "Error in filter(HE_std, cell_pair == \"NK.cells_PBMC\"): object 'HE_std' not found\n",
     "execution_count": 3,
     "output_type": "error",
     "traceback": [
      "Error in filter(HE_std, cell_pair == \"NK.cells_PBMC\"): object 'HE_std' not found\nTraceback:\n",
      "1. filter(HE_std, cell_pair == \"NK.cells_PBMC\")"
     ]
    }
   ],
   "source": [
    "tmp_he=filter(HE_std,cell_pair==\"NK.cells_PBMC\")\n",
    "\n",
    "#filter for rG<1 \n",
    "#gcta_f=filter(gcta_std,rg<1)\n",
    "#he_f=filter(tmp_he,rg<1)\n",
    "\n",
    "#gcta_std\n",
    "#HE_std\n",
    "#he_f=tmp_he\n",
    "\n",
    "all_match_gcta=c()\n",
    "all_match_he=c()\n",
    "for(p in pairs){\n",
    "    #filter for cell pair\n",
    "    gcta_f=filter(as.data.frame(filter(gcta_std,cell_pair==as.character(p))))\n",
    "    he_f=filter(as.data.frame(filter(HE_std,cell_pair==as.character(p))))\n",
    "    \n",
    "    #match items\n",
    "    matched_he=subset(he_f, gene %in% as.character(gcta_f$gene))\n",
    "    matched_gcta=subset(gcta_f, gene %in% as.character(he_f$gene))\n",
    "    \n",
    "    print('ordered he')\n",
    "    s_matched_he=(matched_he[order(matched_he$gene),])\n",
    "    head(s_matched_he)\n",
    "    \n",
    "    print('ordered gcta')\n",
    "    s_matched_gcta=(matched_gcta[order(matched_gcta$gene),])\n",
    "    head(s_matched_gcta)\n",
    "\n",
    "    dim(s_matched_he)\n",
    "    dim(s_matched_gcta)\n",
    "    #no weight\n",
    "    print(plot(s_matched_he$rg,s_matched_gcta$rg,xlim=c(-2,2),main=paste(p,\"rG vs rG\",cor(as.numeric(s_matched_he$rg),as.numeric(s_matched_gcta$rg),method=\"spearman\"))))\n",
    "\n",
    "    all_match_gcta=rbind(all_match_gcta,s_matched_gcta)\n",
    "    all_match_he=rbind(all_match_he,s_matched_he)\n",
    "}\n",
    "\n",
    "print(plot(all_match_he$rg,all_match_gcta$rg,xlim=c(-2,2),main=paste(\"All cells: rG vs rG\",cor(as.numeric(s_matched_he$rg),as.numeric(s_matched_gcta$rg),method=\"spearman\"))))\n",
    "\n",
    "\n",
    "\n",
    "\n",
    "\n",
    "\n",
    "#inverse variance weighted\n",
    "\n",
    "\n"
   ]
  },
  {
   "cell_type": "code",
   "execution_count": null,
   "metadata": {},
   "outputs": [],
   "source": [
    "save_pheatmap_pdf <- function(x, filename, width=7, height=7) {\n",
    "   stopifnot(!missing(x))\n",
    "   stopifnot(!missing(filename))\n",
    "   pdf(filename, width=width, height=height)\n",
    "   grid::grid.newpage()\n",
    "   grid::grid.draw(x$gtable)\n",
    "   dev.off()\n",
    "}"
   ]
  },
  {
   "cell_type": "code",
   "execution_count": null,
   "metadata": {},
   "outputs": [],
   "source": [
    "plot_heatmap<-function(df_outs){\n",
    "    res=as.data.frame(cbind(df_outs$pairs, as.numeric(df_outs$avg_rG)))\n",
    "    print(head(res))\n",
    "    colnames(res)=c('cell_pair','rg')\n",
    "    mat=matrix(0,9,9)\n",
    "    cells =(unique(unlist(strsplit(as.character(res$cell_pair),\"_\",fixed=TRUE))))\n",
    "    rownames(mat)=cells\n",
    "    colnames(mat)=cells\n",
    "    \n",
    "    for(c in cells){\n",
    "        mat[c,c]=1\n",
    "    }\n",
    "    \n",
    "    iter=1\n",
    "    for(p in pairs){\n",
    "        val=(res$rg[iter])\n",
    "        name=(unlist(strsplit(as.character(p),\"_\",fixed=TRUE)))\n",
    "        r=(name[1])\n",
    "        c=(name[2])\n",
    "\n",
    "        mat[r,c]=as.numeric(val)\n",
    "        mat[c,r]=as.numeric(val)\n",
    "        iter=iter+1\n",
    "    }\n",
    "    mat1=mat[,-9]\n",
    "    mat2=mat1[-9,]\n",
    "    mat1=mat2[,-7]\n",
    "    mat2=mat1[-7,]\n",
    "    print(mat2)\n",
    "\n",
    "    #p=pheatmap(mat2,breaks=seq(.9, 1, by = 0.005))\n",
    "    #p=pheatmap(mat2,breaks=seq(.85, 1, by = 0.01))\n",
    "    #p=pheatmap(mat2,breaks=seq(-0.2, 0.2, by = 0.005))\n",
    "    #p=pheatmap(mat2,breaks=seq(0, 1, by = 0.01))\n",
    "    p=pheatmap(mat2,breaks=seq(-0.2, 1, by = 0.02))\n",
    "    print(p)\n",
    "\n",
    "}"
   ]
  },
  {
   "cell_type": "code",
   "execution_count": null,
   "metadata": {},
   "outputs": [],
   "source": [
    "head(he_outs)\n",
    "plot_heatmap(he_outs)"
   ]
  },
  {
   "cell_type": "code",
   "execution_count": null,
   "metadata": {
    "scrolled": false
   },
   "outputs": [],
   "source": [
    "head(gcta_outs)\n",
    "plot_heatmap(gcta_outs)"
   ]
  }
 ],
 "metadata": {
  "kernelspec": {
   "display_name": "R",
   "language": "R",
   "name": "ir"
  },
  "language_info": {
   "codemirror_mode": "r",
   "file_extension": ".r",
   "mimetype": "text/x-r-source",
   "name": "R",
   "pygments_lexer": "r",
   "version": "3.5.1"
  }
 },
 "nbformat": 4,
 "nbformat_minor": 2
}
