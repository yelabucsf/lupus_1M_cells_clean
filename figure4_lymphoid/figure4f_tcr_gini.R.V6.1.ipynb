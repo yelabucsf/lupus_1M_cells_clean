{
 "cells": [
  {
   "cell_type": "code",
   "execution_count": 10,
   "metadata": {},
   "outputs": [],
   "source": [
    "library(data.table)\n",
    "library(ggplot2)\n",
    "\n",
    "th <- fread(\"../tcr/Th_giniIndex_hiseq.csv\")\n",
    "tc <- fread(\"../tcr/Tc_giniIndex_hiseq.csv\")\n",
    "\n",
    "df <- rbind(cbind(th, type=\"T4\"), cbind(tc, type=\"T8\"))\n",
    "df$disease = \"SLE\";\n",
    "df$disease[grep(\"IGTB\",df$sample)] = \"Ctrl\";\n",
    "\n",
    "plot = ggplot(aes(disease, gini, color=type),data=df)+geom_boxplot()+theme_bw()\n",
    "ggsave(plot, file=\"figures.V6.1/gini.png\", height=3, width=3)\n",
    "\n",
    "\n",
    "th_clones <- fread(\"../tcr/Th_sharedclones_hiseq_CDR3.csv\")\n",
    "tc_clones <- fread(\"../tcr/Tc_sharedclones_hiseq_CDR3.csv\")\n",
    "\n",
    "tcr <- fread(\"../tcr/TCR_paired_final_hiseq.csv\")\n",
    "\n",
    "\n",
    "lineage <- fread(\"../tcr/TCR_gini_lymphlineage.csv\")\n",
    "lineage$disease = \"SLE\";\n",
    "lineage$disease[grep(\"IGTB\",lineage$Sample_ID)] = \"Ctrl\";\n",
    "\n",
    "plot = ggplot(aes(disease, coefficient, color=ct_cov),data=lineage)+geom_boxplot()+theme_bw()\n",
    "ggsave(plot, file=\"figures.V6.1/gini_lineage.png\", height=3, width=9)\n",
    "\n",
    "high_res <- fread(\"../tcr/TCR_gini_highreslymph.csv\")\n",
    "##high_res <- high_res[which(high_res$cell_count>),]\n",
    "high_res$disease = \"SLE\";\n",
    "high_res$disease[grep(\"IGTB\",high_res$Sample_ID)] = \"Ctrl\";\n",
    "\n",
    "plot = ggplot(aes(disease, coefficient, color=lymp_ct_cov),data=high_res)+geom_boxplot()+theme_bw()\n",
    "ggsave(plot, file=\"figures.V6.1/gini_high_res.png\", height=3, width=9)"
   ]
  }
 ],
 "metadata": {
  "kernelspec": {
   "display_name": "R",
   "language": "R",
   "name": "ir"
  },
  "language_info": {
   "codemirror_mode": "r",
   "file_extension": ".r",
   "mimetype": "text/x-r-source",
   "name": "R",
   "pygments_lexer": "r",
   "version": "3.6.1"
  }
 },
 "nbformat": 4,
 "nbformat_minor": 2
}
