{
 "cells": [
  {
   "cell_type": "code",
   "execution_count": 1,
   "metadata": {},
   "outputs": [
    {
     "name": "stderr",
     "output_type": "stream",
     "text": [
      "\n",
      "Attaching package: ‘dplyr’\n",
      "\n",
      "The following object is masked from ‘package:gridExtra’:\n",
      "\n",
      "    combine\n",
      "\n",
      "The following objects are masked from ‘package:data.table’:\n",
      "\n",
      "    between, first, last\n",
      "\n",
      "The following objects are masked from ‘package:stats’:\n",
      "\n",
      "    filter, lag\n",
      "\n",
      "The following objects are masked from ‘package:base’:\n",
      "\n",
      "    intersect, setdiff, setequal, union\n",
      "\n",
      "\n",
      "Attaching package: ‘reshape2’\n",
      "\n",
      "The following objects are masked from ‘package:data.table’:\n",
      "\n",
      "    dcast, melt\n",
      "\n"
     ]
    }
   ],
   "source": [
    "library(data.table)\n",
    "library(ggplot2)\n",
    "library(qvalue)\n",
    "library(pheatmap)\n",
    "library(gridExtra)\n",
    "library(dplyr)\n",
    "library(reshape2)\n",
    "options(stringsAsFactors = FALSE)"
   ]
  },
  {
   "cell_type": "code",
   "execution_count": 2,
   "metadata": {},
   "outputs": [
    {
     "name": "stderr",
     "output_type": "stream",
     "text": [
      "Warning message in fread(\"/ye/yelabstore3/gracieg/bivarH2/GCTA.std.eqtl.genes.h2.txt\"):\n",
      "“Detected 17 column names but the data has 18 columns (i.e. invalid file). Added 1 extra default column name for the first column which is guessed to be row names or an index. Use setnames() afterwards if this guess is not correct, or fix the file write command that created the file to create a valid file.”"
     ]
    },
    {
     "data": {
      "text/html": [
       "<table>\n",
       "<thead><tr><th scope=col>V1</th><th scope=col>gene</th><th scope=col>cell_pair</th><th scope=col>sg1</th><th scope=col>se1</th><th scope=col>sg2</th><th scope=col>se2</th><th scope=col>rg</th><th scope=col>re</th><th scope=col>rg_se</th><th scope=col>Dendritic.cells</th><th scope=col>CD8.T.cells</th><th scope=col>FCGR3A..Monocytes</th><th scope=col>Megakaryocytes</th><th scope=col>CD4.T.cells</th><th scope=col>NK.cells</th><th scope=col>B.cells</th><th scope=col>CD14..Monocytes</th></tr></thead>\n",
       "<tbody>\n",
       "\t<tr><td>1                      </td><td>A1BG                   </td><td>B.cells_CD14+.Monocytes</td><td>0.015170               </td><td>0.009632               </td><td>0.028167               </td><td>0.016146               </td><td> 0.759350              </td><td>0.041462               </td><td> 0.212675              </td><td>0                      </td><td>1                      </td><td>1                      </td><td>0                      </td><td>0                      </td><td>0                      </td><td>1                      </td><td>1                      </td></tr>\n",
       "\t<tr><td>2                      </td><td>AAED1                  </td><td>B.cells_CD14+.Monocytes</td><td>0.007936               </td><td>0.010167               </td><td>0.001736               </td><td>0.002607               </td><td> 0.786901              </td><td>0.034356               </td><td> 0.520903              </td><td>0                      </td><td>0                      </td><td>0                      </td><td>0                      </td><td>1                      </td><td>0                      </td><td>0                      </td><td>0                      </td></tr>\n",
       "\t<tr><td>3                      </td><td>AAGAB                  </td><td>B.cells_CD14+.Monocytes</td><td>0.003933               </td><td>0.004815               </td><td>0.012858               </td><td>0.006287               </td><td> 0.773954              </td><td>0.002871               </td><td> 0.476399              </td><td>0                      </td><td>0                      </td><td>0                      </td><td>0                      </td><td>0                      </td><td>0                      </td><td>0                      </td><td>1                      </td></tr>\n",
       "\t<tr><td>4                      </td><td>AASDH                  </td><td>B.cells_CD14+.Monocytes</td><td>0.000191               </td><td>0.004039               </td><td>0.002972               </td><td>0.003821               </td><td>-1.000000              </td><td>0.016548               </td><td>12.084689              </td><td>0                      </td><td>0                      </td><td>1                      </td><td>0                      </td><td>0                      </td><td>0                      </td><td>0                      </td><td>1                      </td></tr>\n",
       "\t<tr><td>5                      </td><td>ABAT                   </td><td>B.cells_CD14+.Monocytes</td><td>0.010254               </td><td>0.007361               </td><td>0.007200               </td><td>0.006157               </td><td> 0.929170              </td><td>0.005954               </td><td> 0.382239              </td><td>0                      </td><td>0                      </td><td>1                      </td><td>0                      </td><td>0                      </td><td>0                      </td><td>0                      </td><td>1                      </td></tr>\n",
       "\t<tr><td>6                      </td><td>ABCA1                  </td><td>B.cells_CD14+.Monocytes</td><td>0.013921               </td><td>0.011571               </td><td>0.002287               </td><td>0.009900               </td><td> 1.000000              </td><td>0.028655               </td><td> 1.786870              </td><td>0                      </td><td>0                      </td><td>0                      </td><td>0                      </td><td>0                      </td><td>0                      </td><td>1                      </td><td>0                      </td></tr>\n",
       "</tbody>\n",
       "</table>\n"
      ],
      "text/latex": [
       "\\begin{tabular}{r|llllllllllllllllll}\n",
       " V1 & gene & cell\\_pair & sg1 & se1 & sg2 & se2 & rg & re & rg\\_se & Dendritic.cells & CD8.T.cells & FCGR3A..Monocytes & Megakaryocytes & CD4.T.cells & NK.cells & B.cells & CD14..Monocytes\\\\\n",
       "\\hline\n",
       "\t 1                         & A1BG                      & B.cells\\_CD14+.Monocytes & 0.015170                  & 0.009632                  & 0.028167                  & 0.016146                  &  0.759350                 & 0.041462                  &  0.212675                 & 0                         & 1                         & 1                         & 0                         & 0                         & 0                         & 1                         & 1                        \\\\\n",
       "\t 2                         & AAED1                     & B.cells\\_CD14+.Monocytes & 0.007936                  & 0.010167                  & 0.001736                  & 0.002607                  &  0.786901                 & 0.034356                  &  0.520903                 & 0                         & 0                         & 0                         & 0                         & 1                         & 0                         & 0                         & 0                        \\\\\n",
       "\t 3                         & AAGAB                     & B.cells\\_CD14+.Monocytes & 0.003933                  & 0.004815                  & 0.012858                  & 0.006287                  &  0.773954                 & 0.002871                  &  0.476399                 & 0                         & 0                         & 0                         & 0                         & 0                         & 0                         & 0                         & 1                        \\\\\n",
       "\t 4                         & AASDH                     & B.cells\\_CD14+.Monocytes & 0.000191                  & 0.004039                  & 0.002972                  & 0.003821                  & -1.000000                 & 0.016548                  & 12.084689                 & 0                         & 0                         & 1                         & 0                         & 0                         & 0                         & 0                         & 1                        \\\\\n",
       "\t 5                         & ABAT                      & B.cells\\_CD14+.Monocytes & 0.010254                  & 0.007361                  & 0.007200                  & 0.006157                  &  0.929170                 & 0.005954                  &  0.382239                 & 0                         & 0                         & 1                         & 0                         & 0                         & 0                         & 0                         & 1                        \\\\\n",
       "\t 6                         & ABCA1                     & B.cells\\_CD14+.Monocytes & 0.013921                  & 0.011571                  & 0.002287                  & 0.009900                  &  1.000000                 & 0.028655                  &  1.786870                 & 0                         & 0                         & 0                         & 0                         & 0                         & 0                         & 1                         & 0                        \\\\\n",
       "\\end{tabular}\n"
      ],
      "text/markdown": [
       "\n",
       "V1 | gene | cell_pair | sg1 | se1 | sg2 | se2 | rg | re | rg_se | Dendritic.cells | CD8.T.cells | FCGR3A..Monocytes | Megakaryocytes | CD4.T.cells | NK.cells | B.cells | CD14..Monocytes | \n",
       "|---|---|---|---|---|---|\n",
       "| 1                       | A1BG                    | B.cells_CD14+.Monocytes | 0.015170                | 0.009632                | 0.028167                | 0.016146                |  0.759350               | 0.041462                |  0.212675               | 0                       | 1                       | 1                       | 0                       | 0                       | 0                       | 1                       | 1                       | \n",
       "| 2                       | AAED1                   | B.cells_CD14+.Monocytes | 0.007936                | 0.010167                | 0.001736                | 0.002607                |  0.786901               | 0.034356                |  0.520903               | 0                       | 0                       | 0                       | 0                       | 1                       | 0                       | 0                       | 0                       | \n",
       "| 3                       | AAGAB                   | B.cells_CD14+.Monocytes | 0.003933                | 0.004815                | 0.012858                | 0.006287                |  0.773954               | 0.002871                |  0.476399               | 0                       | 0                       | 0                       | 0                       | 0                       | 0                       | 0                       | 1                       | \n",
       "| 4                       | AASDH                   | B.cells_CD14+.Monocytes | 0.000191                | 0.004039                | 0.002972                | 0.003821                | -1.000000               | 0.016548                | 12.084689               | 0                       | 0                       | 1                       | 0                       | 0                       | 0                       | 0                       | 1                       | \n",
       "| 5                       | ABAT                    | B.cells_CD14+.Monocytes | 0.010254                | 0.007361                | 0.007200                | 0.006157                |  0.929170               | 0.005954                |  0.382239               | 0                       | 0                       | 1                       | 0                       | 0                       | 0                       | 0                       | 1                       | \n",
       "| 6                       | ABCA1                   | B.cells_CD14+.Monocytes | 0.013921                | 0.011571                | 0.002287                | 0.009900                |  1.000000               | 0.028655                |  1.786870               | 0                       | 0                       | 0                       | 0                       | 0                       | 0                       | 1                       | 0                       | \n",
       "\n",
       "\n"
      ],
      "text/plain": [
       "  V1 gene  cell_pair               sg1      se1      sg2      se2     \n",
       "1 1  A1BG  B.cells_CD14+.Monocytes 0.015170 0.009632 0.028167 0.016146\n",
       "2 2  AAED1 B.cells_CD14+.Monocytes 0.007936 0.010167 0.001736 0.002607\n",
       "3 3  AAGAB B.cells_CD14+.Monocytes 0.003933 0.004815 0.012858 0.006287\n",
       "4 4  AASDH B.cells_CD14+.Monocytes 0.000191 0.004039 0.002972 0.003821\n",
       "5 5  ABAT  B.cells_CD14+.Monocytes 0.010254 0.007361 0.007200 0.006157\n",
       "6 6  ABCA1 B.cells_CD14+.Monocytes 0.013921 0.011571 0.002287 0.009900\n",
       "  rg        re       rg_se     Dendritic.cells CD8.T.cells FCGR3A..Monocytes\n",
       "1  0.759350 0.041462  0.212675 0               1           1                \n",
       "2  0.786901 0.034356  0.520903 0               0           0                \n",
       "3  0.773954 0.002871  0.476399 0               0           0                \n",
       "4 -1.000000 0.016548 12.084689 0               0           1                \n",
       "5  0.929170 0.005954  0.382239 0               0           1                \n",
       "6  1.000000 0.028655  1.786870 0               0           0                \n",
       "  Megakaryocytes CD4.T.cells NK.cells B.cells CD14..Monocytes\n",
       "1 0              0           0        1       1              \n",
       "2 0              1           0        0       0              \n",
       "3 0              0           0        0       1              \n",
       "4 0              0           0        0       1              \n",
       "5 0              0           0        0       1              \n",
       "6 0              0           0        1       0              "
      ]
     },
     "metadata": {},
     "output_type": "display_data"
    }
   ],
   "source": [
    "#load gcta \n",
    "final=fread('/ye/yelabstore3/gracieg/bivarH2/GCTA.std.eqtl.genes.h2.txt')\n",
    "head(final)"
   ]
  },
  {
   "cell_type": "code",
   "execution_count": 3,
   "metadata": {},
   "outputs": [
    {
     "data": {
      "text/plain": [
       "\n",
       "  B_cDC    B_cM    B_MK   B_ncM    B_NK    B_Tc    B_Th  cDC_MK cDC_ncM  cDC_NK \n",
       "   2181    2586    2223    2380    2359    2415    2471    1478    1625    1429 \n",
       " cM_cDC   cM_MK  cM_ncM   cM_NK   cM_Tc   cM_Th   MK_NK  ncM_MK  ncM_NK  Tc_cDC \n",
       "   2675    2621    2999    2556    2759    2835     884    1353    1250    1947 \n",
       "  Tc_MK  Tc_ncM   Tc_NK  Th_cDC   Th_MK  Th_ncM   Th_NK   Th_Tc \n",
       "   1716    1959    1784    2102    2172    2172    2207    2459 "
      ]
     },
     "metadata": {},
     "output_type": "display_data"
    }
   ],
   "source": [
    "final=final[grep('PBMC', final$cell_pair, invert=T), ]\n",
    "\n",
    "final$cell_pair=gsub('B.cells', 'B', final$cell_pair)\n",
    "final$cell_pair=gsub('CD14\\\\+.Monocytes', 'cM', final$cell_pair)\n",
    "final$cell_pair=gsub('FCGR3A\\\\+.Monocytes', 'ncM', final$cell_pair)\n",
    "final$cell_pair=gsub('CD4.T.cells', 'Th', final$cell_pair)\n",
    "final$cell_pair=gsub('CD8.T.cells', 'Tc', final$cell_pair)\n",
    "final$cell_pair=gsub('Megakaryocytes', 'MK', final$cell_pair)\n",
    "final$cell_pair=gsub('Dendritic.cells', 'cDC', final$cell_pair)\n",
    "final$cell_pair=gsub('NK.cells', 'NK', final$cell_pair)\n",
    "\n",
    "final$c1=sapply(strsplit(final$cell_pair, '_'), '[', 1)\n",
    "final$c2=sapply(strsplit(final$cell_pair, '_'), '[', 2)\n",
    "\n",
    "\n",
    "table(final$cell_pair)\n"
   ]
  },
  {
   "cell_type": "code",
   "execution_count": 4,
   "metadata": {},
   "outputs": [
    {
     "name": "stdout",
     "output_type": "stream",
     "text": [
      "[1] \"B\"\n",
      "[1] \"cM\"\n",
      "[1] \"ncM\"\n",
      "[1] \"Th\"\n",
      "[1] \"Tc\"\n",
      "[1] \"cDC\"\n",
      "[1] \"MK\"\n",
      "[1] \"NK\"\n"
     ]
    }
   ],
   "source": [
    "load_ct_eqtls <- function(ct, dir){\n",
    "    x=fread(paste(dir, ct, '.bed.ids.txt', sep=''))\n",
    "    return(list(snps=x, genes=unique(x$gene)))\n",
    "}\n",
    "\n",
    "sle=list()\n",
    "\n",
    "cts=c('B', 'cM', 'ncM', 'Th', 'Tc', 'cDC', 'MK', 'NK')\n",
    "for(ct in cts){\n",
    "    print(ct)\n",
    "    sle[[ct]]=load_ct_eqtls(ct, '/ye/yelabstore3/10x.lupus/eqtls/sle.10pcs.subtracted/all/')\n",
    "}\n"
   ]
  },
  {
   "cell_type": "code",
   "execution_count": 9,
   "metadata": {
    "scrolled": false
   },
   "outputs": [
    {
     "name": "stdout",
     "output_type": "stream",
     "text": [
      "[1] \"B\"\n",
      "\n",
      " cDC   cM   MK  ncM   NK   Tc   Th \n",
      "2181 2586 2223 2380 2359 2415 2471 \n",
      "[1] \"cM\"\n",
      "\n",
      "   B  cDC   MK  ncM   NK   Tc   Th \n",
      "4966 4300 2621 5602 2556 4718 5007 \n",
      "[1] \"ncM\"\n",
      "\n",
      "   B  cDC   cM   MK   NK   Tc   Th \n",
      "2380 1625 2999 1353 1250 1959 2172 \n",
      "[1] \"Th\"\n",
      "\n",
      "   B  cDC   cM   MK  ncM   NK   Tc \n",
      "2471 2102 2835 2172 2172 2207 2459 \n",
      "[1] \"Tc\"\n",
      "\n",
      "   B  cDC   cM   MK  ncM   NK   Th \n",
      "2415 1947 2759 1716 1959 1784 2459 \n",
      "[1] \"cDC\"\n",
      "\n",
      "   B   cM   MK  ncM   NK   Tc   Th \n",
      "2181 2675 1478 1625 1429 1947 2102 \n",
      "[1] \"MK\"\n",
      "\n",
      "   B  cDC   cM  ncM   NK   Tc   Th \n",
      "2223 1478 2621 1353  884 1716 2172 \n",
      "[1] \"NK\"\n",
      "\n",
      "   B  cDC   cM   MK  ncM   Tc   Th \n",
      "2359 1429 2556  884 1250 1784 2207 \n",
      "  ct_qtl genes  ct        rg\n",
      "1      B   all cDC 0.3457552\n",
      "2      B   all  cM 0.4115794\n",
      "3      B   all  MK 0.3117629\n",
      "4      B   all ncM 0.3363819\n",
      "5      B   all  NK 0.3765281\n",
      "6      B   all  Tc 0.4410088\n"
     ]
    },
    {
     "data": {
      "text/html": [
       "<strong>png:</strong> 2"
      ],
      "text/latex": [
       "\\textbf{png:} 2"
      ],
      "text/markdown": [
       "**png:** 2"
      ],
      "text/plain": [
       "png \n",
       "  2 "
      ]
     },
     "metadata": {},
     "output_type": "display_data"
    },
    {
     "data": {
      "image/png": "[encoded data removed]",
      "text/plain": [
       "plot without title"
      ]
     },
     "metadata": {},
     "output_type": "display_data"
    }
   ],
   "source": [
    "all.df=NULL\n",
    "for(ct in cts){\n",
    "    print(ct)\n",
    "    qtls=sle[[ct]]$genes\n",
    "    final.use=final[grep(ct, final$cell_pair), ]\n",
    "    \n",
    "    final.use$ct=final.use$c1\n",
    "    final.use$ct[which(final.use$c1==ct)]=final.use$c2[which(final.use$c1==ct)]\n",
    "    \n",
    "    print(table(final.use$ct))\n",
    "    final.use.qtls=final.use[which(final.use$gene %in% qtls), ]\n",
    "    \n",
    "    all.genes.mean=aggregate(rg ~ ct, final.use, mean)\n",
    "    qtls.mean=aggregate(rg ~ ct, final.use.qtls, mean)\n",
    "    \n",
    "    all.df=rbind(all.df, data.frame(ct_qtl=ct, genes='all', all.genes.mean))\n",
    "    all.df=rbind(all.df, data.frame(ct_qtl=ct, genes='CT specific eQTLs', qtls.mean))\n",
    "\n",
    "    #print(all.genes.mean)\n",
    "    #print(qtls.mean)\n",
    "    \n",
    "\n",
    "}\n",
    "\n",
    "print(head(all.df))\n",
    "\n",
    "options(repr.plot.width=25, repr.plot.height=5)\n",
    "\n",
    "plt=ggplot(all.df, aes(x=ct, y=rg, fill=ct, by=genes))+ geom_bar(stat='identity', position='dodge')  + facet_wrap( ~ ct_qtl, nrow=1 )\n",
    "\n",
    "print(plt)\n",
    "\n",
    "pdf('figures/GCTA.eqtls.pdf', width = 25, height=5)\n",
    "print(plt)\n",
    "dev.off()\n"
   ]
  }
 ],
 "metadata": {
  "kernelspec": {
   "display_name": "R",
   "language": "R",
   "name": "ir"
  },
  "language_info": {
   "codemirror_mode": "r",
   "file_extension": ".r",
   "mimetype": "text/x-r-source",
   "name": "R",
   "pygments_lexer": "r",
   "version": "3.5.1"
  }
 },
 "nbformat": 4,
 "nbformat_minor": 2
}
