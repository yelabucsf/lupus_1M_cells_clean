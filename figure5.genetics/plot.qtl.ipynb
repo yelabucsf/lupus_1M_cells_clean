{
 "cells": [
  {
   "cell_type": "code",
   "execution_count": 1,
   "metadata": {},
   "outputs": [],
   "source": [
    "library(data.table)\n",
    "library(ggplot2)"
   ]
  },
  {
   "cell_type": "code",
   "execution_count": 2,
   "metadata": {},
   "outputs": [],
   "source": [
    "cell.types=c('B', 'cM', 'ncM', 'Th', 'Tc', 'cDC', 'MK', 'NK', 'PBMC')\n",
    "\n",
    "genotype_pcs=read.table('/ye/yelabstore2/10x.lupus/eqtls/genotypes/demux.v2/v2.all.eigensoft.evec')\n",
    "rownames(genotype_pcs)=gsub(':', '_', genotype_pcs$V1)\n",
    "genotype_pcs=genotype_pcs[, -1]"
   ]
  },
  {
   "cell_type": "code",
   "execution_count": 3,
   "metadata": {},
   "outputs": [],
   "source": [
    "getQTLData <- function(chr, pos, gene){\n",
    "    snp=paste(chr, pos, sep=':')\n",
    "    genos.sle=fread(paste('/ye/yelabstore3/10x.lupus/eqtls/sle.genotypes/chr', chr, '.genotypes.matrix.eqtl.txt', sep=''))\n",
    "    genos.healthy=fread(paste('/ye/yelabstore3/10x.lupus/eqtls/healthy.genotypes/chr', chr, '.immvar.genotypes.matrix.eqtl.txt', sep=''))\n",
    "    \n",
    "    adj.expr=c()\n",
    "    all.covs=NULL\n",
    "    pvals=c()\n",
    "    for(c in cell.types){\n",
    "        print(c)\n",
    "    #get het pval\n",
    "        if(c != 'PBMC'){\n",
    "            res=fread(paste('/ye/yelabstore3/10x.lupus/eqtls/sle.10pcs.subtracted/', c, '.', chr, '.matrix.eqtl.cis.txt', sep=''))\n",
    "#            print(gene)\n",
    "            res.use=res[which(res$SNP==paste(chr, pos, sep=':')), ]\n",
    "            id=match(gene, res.use$gene)\n",
    "            res.use=res.use[id, ]\n",
    "            ct.effect=fread(paste('/ye/yelabstore3/10x.lupus/eqtls/v5/sle.10pcs/', c, '.', chr, '.matrix.eqtl.cis.txt', sep=''))\n",
    "            ct.effect.use=ct.effect[which(ct.effect$SNP==paste(chr, pos, sep=':')), ]\n",
    "            id=match(gene, ct.effect.use$gene)\n",
    "            ct.effect.use=ct.effect.use[id, ]\n",
    "            ct.effect.label=paste('beta:', round(ct.effect.use$beta, digits=3), '\\np:', format.pval(ct.effect.use$\"p-value\"))\n",
    "    }\n",
    "            \n",
    "    expr=fread(paste( '/ye/yelabstore3/10x.lupus/eqtls/v5.full.', c, '.blind.expr.txt', sep=''))\n",
    "    sample_id=read.table(paste('/ye/yelabstore3/10x.lupus/eqtls/v5.full.', c, '.blind.covs.txt', sep=''), header=T)\n",
    "    rm=intersect(grep('IGTB', sample_id$ind), grep('lupus', sample_id$batch))\n",
    "    samples=sample_id[-rm, ]$ind\n",
    "    gene_names=expr$V1\n",
    "    expr=data.frame(expr[, -1, with=F])\n",
    "    expr=expr[, -rm,]\n",
    "#    print(dim(expr))\n",
    "    colnames(expr)=samples\n",
    "    \n",
    "    m=match(gene, gene_names)\n",
    "#    print(m)\n",
    "    exp.gene=as.numeric(expr[m,])\n",
    "    cov=t(read.table(paste('/ye/yelabstore3/10x.lupus/eqtls/v5.full.', c, '.covariates.txt', sep=''), check.names=F)[1:10,])\n",
    "    cov=cov[-rm, ]\n",
    "    rownames(cov)=samples\n",
    "\n",
    "    genotype_pcs.use=genotype_pcs[match(samples, rownames(genotype_pcs)), ]\n",
    "#    print(dim(genotype_pcs.use))\n",
    "    cov=cbind(cov, genotype_pcs.use[, 1:7 ])\n",
    "\n",
    "    if(c!='PBMC'){ \n",
    "        df=data.frame(expr=exp.gene, label=format.pval(res.use$\"p-value\"), ct_label=ct.effect.label, cov)\n",
    "        } else{\n",
    "        df=data.frame(expr=exp.gene, label=NA, ct_label=NA, cov)\n",
    "        }\n",
    "    all.covs=rbind(all.covs, df)\n",
    "#    print(head(df))\n",
    "    res=lm(data=df, expr~PC1+PC2+PC3+PC4+PC5)$residuals+mean(exp.gene)\n",
    "    adj.expr=c(adj.expr,res)\n",
    "    \n",
    "    }\n",
    "    ct=rep(cell.types, each=length(res))\n",
    "    print('genotypes')\n",
    "    genos.use=cbind(genos.sle[match(snp, genos.sle$V1), -1, with=F], genos.healthy[match(snp, genos.healthy$V1), -1, with=F])\n",
    "    g=rep(as.numeric(genos.use)[match(colnames(expr), names(genos.use))], length(cell.types))\n",
    "\n",
    "    #print(g)\n",
    "    id=rep(colnames(expr), length(cell.types))\n",
    "\n",
    "    df=data.frame(expr=adj.expr, genotype=g, cell=as.factor(ct), id=id, all.covs)\n",
    "    df$disease='SLE'\n",
    "    df$disease[grep('IGTB', df$id)]='Healthy'\n",
    "\n",
    "#may as well put in the pops while we're adding information..\n",
    "\n",
    "    clin=read.table('/ye/yelabstore2/10x.lupus/clinical.data/v2/v2.clinical.data.txt', sep='\\t', header=T)\n",
    "    df$racedesc=clin$racedesc[match(df$id, clin$genotypeid)]\n",
    "    \n",
    "    ifn=read.table('/ye/yelabstore3/10x.lupus/eqtls/v5.ifi6.sig.txt')\n",
    "    df$ifn=ifn[match(df$id,rownames(ifn)),]\n",
    "    \n",
    "    return(df)    \n",
    "}\n",
    "\n",
    "\n",
    "\n",
    " "
   ]
  },
  {
   "cell_type": "code",
   "execution_count": 14,
   "metadata": {
    "scrolled": true
   },
   "outputs": [
    {
     "name": "stderr",
     "output_type": "stream",
     "text": [
      "Warning message in fread(paste(\"/ye/yelabstore3/10x.lupus/eqtls/sle.genotypes/chr\", :\n",
      "“Detected 119 column names but the data has 120 columns (i.e. invalid file). Added 1 extra default column name for the first column which is guessed to be row names or an index. Use setnames() afterwards if this guess is not correct, or fix the file write command that created the file to create a valid file.”Warning message in fread(paste(\"/ye/yelabstore3/10x.lupus/eqtls/healthy.genotypes/chr\", :\n",
      "“Detected 46 column names but the data has 47 columns (i.e. invalid file). Added 1 extra default column name for the first column which is guessed to be row names or an index. Use setnames() afterwards if this guess is not correct, or fix the file write command that created the file to create a valid file.”"
     ]
    },
    {
     "name": "stdout",
     "output_type": "stream",
     "text": [
      "[1] \"B\"\n"
     ]
    },
    {
     "name": "stderr",
     "output_type": "stream",
     "text": [
      "Warning message in fread(paste(\"/ye/yelabstore3/10x.lupus/eqtls/v5.full.\", c, \".blind.expr.txt\", :\n",
      "“Detected 206 column names but the data has 207 columns (i.e. invalid file). Added 1 extra default column name for the first column which is guessed to be row names or an index. Use setnames() afterwards if this guess is not correct, or fix the file write command that created the file to create a valid file.”"
     ]
    },
    {
     "name": "stdout",
     "output_type": "stream",
     "text": [
      "[1] \"cM\"\n"
     ]
    },
    {
     "name": "stderr",
     "output_type": "stream",
     "text": [
      "Warning message in fread(paste(\"/ye/yelabstore3/10x.lupus/eqtls/v5.full.\", c, \".blind.expr.txt\", :\n",
      "“Detected 206 column names but the data has 207 columns (i.e. invalid file). Added 1 extra default column name for the first column which is guessed to be row names or an index. Use setnames() afterwards if this guess is not correct, or fix the file write command that created the file to create a valid file.”"
     ]
    },
    {
     "name": "stdout",
     "output_type": "stream",
     "text": [
      "[1] \"ncM\"\n"
     ]
    },
    {
     "name": "stderr",
     "output_type": "stream",
     "text": [
      "Warning message in fread(paste(\"/ye/yelabstore3/10x.lupus/eqtls/v5.full.\", c, \".blind.expr.txt\", :\n",
      "“Detected 206 column names but the data has 207 columns (i.e. invalid file). Added 1 extra default column name for the first column which is guessed to be row names or an index. Use setnames() afterwards if this guess is not correct, or fix the file write command that created the file to create a valid file.”"
     ]
    },
    {
     "name": "stdout",
     "output_type": "stream",
     "text": [
      "[1] \"Th\"\n"
     ]
    },
    {
     "name": "stderr",
     "output_type": "stream",
     "text": [
      "Warning message in fread(paste(\"/ye/yelabstore3/10x.lupus/eqtls/v5.full.\", c, \".blind.expr.txt\", :\n",
      "“Detected 206 column names but the data has 207 columns (i.e. invalid file). Added 1 extra default column name for the first column which is guessed to be row names or an index. Use setnames() afterwards if this guess is not correct, or fix the file write command that created the file to create a valid file.”"
     ]
    },
    {
     "name": "stdout",
     "output_type": "stream",
     "text": [
      "[1] \"Tc\"\n"
     ]
    },
    {
     "name": "stderr",
     "output_type": "stream",
     "text": [
      "Warning message in fread(paste(\"/ye/yelabstore3/10x.lupus/eqtls/v5.full.\", c, \".blind.expr.txt\", :\n",
      "“Detected 206 column names but the data has 207 columns (i.e. invalid file). Added 1 extra default column name for the first column which is guessed to be row names or an index. Use setnames() afterwards if this guess is not correct, or fix the file write command that created the file to create a valid file.”"
     ]
    },
    {
     "name": "stdout",
     "output_type": "stream",
     "text": [
      "[1] \"cDC\"\n"
     ]
    },
    {
     "name": "stderr",
     "output_type": "stream",
     "text": [
      "Warning message in fread(paste(\"/ye/yelabstore3/10x.lupus/eqtls/v5.full.\", c, \".blind.expr.txt\", :\n",
      "“Detected 206 column names but the data has 207 columns (i.e. invalid file). Added 1 extra default column name for the first column which is guessed to be row names or an index. Use setnames() afterwards if this guess is not correct, or fix the file write command that created the file to create a valid file.”"
     ]
    },
    {
     "name": "stdout",
     "output_type": "stream",
     "text": [
      "[1] \"MK\"\n"
     ]
    },
    {
     "name": "stderr",
     "output_type": "stream",
     "text": [
      "Warning message in fread(paste(\"/ye/yelabstore3/10x.lupus/eqtls/v5.full.\", c, \".blind.expr.txt\", :\n",
      "“Detected 206 column names but the data has 207 columns (i.e. invalid file). Added 1 extra default column name for the first column which is guessed to be row names or an index. Use setnames() afterwards if this guess is not correct, or fix the file write command that created the file to create a valid file.”"
     ]
    },
    {
     "name": "stdout",
     "output_type": "stream",
     "text": [
      "[1] \"NK\"\n"
     ]
    },
    {
     "name": "stderr",
     "output_type": "stream",
     "text": [
      "Warning message in fread(paste(\"/ye/yelabstore3/10x.lupus/eqtls/v5.full.\", c, \".blind.expr.txt\", :\n",
      "“Detected 206 column names but the data has 207 columns (i.e. invalid file). Added 1 extra default column name for the first column which is guessed to be row names or an index. Use setnames() afterwards if this guess is not correct, or fix the file write command that created the file to create a valid file.”"
     ]
    },
    {
     "name": "stdout",
     "output_type": "stream",
     "text": [
      "[1] \"PBMC\"\n"
     ]
    },
    {
     "name": "stderr",
     "output_type": "stream",
     "text": [
      "Warning message in fread(paste(\"/ye/yelabstore3/10x.lupus/eqtls/v5.full.\", c, \".blind.expr.txt\", :\n",
      "“Detected 206 column names but the data has 207 columns (i.e. invalid file). Added 1 extra default column name for the first column which is guessed to be row names or an index. Use setnames() afterwards if this guess is not correct, or fix the file write command that created the file to create a valid file.”"
     ]
    },
    {
     "name": "stdout",
     "output_type": "stream",
     "text": [
      "[1] \"genotypes\"\n"
     ]
    }
   ],
   "source": [
    "# df=getQTLData(11, 118178007, 'CD3E')\n",
    "# save(df, file='data/CD3E.rda')\n",
    "\n",
    "# df=getQTLData(19, 10449358, 'ICAM3')\n",
    "# save(df, file='data/ICAM3.rda')\n",
    "\n",
    "# df=getQTLData(22, 39358037, 'APOBEC3B')\n",
    "# save(df, file='data/APOBEC3B.rda')\n",
    "\n",
    "df=getQTLData(1, 161478810, 'HSPA6')\n",
    "save(df, file='data/HSPA6.rda')\n",
    "\n",
    "\n",
    "#save(df, file=paste(df.out, '.rda',sep=''))\n",
    "    "
   ]
  },
  {
   "cell_type": "code",
   "execution_count": 8,
   "metadata": {
    "scrolled": false
   },
   "outputs": [
    {
     "name": "stderr",
     "output_type": "stream",
     "text": [
      "Warning message in fread(paste(\"/ye/yelabstore3/10x.lupus/eqtls/sle.genotypes/chr\", :\n",
      "“Detected 119 column names but the data has 120 columns (i.e. invalid file). Added 1 extra default column name for the first column which is guessed to be row names or an index. Use setnames() afterwards if this guess is not correct, or fix the file write command that created the file to create a valid file.”Warning message in fread(paste(\"/ye/yelabstore3/10x.lupus/eqtls/healthy.genotypes/chr\", :\n",
      "“Detected 46 column names but the data has 47 columns (i.e. invalid file). Added 1 extra default column name for the first column which is guessed to be row names or an index. Use setnames() afterwards if this guess is not correct, or fix the file write command that created the file to create a valid file.”"
     ]
    },
    {
     "name": "stdout",
     "output_type": "stream",
     "text": [
      "[1] \"B\"\n"
     ]
    },
    {
     "name": "stderr",
     "output_type": "stream",
     "text": [
      "Warning message in fread(paste(\"/ye/yelabstore3/10x.lupus/eqtls/v5.full.\", c, \".blind.expr.txt\", :\n",
      "“Detected 206 column names but the data has 207 columns (i.e. invalid file). Added 1 extra default column name for the first column which is guessed to be row names or an index. Use setnames() afterwards if this guess is not correct, or fix the file write command that created the file to create a valid file.”"
     ]
    },
    {
     "name": "stdout",
     "output_type": "stream",
     "text": [
      "[1] \"cM\"\n"
     ]
    },
    {
     "name": "stderr",
     "output_type": "stream",
     "text": [
      "Warning message in fread(paste(\"/ye/yelabstore3/10x.lupus/eqtls/v5.full.\", c, \".blind.expr.txt\", :\n",
      "“Detected 206 column names but the data has 207 columns (i.e. invalid file). Added 1 extra default column name for the first column which is guessed to be row names or an index. Use setnames() afterwards if this guess is not correct, or fix the file write command that created the file to create a valid file.”"
     ]
    },
    {
     "name": "stdout",
     "output_type": "stream",
     "text": [
      "[1] \"ncM\"\n"
     ]
    },
    {
     "name": "stderr",
     "output_type": "stream",
     "text": [
      "Warning message in fread(paste(\"/ye/yelabstore3/10x.lupus/eqtls/v5.full.\", c, \".blind.expr.txt\", :\n",
      "“Detected 206 column names but the data has 207 columns (i.e. invalid file). Added 1 extra default column name for the first column which is guessed to be row names or an index. Use setnames() afterwards if this guess is not correct, or fix the file write command that created the file to create a valid file.”"
     ]
    },
    {
     "name": "stdout",
     "output_type": "stream",
     "text": [
      "[1] \"Th\"\n"
     ]
    },
    {
     "name": "stderr",
     "output_type": "stream",
     "text": [
      "Warning message in fread(paste(\"/ye/yelabstore3/10x.lupus/eqtls/v5.full.\", c, \".blind.expr.txt\", :\n",
      "“Detected 206 column names but the data has 207 columns (i.e. invalid file). Added 1 extra default column name for the first column which is guessed to be row names or an index. Use setnames() afterwards if this guess is not correct, or fix the file write command that created the file to create a valid file.”"
     ]
    },
    {
     "name": "stdout",
     "output_type": "stream",
     "text": [
      "[1] \"Tc\"\n"
     ]
    },
    {
     "name": "stderr",
     "output_type": "stream",
     "text": [
      "Warning message in fread(paste(\"/ye/yelabstore3/10x.lupus/eqtls/v5.full.\", c, \".blind.expr.txt\", :\n",
      "“Detected 206 column names but the data has 207 columns (i.e. invalid file). Added 1 extra default column name for the first column which is guessed to be row names or an index. Use setnames() afterwards if this guess is not correct, or fix the file write command that created the file to create a valid file.”"
     ]
    },
    {
     "name": "stdout",
     "output_type": "stream",
     "text": [
      "[1] \"cDC\"\n"
     ]
    },
    {
     "name": "stderr",
     "output_type": "stream",
     "text": [
      "Warning message in fread(paste(\"/ye/yelabstore3/10x.lupus/eqtls/v5.full.\", c, \".blind.expr.txt\", :\n",
      "“Detected 206 column names but the data has 207 columns (i.e. invalid file). Added 1 extra default column name for the first column which is guessed to be row names or an index. Use setnames() afterwards if this guess is not correct, or fix the file write command that created the file to create a valid file.”"
     ]
    },
    {
     "name": "stdout",
     "output_type": "stream",
     "text": [
      "[1] \"MK\"\n"
     ]
    },
    {
     "name": "stderr",
     "output_type": "stream",
     "text": [
      "Warning message in fread(paste(\"/ye/yelabstore3/10x.lupus/eqtls/v5.full.\", c, \".blind.expr.txt\", :\n",
      "“Detected 206 column names but the data has 207 columns (i.e. invalid file). Added 1 extra default column name for the first column which is guessed to be row names or an index. Use setnames() afterwards if this guess is not correct, or fix the file write command that created the file to create a valid file.”"
     ]
    },
    {
     "name": "stdout",
     "output_type": "stream",
     "text": [
      "[1] \"NK\"\n"
     ]
    },
    {
     "name": "stderr",
     "output_type": "stream",
     "text": [
      "Warning message in fread(paste(\"/ye/yelabstore3/10x.lupus/eqtls/v5.full.\", c, \".blind.expr.txt\", :\n",
      "“Detected 206 column names but the data has 207 columns (i.e. invalid file). Added 1 extra default column name for the first column which is guessed to be row names or an index. Use setnames() afterwards if this guess is not correct, or fix the file write command that created the file to create a valid file.”"
     ]
    },
    {
     "name": "stdout",
     "output_type": "stream",
     "text": [
      "[1] \"PBMC\"\n"
     ]
    },
    {
     "name": "stderr",
     "output_type": "stream",
     "text": [
      "Warning message in fread(paste(\"/ye/yelabstore3/10x.lupus/eqtls/v5.full.\", c, \".blind.expr.txt\", :\n",
      "“Detected 206 column names but the data has 207 columns (i.e. invalid file). Added 1 extra default column name for the first column which is guessed to be row names or an index. Use setnames() afterwards if this guess is not correct, or fix the file write command that created the file to create a valid file.”"
     ]
    },
    {
     "name": "stdout",
     "output_type": "stream",
     "text": [
      "[1] \"genotypes\"\n"
     ]
    },
    {
     "data": {
      "text/html": [
       "<strong>png:</strong> 2"
      ],
      "text/latex": [
       "\\textbf{png:} 2"
      ],
      "text/markdown": [
       "**png:** 2"
      ],
      "text/plain": [
       "png \n",
       "  2 "
      ]
     },
     "metadata": {},
     "output_type": "display_data"
    }
   ],
   "source": [
    "# df=getQTLData(1, 161478810, 'HSPA6')\n",
    "\n",
    "# pdf(paste('figures/HSPA6.pdf', sep=''), width=11, height=3,useDingbats=F)\n",
    "# plt=ggplot(df[df$disease=='SLE', ], aes(x=as.factor(genotype), y=expr, fill=disease)) + geom_boxplot(position='dodge', outlier.colour = NA)+ scale_fill_brewer(palette=\"Set2\") + facet_wrap( ~ cell+label+ct_label, scales=\"free\", nrow=1 ) + theme_bw()  + theme(legend.position=\"none\")\n",
    "# print(plt)\n",
    "# dev.off()\n",
    "# #print(plt)\n",
    "\n",
    "\n",
    "df.icam3=getQTLData(19, 10449358, 'ICAM3')\n",
    "\n",
    "pdf(paste('figures/ICAM3.pdf', sep=''), width=11, height=3,useDingbats=F)\n",
    "print(plt)\n",
    "plt=ggplot(df.icam3[df.icam3$disease=='SLE', ], aes(x=as.factor(genotype), y=expr, fill=disease)) + geom_boxplot(position='dodge', outlier.colour = NA)+ scale_fill_brewer(palette=\"Set2\") + facet_wrap( ~ cell+label+ct_label, scales=\"free\", nrow=1 ) + theme_bw()  + theme(legend.position=\"none\")\n",
    "dev.off()\n",
    "\n",
    "\n",
    "#IFN interaction\n",
    "# plt=ggplot(df[df$disease=='SLE', ], aes(x=ifn, y=expr, color=as.factor(genotype)))+ geom_point() + facet_wrap( ~ cell , nrow=1, scales='free') + theme_bw() + scale_color_brewer(palette=\"Set2\") + theme(legend.position=\"none\") + geom_smooth(method='lm', se=FALSE)\n",
    "# #plt=plt+xlab(paste(chr, pos))\n",
    "# print(plt)"
   ]
  },
  {
   "cell_type": "code",
   "execution_count": 7,
   "metadata": {},
   "outputs": [
    {
     "data": {
      "image/png": "[encoded data removed]",
      "text/plain": [
       "plot without title"
      ]
     },
     "metadata": {},
     "output_type": "display_data"
    }
   ],
   "source": [
    "print(plt)"
   ]
  }
 ],
 "metadata": {
  "kernelspec": {
   "display_name": "R",
   "language": "R",
   "name": "ir"
  },
  "language_info": {
   "codemirror_mode": "r",
   "file_extension": ".r",
   "mimetype": "text/x-r-source",
   "name": "R",
   "pygments_lexer": "r",
   "version": "3.5.1"
  }
 },
 "nbformat": 4,
 "nbformat_minor": 2
}
