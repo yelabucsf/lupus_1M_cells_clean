{
 "cells": [
  {
   "cell_type": "code",
   "execution_count": 16,
   "metadata": {},
   "outputs": [],
   "source": [
    "## doublet tuning results"
   ]
  },
  {
   "cell_type": "code",
   "execution_count": 17,
   "metadata": {},
   "outputs": [],
   "source": [
    "import sys\n",
    "import seaborn as sb\n",
    "import scanpy.api as sc\n",
    "import pandas as pd\n",
    "import numpy as np\n",
    "import matplotlib.pyplot as plt\n",
    "import statsmodels.api as sm\n",
    "import statsmodels.formula.api as smf\n",
    "import argparse\n",
    "import gc\n",
    "\n",
    "%matplotlib inline"
   ]
  },
  {
   "cell_type": "code",
   "execution_count": 18,
   "metadata": {},
   "outputs": [
    {
     "name": "stderr",
     "output_type": "stream",
     "text": [
      "Variable names are not unique. To make them unique, call `.var_names_make_unique`.\n"
     ]
    }
   ],
   "source": [
    "adata2_v3 = sc.read(\"/Users/yechun/Downloads/DoubletDetectorTuning/Batch_10.h5ad\", cache=True)\n",
    "total_v3 = adata2_v3.obs.groupby(\"ct_cov\")[\"disease_cov\"].count();"
   ]
  },
  {
   "cell_type": "code",
   "execution_count": 29,
   "metadata": {},
   "outputs": [
    {
     "name": "stderr",
     "output_type": "stream",
     "text": [
      "Variable names are not unique. To make them unique, call `.var_names_make_unique`.\n"
     ]
    }
   ],
   "source": [
    "adata2_v4 = sc.read(\"/Users/yechun/Downloads/DoubletDetectorTuning/Batch_V4_10.h5ad\", cache=True)\n",
    "total_v4 = adata2_v4.obs.groupby(\"ct_cov\")[\"disease_cov\"].count();"
   ]
  },
  {
   "cell_type": "code",
   "execution_count": 30,
   "metadata": {},
   "outputs": [
    {
     "data": {
      "text/plain": [
       "ct_cov\n",
       "B cells               7675\n",
       "CD4 T cells          17018\n",
       "CD8 T cells           9005\n",
       "CD14+ Monocytes      21246\n",
       "Dendritic cells       1289\n",
       "FCGR3A+ Monocytes     3712\n",
       "Megakaryocytes        2220\n",
       "NK cells              5730\n",
       "Name: disease_cov, dtype: int64"
      ]
     },
     "execution_count": 30,
     "metadata": {},
     "output_type": "execute_result"
    }
   ],
   "source": [
    "total_v4"
   ]
  },
  {
   "cell_type": "code",
   "execution_count": 33,
   "metadata": {},
   "outputs": [
    {
     "name": "stderr",
     "output_type": "stream",
     "text": [
      "Variable names are not unique. To make them unique, call `.var_names_make_unique`.\n",
      "Variable names are not unique. To make them unique, call `.var_names_make_unique`.\n",
      "Variable names are not unique. To make them unique, call `.var_names_make_unique`.\n",
      "Variable names are not unique. To make them unique, call `.var_names_make_unique`.\n",
      "Variable names are not unique. To make them unique, call `.var_names_make_unique`.\n",
      "Variable names are not unique. To make them unique, call `.var_names_make_unique`.\n",
      "Variable names are not unique. To make them unique, call `.var_names_make_unique`.\n",
      "Variable names are not unique. To make them unique, call `.var_names_make_unique`.\n",
      "Variable names are not unique. To make them unique, call `.var_names_make_unique`.\n"
     ]
    }
   ],
   "source": [
    "df = pd.DataFrame()\n",
    "df2 = pd.DataFrame()\n",
    "\n",
    "##for th in [\"05\",\"07\",\"10\",\"25\",\"50\"] :\n",
    "for th in [\"10\",\"25\",\"50\"] :\n",
    "    for vote in [\"0.1\", \"0.3\", \"0.5\"] :\n",
    "        adata = sc.read(\"/Users/yechun/Downloads/DoubletDetectorTuning/\"+\"YE_8-23_vote-\"+vote+\"_pthres-1e-\"+th+\".h5ad\", cache=True)\n",
    "        adata = adata[adata2_v4.obs.index & adata.obs.index]\n",
    "        a = adata.obs.groupby(\"ct_cov\")[\"disease_cov\"].count();\n",
    "        df[th+\"_\"+vote] = a/total_v4\n",
    "        df2[th+\"_\"+vote] = a"
   ]
  },
  {
   "cell_type": "code",
   "execution_count": 44,
   "metadata": {},
   "outputs": [
    {
     "data": {
      "text/plain": [
       "3134"
      ]
     },
     "execution_count": 44,
     "metadata": {},
     "output_type": "execute_result"
    }
   ],
   "source": [
    "sum(total_v4)-sum(df2[\"50_0.5\"])"
   ]
  },
  {
   "cell_type": "code",
   "execution_count": 43,
   "metadata": {},
   "outputs": [
    {
     "data": {
      "text/plain": [
       "0.9538404889903528"
      ]
     },
     "execution_count": 43,
     "metadata": {},
     "output_type": "execute_result"
    }
   ],
   "source": [
    "sum(df2[\"50_0.5\"])/sum(total_v4)"
   ]
  }
 ],
 "metadata": {
  "kernelspec": {
   "display_name": "Python 3",
   "language": "python",
   "name": "python3"
  },
  "language_info": {
   "codemirror_mode": {
    "name": "ipython",
    "version": 3
   },
   "file_extension": ".py",
   "mimetype": "text/x-python",
   "name": "python",
   "nbconvert_exporter": "python",
   "pygments_lexer": "ipython3",
   "version": "3.6.8"
  }
 },
 "nbformat": 4,
 "nbformat_minor": 2
}
