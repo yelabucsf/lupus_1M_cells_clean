{
 "cells": [
  {
   "cell_type": "markdown",
   "metadata": {},
   "source": [
    "# Import what we need"
   ]
  },
  {
   "cell_type": "code",
   "execution_count": 1,
   "metadata": {},
   "outputs": [],
   "source": [
    "import sys\n",
    "import numpy as np\n",
    "import pandas as pd\n",
    "import scanpy.api as sc\n",
    "import anndata as ad\n",
    "from scipy.sparse import csr_matrix\n",
    "import logging\n",
    "import os\n",
    "import matplotlib.pyplot as plt\n",
    "import seaborn as sns\n",
    "import csv\n",
    "import scipy.stats as stats\n",
    "import statsmodels.formula.api as smf\n",
    "import statsmodels.api as sm\n",
    "import math\n",
    "import gc\n",
    "import random"
   ]
  },
  {
   "cell_type": "markdown",
   "metadata": {},
   "source": [
    "The current input file is /ye/yelabstore3/Richard/PlottingScripts/ez_scanpy/CLUESImmVar_processed.h5ad with a time stamp of 01/03/2019"
   ]
  },
  {
   "cell_type": "code",
   "execution_count": 2,
   "metadata": {
    "scrolled": true
   },
   "outputs": [],
   "source": [
    "%matplotlib inline\n",
    "\n",
    "##################\n",
    "# Configure file #\n",
    "##################\n",
    "sc.settings.verbosity = 2\n",
    "sc.settings.autoshow = False\n",
    "##logging.basicConfig(filename=\"CLUESImmVar_processed.V4.1.log\", level=logging.ERROR)\n",
    "sc.settings.set_figure_params(dpi=100, dpi_save=600, format='png')\n",
    "\n",
    "plt.rcParams[\"image.aspect\"] = \"equal\"\n",
    "##%matplotlib inline"
   ]
  },
  {
   "cell_type": "markdown",
   "metadata": {},
   "source": [
    "# Read in the data, this could take a while"
   ]
  },
  {
   "cell_type": "code",
   "execution_count": 3,
   "metadata": {},
   "outputs": [
    {
     "name": "stdout",
     "output_type": "stream",
     "text": [
      "../../../../../../../Downloads/CLUESImmVar_nonorm.V4.1.h5ad\n",
      "WARNING: Your filename has more than two extensions: ['.V4', '.1', '.h5ad'].\n",
      "Only considering the two last: ['.1', '.h5ad'].\n",
      "WARNING: Your filename has more than two extensions: ['.V4', '.1', '.h5ad'].\n",
      "Only considering the two last: ['.1', '.h5ad'].\n"
     ]
    },
    {
     "data": {
      "text/plain": [
       "(834096, 32738)"
      ]
     },
     "execution_count": 3,
     "metadata": {},
     "output_type": "execute_result"
    }
   ],
   "source": [
    "dirpath = os.getcwd()\n",
    "name = \"CLUESImmVar_nonorm.V4.1\"\n",
    "##processed_path = \"/Users/yechun/Downloads/\"+name+\".h5ad\"\n",
    "processed_path = os.readlink(name+'.h5ad');\n",
    "# processed_path = os.path.normpath(processed_path)\n",
    "print(processed_path)\n",
    "adata = sc.read(processed_path, cache=True)\n",
    "##adata = sc.read(processed_path)\n",
    "adata.shape"
   ]
  },
  {
   "cell_type": "markdown",
   "metadata": {},
   "source": [
    "# Make some diagnostic plots"
   ]
  },
  {
   "cell_type": "code",
   "execution_count": 4,
   "metadata": {},
   "outputs": [
    {
     "name": "stderr",
     "output_type": "stream",
     "text": [
      "/Users/yimmieg/anaconda3/lib/python3.6/site-packages/ipykernel_launcher.py:25: SettingWithCopyWarning: \n",
      "A value is trying to be set on a copy of a slice from a DataFrame\n",
      "\n",
      "See the caveats in the documentation: http://pandas.pydata.org/pandas-docs/stable/indexing.html#indexing-view-versus-copy\n",
      "/Users/yimmieg/anaconda3/lib/python3.6/site-packages/ipykernel_launcher.py:26: SettingWithCopyWarning: \n",
      "A value is trying to be set on a copy of a slice from a DataFrame\n",
      "\n",
      "See the caveats in the documentation: http://pandas.pydata.org/pandas-docs/stable/indexing.html#indexing-view-versus-copy\n",
      "/Users/yimmieg/anaconda3/lib/python3.6/site-packages/ipykernel_launcher.py:27: SettingWithCopyWarning: \n",
      "A value is trying to be set on a copy of a slice from a DataFrame\n",
      "\n",
      "See the caveats in the documentation: http://pandas.pydata.org/pandas-docs/stable/indexing.html#indexing-view-versus-copy\n",
      "/Users/yimmieg/anaconda3/lib/python3.6/site-packages/ipykernel_launcher.py:37: SettingWithCopyWarning: \n",
      "A value is trying to be set on a copy of a slice from a DataFrame\n",
      "\n",
      "See the caveats in the documentation: http://pandas.pydata.org/pandas-docs/stable/indexing.html#indexing-view-versus-copy\n",
      "/Users/yimmieg/anaconda3/lib/python3.6/site-packages/ipykernel_launcher.py:34: SettingWithCopyWarning: \n",
      "A value is trying to be set on a copy of a slice from a DataFrame\n",
      "\n",
      "See the caveats in the documentation: http://pandas.pydata.org/pandas-docs/stable/indexing.html#indexing-view-versus-copy\n"
     ]
    }
   ],
   "source": [
    "adata.obs['well'] = adata.obs['well'].astype('category')\n",
    "adata.var_names_make_unique()\n",
    "logging.info(str('Data structure details: ' + str(adata)))\n",
    "logging.info('Removing Erythrocytes.')\n",
    "mat = csr_matrix(adata.X)\n",
    "mat = mat[:, adata.var_names.isin(['HBB'])].todense()\n",
    "adata = adata[np.ravel(mat <= 1)]\n",
    "logging.info(str('Data structure details: ' + str(adata)))\n",
    "# Extract list of genes                                                                                                                                                          \n",
    "genelist = adata.var_names.tolist()\n",
    "# Find mitochondrial genes                                                                                                                                                       \n",
    "mito_genes_names = [gn for gn in genelist if gn.startswith('MT-')]\n",
    "logging.info(str('Mito genes: ' + str(mito_genes_names)))\n",
    "# Find indices of mitochondrial genes                                                                                                                                            \n",
    "mito_genes = [genelist.index(gn) for gn in mito_genes_names]\n",
    "# For each cell compute fraction of counts in mito genes vs. all genes                                                                                                           \n",
    "adata.obs['percent_mito'] = np.ravel(np.sum(adata[:, mito_genes].X, axis=1)) / np.ravel(np.sum(adata.X, axis=1))\n",
    "# Add the total counts per cell as observations-annotation to adata                                                                                                              \n",
    "adata.obs['n_counts'] = np.ravel(adata.X.sum(axis=1))\n",
    "# Clinical variates                                                                                                                                                              \n",
    "diseasecovpath = 'v2.clinical.data.txt'\n",
    "clinic_cov = pd.read_csv(diseasecovpath, sep=\"\\t\")\n",
    "# Fix name to make it compatible with clinical variates                                                                                                                          \n",
    "adata.obs['ind_cov'] = adata.obs['ind_cov'].astype('object')\n",
    "adata.obs['ind_cov'][adata.obs['ind_cov'].isin(['1221'])] = '1221_1221'\n",
    "adata.obs['ind_cov'][adata.obs['ind_cov'].isin(['1251'])] = '1251_1251'\n",
    "adata.obs['ind_cov'][adata.obs['ind_cov'].isin(['1891'])] = '1891_1891'\n",
    "indlist = np.unique(np.asarray(adata.obs['ind_cov'].tolist()))\n",
    "# Add SLEDAI scores as covariate                                                                                                                                                 \n",
    "logging.info('Add SLEDAI scores as a covariate.')\n",
    "adata.obs['SLEDAI'] = adata.obs['ind_cov'].tolist()\n",
    "for ii in range(len(indlist)):\n",
    "    if adata.obs['disease_cov'][adata.obs['ind_cov'] == indlist[ii]][0] == 'healthy':\n",
    "        adata.obs['SLEDAI'][adata.obs['ind_cov'] == indlist[ii]] = '0'\n",
    "    else:\n",
    "        score = clinic_cov['sledaiscore'][clinic_cov['genotypeid'].isin([indlist[ii]])].values.tolist()[0]\n",
    "        adata.obs['SLEDAI'][adata.obs['ind_cov'] == indlist[ii]] = str(score)\n",
    "\n",
    "logging.info('Add whether or not sequencing was performed at the Broad Institute as a covariate.')\n",
    "# Get list of batches                                                                                                                                                            \n",
    "batch_list = adata.obs['batch_cov'].tolist()\n",
    "# Preallocate int array w/ size of batch_cov                                                                                                                                     \n",
    "broad = np.zeros_like(np.asarray(batch_list))\n",
    "# if immvar is in batch name, assign 1.                                                                                                                                          \n",
    "for ii in range(len(batch_list)):\n",
    "    if 'immvar' in batch_list[ii]:\n",
    "        broad[ii] = 1\n",
    "    else:\n",
    "        broad[ii] = 0\n",
    "# Make obs for Broad indication                                                                                                                                                  \n",
    "adata.obs['Broad'] = np.asarray(broad, dtype=np.float32)\n",
    "\n",
    "logging.info('Add gender as a covariate.')\n",
    "individuals_list = adata.obs['ind_cov'].tolist()\n",
    "female = np.zeros_like(np.asarray(individuals_list))\n",
    "for ii in range(len(individuals_list)):\n",
    "    if 'IGT' in individuals_list[ii]:\n",
    "        female[ii] = 1\n",
    "    else:\n",
    "        if clinic_cov['female'][clinic_cov['genotypeid'].isin([individuals_list[ii]])].values.tolist()[0] == 1:\n",
    "            female[ii] = 1\n",
    "        else:\n",
    "            female[ii] = 0\n",
    "# Make obs for Broad indication                                                                                                                                                  \n",
    "adata.obs['Female'] = np.asarray(female, dtype=np.float32)\n"
   ]
  },
  {
   "cell_type": "code",
   "execution_count": 5,
   "metadata": {},
   "outputs": [
    {
     "name": "stdout",
     "output_type": "stream",
     "text": [
      "filtered out 1828 cells that have more than  2500 genes expressed\n"
     ]
    },
    {
     "name": "stderr",
     "output_type": "stream",
     "text": [
      "... storing 'ind_cov' as categorical\n",
      "... storing 'SLEDAI' as categorical\n"
     ]
    }
   ],
   "source": [
    "logging.info('Filtering cells')\n",
    "# Filter cells that have more than 10% of counts coming from mitochondrial genes.                                                                                                \n",
    "adata = adata[adata.obs['percent_mito'] < 0.10]\n",
    "logging.info(str('Data structure details: ' + str(adata)))\n",
    "# Filter cells with abnormally low gene counts, high gene counts.                                                                                                                \n",
    "sc.pp.filter_cells(adata, min_genes=100)\n",
    "sc.pp.filter_cells(adata, max_genes=2500)\n",
    "##sc.pp.filter_genes(adata, min_cells=3)                                                                                                                                         \n",
    "logging.info(str('Data structure details: ' + str(adata)))\n",
    "logging.info('Saving raw counts')\n",
    "adata.uns['barcodes'] = adata.obs_names.tolist()\n",
    "adata.uns['genes'] = adata.var_names.tolist()\n",
    "adata.uns['raw_counts'] = adata.X\n",
    "logging.info('Normalizing total counts to 10,000')\n",
    "sc.pp.normalize_per_cell(adata, counts_per_cell_after=1e4)\n",
    "logging.info('Log transforming data')\n",
    "sc.pp.log1p(adata)\n",
    "logging.info('Saving log(counts)+1 in .raw')\n",
    "adata.raw = adata\n",
    "# Add platelet genes for purposes of regressing out their signature                                                                                                              \n",
    "adata.obs['PF4'] = adata.raw[:,\"PF4\"].X\n",
    "adata.obs['SDPR'] = adata.raw[:,\"SDPR\"].X\n",
    "adata.obs['GNG11'] = adata.raw[:,\"GNG11\"].X\n",
    "adata.obs['PPBP'] = adata.raw[:,\"PPBP\"].X\n",
    "logging.info('Making .obs into categories')\n",
    "adata.strings_to_categoricals()\n",
    "logging.info('Filtering genes')\n",
    "sc.pp.highly_variable_genes(adata, min_mean=0.0125, max_mean=3, min_disp=0.5)\n",
    "adata = adata[:, adata.var['highly_variable']]\n"
   ]
  },
  {
   "cell_type": "code",
   "execution_count": 6,
   "metadata": {},
   "outputs": [],
   "source": [
    "sc.pp.scale(adata, max_value=10)"
   ]
  },
  {
   "cell_type": "code",
   "execution_count": 7,
   "metadata": {},
   "outputs": [
    {
     "data": {
      "text/plain": [
       "(819878, 1441)"
      ]
     },
     "execution_count": 7,
     "metadata": {},
     "output_type": "execute_result"
    }
   ],
   "source": [
    "adata.shape"
   ]
  },
  {
   "cell_type": "code",
   "execution_count": 8,
   "metadata": {},
   "outputs": [],
   "source": [
    "# Set parameters                                                                                                                                                                 \n",
    "intialization = 1\n",
    "n_components = 20\n",
    "resolution = 1.5\n",
    "# Run louvain clustering on theoretical future gene expression per cell                                                                                                          \n",
    "logging.info('Estimating louvain cluster identities for gene expression values.')\n",
    "sc.pp.pca(adata, random_state=intialization, svd_solver='arpack')\n",
    "logging.info('PCA complete.')"
   ]
  },
  {
   "cell_type": "code",
   "execution_count": 94,
   "metadata": {},
   "outputs": [
    {
     "data": {
      "text/plain": [
       "range(0, 50)"
      ]
     },
     "execution_count": 94,
     "metadata": {},
     "output_type": "execute_result"
    }
   ],
   "source": [
    "range(len(adata.obsm.X_pca[1,:]))"
   ]
  },
  {
   "cell_type": "code",
   "execution_count": 119,
   "metadata": {},
   "outputs": [
    {
     "name": "stdout",
     "output_type": "stream",
     "text": [
      "0.0043551612816462425\n",
      "-0.0395589601939156\n",
      "0.20890597830186022\n",
      "0.579017579454677\n",
      "-0.021620188679262825\n",
      "-0.06664892388102102\n",
      "-0.013575431049236926\n",
      "0.02903849116504073\n",
      "-0.01623915444221783\n",
      "-0.007037487899329796\n",
      "-0.14412965931015334\n",
      "0.0505164052491921\n",
      "-0.1885876268246031\n",
      "0.001604263454384873\n",
      "-0.13461067179368505\n",
      "0.014686972343506686\n",
      "-0.006914694820190294\n",
      "0.02207047955482304\n",
      "0.032353061686525145\n",
      "-0.021350897030112212\n",
      "0.0019244482146279448\n",
      "0.0013385091395880014\n",
      "0.020077449327232714\n",
      "0.0313720099901557\n",
      "-0.0043613682837919335\n",
      "-0.09429075415715553\n",
      "0.002683958834981519\n",
      "-0.137769737980755\n",
      "-0.13634979088351595\n",
      "0.021091566680917002\n",
      "0.027503962511749327\n",
      "-0.05576058362921118\n",
      "-0.013783504727268152\n",
      "0.01050430014974276\n",
      "0.014220158061359057\n",
      "-0.03905411364785942\n",
      "0.009826017810805249\n",
      "-0.022870620548632176\n",
      "-0.008646063947974871\n",
      "0.0015313947500116669\n",
      "-0.0038085694224131174\n",
      "-0.0161096559936687\n",
      "-0.030789993922859728\n",
      "-0.017105646548635087\n",
      "0.017002356403954207\n",
      "0.02507583761497021\n",
      "0.018742055024368903\n",
      "-0.015351813386201486\n",
      "0.003547912539586825\n",
      "0.02123921590740531\n"
     ]
    }
   ],
   "source": [
    "to_remove = pd.Series()\n",
    "for ii in range(len(adata.obsm.X_pca[1,:])) :\n",
    "        print(np.corrcoef(adata.obsm.X_pca[:,ii], adata.obs[\"PF4\"])[0,1])\n",
    "        if(np.corrcoef(adata.obsm.X_pca[:,ii], adata.obs[\"PF4\"])[0,1] > 0.2):\n",
    "            adata.obs[\"PC\"+str(ii)] = adata.obsm.X_pca[:,ii];\n",
    "            to_remove = to_remove.append(pd.Series([\"PC\"+str(ii)]))\n"
   ]
  },
  {
   "cell_type": "code",
   "execution_count": 136,
   "metadata": {},
   "outputs": [
    {
     "ename": "AttributeError",
     "evalue": "'numpy.ndarray' object has no attribute 'list'",
     "output_type": "error",
     "traceback": [
      "\u001b[0;31m---------------------------------------------------------------------------\u001b[0m",
      "\u001b[0;31mAttributeError\u001b[0m                            Traceback (most recent call last)",
      "\u001b[0;32m<ipython-input-136-a911744c57be>\u001b[0m in \u001b[0;36m<module>\u001b[0;34m\u001b[0m\n\u001b[0;32m----> 1\u001b[0;31m \u001b[0mto_remove\u001b[0m\u001b[0;34m.\u001b[0m\u001b[0mvalues\u001b[0m\u001b[0;34m.\u001b[0m\u001b[0mlist\u001b[0m\u001b[0;34m(\u001b[0m\u001b[0;34m)\u001b[0m\u001b[0;34m\u001b[0m\u001b[0;34m\u001b[0m\u001b[0m\n\u001b[0m",
      "\u001b[0;31mAttributeError\u001b[0m: 'numpy.ndarray' object has no attribute 'list'"
     ]
    }
   ],
   "source": [
    "to_remove.values"
   ]
  },
  {
   "cell_type": "code",
   "execution_count": 76,
   "metadata": {},
   "outputs": [],
   "source": [
    "adata.obs['IFI44'] = adata.raw[:,\"IFI44\"].X"
   ]
  },
  {
   "cell_type": "code",
   "execution_count": 88,
   "metadata": {},
   "outputs": [
    {
     "data": {
      "text/plain": [
       "array([[1.        , 0.20890598],\n",
       "       [0.20890598, 1.        ]])"
      ]
     },
     "execution_count": 88,
     "metadata": {},
     "output_type": "execute_result"
    }
   ],
   "source": [
    "np.corrcoef(adata.obsm.X_pca[:,2], adata.obs[\"PF4\"])"
   ]
  },
  {
   "cell_type": "code",
   "execution_count": 139,
   "metadata": {},
   "outputs": [
    {
     "data": {
      "text/plain": [
       "['PC2', 'PC3']"
      ]
     },
     "execution_count": 139,
     "metadata": {},
     "output_type": "execute_result"
    }
   ],
   "source": [
    "to_remove.tolist()"
   ]
  },
  {
   "cell_type": "code",
   "execution_count": 137,
   "metadata": {},
   "outputs": [],
   "source": [
    "blah = ['n_counts', 'percent_mito', 'Female', 'Broad']"
   ]
  },
  {
   "cell_type": "code",
   "execution_count": 138,
   "metadata": {},
   "outputs": [
    {
     "data": {
      "text/plain": [
       "list"
      ]
     },
     "execution_count": 138,
     "metadata": {},
     "output_type": "execute_result"
    }
   ],
   "source": [
    "type(blah)"
   ]
  },
  {
   "cell_type": "code",
   "execution_count": 144,
   "metadata": {},
   "outputs": [
    {
     "data": {
      "text/plain": [
       "['n_counts', 'percent_mito', 'Female', 'Broad', ['PC2', 'PC3'], 'PC2', 'PC3']"
      ]
     },
     "execution_count": 144,
     "metadata": {},
     "output_type": "execute_result"
    }
   ],
   "source": [
    "blah+to_remove.tolist()"
   ]
  },
  {
   "cell_type": "code",
   "execution_count": 141,
   "metadata": {},
   "outputs": [
    {
     "data": {
      "text/plain": [
       "['n_counts', 'percent_mito', 'Female', 'Broad', ['PC2', 'PC3']]"
      ]
     },
     "execution_count": 141,
     "metadata": {},
     "output_type": "execute_result"
    }
   ],
   "source": [
    "blah"
   ]
  }
 ],
 "metadata": {
  "kernelspec": {
   "display_name": "Python 3",
   "language": "python",
   "name": "python3"
  },
  "language_info": {
   "codemirror_mode": {
    "name": "ipython",
    "version": 3
   },
   "file_extension": ".py",
   "mimetype": "text/x-python",
   "name": "python",
   "nbconvert_exporter": "python",
   "pygments_lexer": "ipython3",
   "version": "3.6.8"
  },
  "toc-autonumbering": true,
  "toc-showcode": false,
  "toc-showmarkdowntxt": true,
  "toc-showtags": false
 },
 "nbformat": 4,
 "nbformat_minor": 2
}
