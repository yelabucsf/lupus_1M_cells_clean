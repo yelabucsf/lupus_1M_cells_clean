{
 "cells": [
  {
   "cell_type": "markdown",
   "metadata": {},
   "source": [
    "# Import what we need"
   ]
  },
  {
   "cell_type": "code",
   "execution_count": 1,
   "metadata": {},
   "outputs": [],
   "source": [
    "import sys\n",
    "import numpy as np\n",
    "import pandas as pd\n",
    "import scanpy.api as sc\n",
    "import anndata as ad\n",
    "from scipy.sparse import csr_matrix\n",
    "import logging\n",
    "import os\n",
    "import matplotlib.pyplot as plt\n",
    "import seaborn as sns\n",
    "import csv\n",
    "import scipy.stats as stats\n",
    "import statsmodels.formula.api as smf\n",
    "import statsmodels.api as sm\n",
    "import math\n",
    "import gc"
   ]
  },
  {
   "cell_type": "markdown",
   "metadata": {},
   "source": [
    "The current input file is /ye/yelabstore3/Richard/PlottingScripts/ez_scanpy/CLUESImmVar_processed.regressMK4Gene.h5ad with a time stamp of 01/03/2019"
   ]
  },
  {
   "cell_type": "code",
   "execution_count": 2,
   "metadata": {
    "scrolled": true
   },
   "outputs": [
    {
     "name": "stdout",
     "output_type": "stream",
     "text": [
      "../../../../../../../Downloads/CLUESImmVar_processed.regressMK4Gene.h5ad\n"
     ]
    }
   ],
   "source": [
    "##################\n",
    "# Configure file #\n",
    "##################\n",
    "sc.settings.verbosity = 2\n",
    "sc.settings.autoshow = False\n",
    "logging.basicConfig(level=logging.INFO)\n",
    "sc.settings.set_figure_params(dpi_save=600, format='png')\n",
    "\n",
    "plt.switch_backend('agg')\n",
    "\n",
    "dirpath = os.getcwd()\n",
    "name = \"CLUESImmVar_processed.regressMK4Gene\"\n",
    "##processed_path = \"/Users/yimmieg/Downloads/\"+name+\".h5ad\"\n",
    "processed_path = os.readlink(name+'.h5ad');\n",
    "# processed_path = os.path.normpath(processed_path)\n",
    "print(processed_path)"
   ]
  },
  {
   "cell_type": "markdown",
   "metadata": {},
   "source": [
    "# Read in the data, this could take a while"
   ]
  },
  {
   "cell_type": "code",
   "execution_count": 3,
   "metadata": {},
   "outputs": [],
   "source": [
    "# Convenience method for computing the size of objects\n",
    "def print_size_in_MB(x):\n",
    "    print('{:.3} MB'.format(x.__sizeof__()/1e6))"
   ]
  },
  {
   "cell_type": "code",
   "execution_count": 4,
   "metadata": {
    "scrolled": true
   },
   "outputs": [
    {
     "name": "stdout",
     "output_type": "stream",
     "text": [
      "4.68e+03 MB\n"
     ]
    }
   ],
   "source": [
    "## this will run it on the data with platelets\n",
    "adata = sc.read(processed_path, cache=False)\n",
    "print_size_in_MB(adata)"
   ]
  },
  {
   "cell_type": "code",
   "execution_count": null,
   "metadata": {
    "scrolled": false
   },
   "outputs": [
    {
     "name": "stdout",
     "output_type": "stream",
     "text": [
      "2.4e+03 MB\n"
     ]
    },
    {
     "data": {
      "text/plain": [
       "243"
      ]
     },
     "execution_count": 5,
     "metadata": {},
     "output_type": "execute_result"
    }
   ],
   "source": [
    "adata._X = adata._X.astype(np.float16, copy=False)\n",
    "adata._X.nbytes\n",
    "adata.shape\n",
    "print_size_in_MB(adata)\n",
    "gc.collect()"
   ]
  },
  {
   "cell_type": "code",
   "execution_count": null,
   "metadata": {},
   "outputs": [
    {
     "data": {
      "text/plain": [
       "(784735, 1454)"
      ]
     },
     "execution_count": 6,
     "metadata": {},
     "output_type": "execute_result"
    }
   ],
   "source": [
    "adata.shape"
   ]
  },
  {
   "cell_type": "code",
   "execution_count": null,
   "metadata": {
    "scrolled": false
   },
   "outputs": [],
   "source": [
    "## filter for 901015200_901015200 which has 11 cells\n",
    "## also filter for IGTB1906 YE_8-30 which has very few cells as well\n",
    "\n",
    "adata = adata[adata.obs.ind_cov != \"901015200_901015200\"]\n",
    "adata = adata[~((adata.obs.ind_cov == \"IGTB1906\") & (adata.obs.batch_cov == \"YE_0831\"))]\n",
    "adata.shape"
   ]
  },
  {
   "cell_type": "code",
   "execution_count": null,
   "metadata": {},
   "outputs": [],
   "source": [
    "## remove samples that were processed twice and get rid of their 1.10 run\n",
    "remove = ['902289200_902289200', '1262_1262', '1270_1270', '1279_1279']\n",
    "adata = adata.copy()\n",
    "adata = adata[~((adata.obs.ind_cov.isin(remove)) & (adata.obs.batch_cov == \"lupus1.10\"))]\n",
    "adata.shape"
   ]
  },
  {
   "cell_type": "code",
   "execution_count": null,
   "metadata": {},
   "outputs": [],
   "source": [
    "# # ## make a copy since repeated subsetting is buggy for now\n",
    "# adata2 = adata.copy()\n",
    "# # ## for now also ignore 1/10\n",
    "# adata2 = adata2[adata2.obs.batch_cov == \"lupus1.10\"]\n",
    "\n",
    "# adata3 = adata.copy()\n",
    "# adata3 = adata3[adata3.obs.batch_cov == \"lupus7.26\"]\n",
    "\n",
    "# adata4 = adata.copy()\n",
    "# adata4 = adata4[adata4.obs.batch_cov == \"lupus7.13\"]\n",
    "# # adata.shape"
   ]
  },
  {
   "cell_type": "markdown",
   "metadata": {},
   "source": [
    "# Make some diagnostic plots"
   ]
  },
  {
   "cell_type": "code",
   "execution_count": null,
   "metadata": {},
   "outputs": [],
   "source": [
    "%matplotlib inline"
   ]
  },
  {
   "cell_type": "code",
   "execution_count": null,
   "metadata": {
    "scrolled": true
   },
   "outputs": [],
   "source": [
    "##sc.pl.tsne(adata, color='louvain')\n",
    "##sc.pl.tsne(adata, color='batch_cov')\n",
    "sc.pl.umap(adata, color='louvain')\n",
    "sc.pl.umap(adata, color='batch_cov')"
   ]
  },
  {
   "cell_type": "code",
   "execution_count": null,
   "metadata": {},
   "outputs": [],
   "source": [
    "sc.pl.tsne(adata, color='louvain')\n",
    "sc.pl.tsne(adata, color='batch_cov')"
   ]
  },
  {
   "cell_type": "markdown",
   "metadata": {
    "toc-hr-collapsed": false
   },
   "source": [
    "# Figure 1B: Projection and dropprint"
   ]
  },
  {
   "cell_type": "markdown",
   "metadata": {},
   "source": [
    "## First, let's make the overall plot"
   ]
  },
  {
   "cell_type": "code",
   "execution_count": null,
   "metadata": {
    "scrolled": true
   },
   "outputs": [],
   "source": [
    "## Make disease plot (Fig. 1B)\n",
    "## flipping the disease labels so that the healthy plots on top of the sle\n",
    "adata.obs['disease_cov'] = pd.Categorical(adata.obs['disease_cov'],categories=['sle','healthy'], ordered=True)\n",
    "adata.uns['disease_cov_colors'] = ['#3A87BC','#ED8A2F'];\n",
    "\n",
    "##disease_tsne = sc.pl.tsne(adata, color='disease_cov', size=0.5)\n",
    "disease_umap = sc.pl.umap(adata, color='disease_cov', size=0.5)\n",
    "\n",
    "## testing returning an axes object which should allow for more customization\n",
    "## disease_tsne2 = sc.pl.tsne(adata, color='disease_cov', size=0.5, show=False)\n",
    "\n",
    "## flipping the disease/healthy labels back for all of the downstream analysis\n",
    "adata.obs['disease_cov'] = pd.Categorical(adata.obs['disease_cov'],categories=['healthy','sle'], ordered=True)"
   ]
  },
  {
   "cell_type": "markdown",
   "metadata": {},
   "source": [
    "## Now, let's make a plot for each of the 16 people in batch 1 as a demo of variability"
   ]
  },
  {
   "cell_type": "code",
   "execution_count": null,
   "metadata": {
    "scrolled": true
   },
   "outputs": [],
   "source": [
    "## let's plot 16 plots for the individuals in the first batch (Fig. 1B)\n",
    "colors = [\"#8ED1C6\",\"#FCF6B5\", \"#BEBAD9\", \"#F47F72\", \"#81B1D3\", \"#FBB463\", \"#B4D66C\", \"#F9CEE1\", \"#DAD9D9\", \"#BC80B7\", \"#CDE6C4\", \"#FEEC6E\", \"#E31F26\", \"#387EB9\", \"#4EAF49\", \"#984F9F\"];\n",
    "batch_07_19_inds = adata.obs.ind_cov[adata.obs.batch_cov=='lupus7.19'].unique()\n",
    "batch_07_19_inds = np.sort(batch_07_19_inds.categories.values);\n",
    "\n",
    "fig,ax = plt.subplots(nrows=4,ncols=4, figsize=(10,10),sharex=True, sharey=True)\n",
    "fig.tight_layout()\n",
    "\n",
    "for ind_i in list(range(batch_07_19_inds.shape[0])) :\n",
    "    ind = batch_07_19_inds[ind_i]\n",
    "    col = colors[ind_i]\n",
    "    sc.pl.umap(adata[adata.obs.ind_cov==ind,], color = \"ind_cov\", palette=[col,col], ax=ax[(ind_i-1)%4,math.floor(ind_i/4)])"
   ]
  },
  {
   "cell_type": "markdown",
   "metadata": {},
   "source": [
    "# Figure 1C: Cell type annotation of projection"
   ]
  },
  {
   "cell_type": "code",
   "execution_count": null,
   "metadata": {
    "scrolled": true
   },
   "outputs": [],
   "source": [
    "## Make cell type plot (Fig. 1C)\n",
    "adata.uns['ct_cov_colors'] = sc.pl.palettes.vega_20_scanpy;\n",
    "##celltype_tsne = sc.pl.tsne(adata, color='ct_cov', size=0.5)\n",
    "celltype_umap = sc.pl.umap(adata, color='ct_cov', size=0.5)"
   ]
  },
  {
   "cell_type": "markdown",
   "metadata": {},
   "source": [
    "# Figure 1D: Cell type proportion differences between case/control"
   ]
  },
  {
   "cell_type": "markdown",
   "metadata": {},
   "source": [
    "## First got to compute the percentages"
   ]
  },
  {
   "cell_type": "code",
   "execution_count": null,
   "metadata": {
    "scrolled": true
   },
   "outputs": [],
   "source": [
    "## Make proportion plots (Fig. 1D)\n",
    "\n",
    "##adata_obs_small = adata.obs[(adata.obs.study_cov==\"ImmVar\") & (adata.obs.ind_cov.str.contains(\"IGTB\")) | (~adata.obs.ind_cov.str.contains(\"IGTB\") & (adata.obs.study_cov==\"CLUES\"))]\n",
    "adata_obs_small = adata.obs[(adata.obs.well.str.contains(\"immvar\")) & (adata.obs.ind_cov.str.contains(\"IGTB\")) | (~adata.obs.ind_cov.str.contains(\"IGTB\") & ~adata.obs.well.str.contains(\"immvar\"))]\n",
    "\n",
    "##ind_count = adata_obs_small.groupby(['ind_cov','study_cov','ct_cov','disease_cov','pop_cov','batch_cov'])['ct_cov'].count()\n",
    "ind_count = adata_obs_small.groupby(['ind_cov','ct_cov','disease_cov','pop_cov','batch_cov'])['ct_cov'].count()\n",
    "\n",
    "##ind_count = adata.obs.groupby(['ind_cov','study_cov','ct_cov','disease_cov','pop_cov'])['ct_cov'].count()\n",
    "##ind_count = adata.obs.groupby(['ind_cov','ct_cov','disease_cov','pop_cov'])['ct_cov'].count()\n",
    "\n",
    "##ind_count = ind_count.reset_index(name=\"counts\")\n",
    "ind_count_sums = ind_count.groupby(level=[0]).sum()\n",
    "ind_count_sums = ind_count_sums.reset_index(name=\"counts\")\n",
    "\n",
    "ind_perc = ind_count/ind_count.groupby(level=[0]).transform(sum)*100\n",
    "ind_perc = ind_perc.reset_index(name=\"ct_perc\")\n",
    "\n",
    "## filter samples that have < 100 cells\n",
    "ind_perc = ind_perc[ind_perc.ind_cov.isin(ind_count_sums.ind_cov[ind_count_sums.counts > 100])]\n"
   ]
  },
  {
   "cell_type": "code",
   "execution_count": null,
   "metadata": {
    "scrolled": true
   },
   "outputs": [],
   "source": [
    "ct_group = pd.DataFrame( {'ct_cov':['B','CD14 Mo','CD16 Mo', 'CD4+ T', 'CD8+ T', 'MK', 'NK', 'cDC', 'pDC','Progen'], 'ct_group':['lymph', 'mono', 'mono', 'lymph','lymph', 'mkc','lymph','dc','pdc','progen']})\n",
    "ind_perc.ind_cov = ind_perc.ind_cov.apply(lambda x: x.split('_')[0])\n",
    "ind_count_sums.ind_cov = ind_count_sums.ind_cov.apply(lambda x: x.split('_')[0])\n",
    "ind_perc = ind_perc.set_index('ct_cov').join(ct_group.set_index('ct_cov'))\n",
    "ind_perc.ind_cov = ind_perc.ind_cov.astype(\"str\")\n",
    "ind_perc.batch_cov = ind_perc.batch_cov.astype(\"str\")\n",
    "ind_perc.reset_index(inplace=True)\n",
    "ind_perc.ct_cov = ind_perc.ct_cov.astype('category')\n",
    "\n",
    "print('as a proportion of total PBMC ')\n",
    "\n",
    "for ct_i in list(range(10)) :\n",
    "    ct = ind_perc.ct_cov.cat.categories[ct_i]\n",
    "    ct_perc = ind_perc.ct_perc[ind_perc.ct_cov==ct]\n",
    "    disease = ind_perc.disease_cov[ind_perc.ct_cov==ct]\n",
    "    disease = disease.astype(\"str\")\n",
    "    disease.values[disease==\"sle\"] = 0\n",
    "    disease.values[disease==\"healthy\"] = 1\n",
    "    disease = sm.add_constant(disease)\n",
    "    ##data = data.assign(ct_perc=ct_perc)\n",
    "    print('Cell type:'+ ct)\n",
    "    est=sm.OLS(ct_perc.astype(float), disease.astype(float))\n",
    "    est=est.fit()\n",
    "    effect=est.params[1]\n",
    "    pval=est.pvalues[1]\n",
    "    #print(effect)\n",
    "    #print(pval)\n",
    "    print('Beta='+str(effect)+', pvalue='+str(pval))"
   ]
  },
  {
   "cell_type": "markdown",
   "metadata": {},
   "source": [
    "## Next, let's plot the proportions"
   ]
  },
  {
   "cell_type": "code",
   "execution_count": null,
   "metadata": {
    "scrolled": true
   },
   "outputs": [],
   "source": [
    "perc_plot = sns.catplot(x='disease_cov', y='ct_perc', hue='ct_cov', data=ind_perc, kind='violin', col='ct_cov', dodge=False, aspect=0.4, sharex=False, sharey=False)\n",
    "\n",
    "#fig,ax = plt.subplots(nrows=1,ncols=10, figsize=(20,5))\n",
    "#fig.tight_layout()\n",
    "\n",
    "##for ct_i in list(range(10)) :\n",
    "##    ct = ind_perc.ct_cov.cat.categories[ct_i]\n",
    "##    sns.boxplot(x=\"disease_cov\", y=\"ct_perc\", data=ind_perc[ind_perc.ct_cov == ct], color=sc.pl.palettes.vega_20_scanpy[ct_i], ax=ax[ct_i])\n",
    "##    sns.swarmplot(x=\"disease_cov\", y=\"ct_perc\", data=ind_perc[ind_perc.ct_cov == ct], color=\"0\", size=3, ax=ax[ct_i])"
   ]
  },
  {
   "cell_type": "code",
   "execution_count": null,
   "metadata": {},
   "outputs": [],
   "source": [
    "fig,ax = plt.subplots(nrows=1,ncols=10, figsize=(20,5))\n",
    "fig.tight_layout()\n",
    "\n",
    "\n",
    "for ct_i in list(range(10)) :\n",
    "    ct = ind_perc.ct_cov.cat.categories[ct_i]\n",
    "    ax[ct_i].set_yscale('log')\n",
    "    ax[ct_i].set_ylim(0.1,100)\n",
    "    sns.boxplot(x=\"disease_cov\", y=\"ct_perc\", data=ind_perc[ind_perc.ct_cov == ct], color=sc.pl.palettes.vega_20_scanpy[ct_i], ax=ax[ct_i])\n",
    "    sns.swarmplot(x=\"disease_cov\", y=\"ct_perc\", data=ind_perc[ind_perc.ct_cov == ct], color=\"0\", size=3, ax=ax[ct_i])"
   ]
  },
  {
   "cell_type": "code",
   "execution_count": null,
   "metadata": {
    "scrolled": false
   },
   "outputs": [],
   "source": [
    "# fig,ax = plt.subplots(nrows=2,ncols=10, figsize=(20,10))\n",
    "# fig.tight_layout()\n",
    "\n",
    "# for ct_i in list(range(10)) :\n",
    "#         ct = ind_perc.ct_cov.cat.categories[ct_i]\n",
    "#         for pop_i in list(range(2)) :\n",
    "#                 pop = ind_perc.pop_cov.cat.categories[pop_i]\n",
    "                \n",
    "#                 ##fig,ax = plt.subplots()\n",
    "#                 ##fig.set_size_inches(2,8)\n",
    "#                 sns.boxplot(x=\"disease_cov\", y=\"ct_perc\", data=ind_perc[(ind_perc.pop_cov == pop) & (ind_perc.ct_cov == ct)], color=sc.pl.palettes.vega_20_scanpy[ct_i], ax=ax[pop_i,ct_i])\n",
    "#                 ##sns.swarmplot(x=\"disease_cov\", y=\"ct_perc\", data=ind_perc[(ind_perc.pop_cov == pop) & (ind_perc.ct_cov == ct)], color=\"0\", size=3, ax=ax[pop_i,ct_i])\n",
    "\n",
    "\n",
    "# for pop_i in list(range(2)) :\n",
    "#     pop = ind_perc.pop_cov.cat.categories[pop_i]\n",
    "#     perc_plot = sns.catplot(x='disease_cov', y='ct_perc', hue='ct_cov', data=ind_perc[(ind_perc.pop_cov == pop)], kind='violin', col='ct_cov', dodge=False, aspect=0.4, sharex=False, sharey=False)\n",
    "    \n",
    "perc_plot = sns.catplot(x='disease_cov', y='ct_perc', hue='ct_cov', row=\"pop_cov\", data=ind_perc, kind='violin', col='ct_cov', dodge=False, aspect=0.4, sharex=False, sharey=False)\n"
   ]
  },
  {
   "cell_type": "code",
   "execution_count": null,
   "metadata": {},
   "outputs": [],
   "source": [
    "##ax = sns.catplot(x='disease_cov', y='ct_perc', hue='ct_cov', data=ind_perc, kind='box', col='ct_cov', height=8, aspect=1/4)\n",
    "##ax.savefig(\"figures/boxplot.cat.png\")"
   ]
  },
  {
   "cell_type": "markdown",
   "metadata": {},
   "source": [
    "# Figure 1E: Correlation with EHR"
   ]
  },
  {
   "cell_type": "markdown",
   "metadata": {},
   "source": [
    "## Some initial data wrangling"
   ]
  },
  {
   "cell_type": "markdown",
   "metadata": {},
   "source": [
    "ok, there should be 127 lupus patients and 42 immvar donors, we only have estimated PBMC numbers for 11 of them so the final joined table will only have "
   ]
  },
  {
   "cell_type": "code",
   "execution_count": null,
   "metadata": {
    "scrolled": false
   },
   "outputs": [],
   "source": [
    "## Let's grab the clinical and labs data and compare to our single cell estimates\n",
    "clues_clinical = pd.read_table(\"v2.clinical.data.txt\", index_col=False)\n",
    "clues_clinical.genotypeid = clues_clinical.genotypeid.apply(lambda x: x.split('_')[0])\n",
    "clues_clinical.subjectid = clues_clinical.subjectid.astype(\"str\")\n",
    "joined = ind_perc.join(ind_count_sums.set_index('ind_cov'), on='ind_cov');\n",
    "joined = joined.join(clues_clinical.set_index('genotypeid'), on='ind_cov')\n",
    "##joined = ind_perc.join(clues_clinical.set_index('genotypeid'), on='ind_cov')\n",
    "\n",
    "t1_labs = pd.read_table(\"T1labs.csv\",sep=\",\")\n",
    "t1_labs.SubjectID = t1_labs.SubjectID.astype(\"str\")\n",
    "joined = joined.join(t1_labs.set_index('SubjectID'), on='subjectid')\n",
    "\n",
    "### test new code\n",
    "joined.AbsBaso = joined.AbsBaso/1000\n",
    "joined.AbsEosino = joined.AbsEosino/1000\n",
    "joined.AbsLympho = joined.AbsLympho/1000\n",
    "joined.AbsNeutro = joined.AbsNeutro/1000\n",
    "joined.AbsMono = joined.AbsMono/1000\n",
    "\n",
    "joined = joined.assign(pbmc = joined.WhiteBloodCell-joined.AbsNeutro-joined.AbsEosino-joined.AbsBaso)\n",
    "\n",
    "joined[[\"subjectid\",'WhiteBloodCell','AbsMono','AbsLympho','AbsNeutro','AbsEosino','AbsBaso','PlatCount']] = joined[[\"subjectid\",'WhiteBloodCell','AbsMono','AbsLympho','AbsNeutro','AbsEosino','AbsBaso','PlatCount']].astype(str)\n",
    "\n",
    "## now let's add in white blood cell counts for the immvar patients\n",
    "immvar_pbmc = pd.read_table(\"immvar.pbmc.csv\", index_col=False, sep=\",\")\n",
    "immvar_pbmc.pbmc = immvar_pbmc.pbmc - (np.mean(immvar_pbmc.pbmc) - np.mean(joined.pbmc))\n",
    "## this is not the most efficient code but will suffice for now\n",
    "for i in list(range(12)) :\n",
    "    igtb = immvar_pbmc.immvarid[i]\n",
    "    joined.pbmc[joined.ind_cov==igtb] = immvar_pbmc.pbmc[i]\n",
    "\n",
    "joined = joined.assign(estimate=joined.ct_perc/100*joined.pbmc)\n",
    "\n",
    "joined[[\"ind_cov\",\"disease_cov\",\"ct_cov\"]] = joined[[\"ind_cov\",\"disease_cov\",\"ct_cov\"]].astype(str)\n",
    "joined.plaquenilnow = joined.plaquenilnow.fillna(0)\n",
    "joined.cellceptnow = joined.cellceptnow.fillna(0)\n",
    "joined.steroralnow = joined.steroralnow.fillna(0)\n",
    "joined.acrlymphopenia = joined.acrlymphopenia.fillna(0)\n"
   ]
  },
  {
   "cell_type": "code",
   "execution_count": null,
   "metadata": {
    "scrolled": false
   },
   "outputs": [],
   "source": [
    "sns.distplot(joined.pbmc[~np.isnan(joined.pbmc)]);"
   ]
  },
  {
   "cell_type": "markdown",
   "metadata": {},
   "source": [
    "ok, so current code joins to get estimates so for those samples with pbmc NAs, they will be filtered out"
   ]
  },
  {
   "cell_type": "code",
   "execution_count": null,
   "metadata": {
    "scrolled": true
   },
   "outputs": [],
   "source": [
    "##joined_pivot = joined.pivot_table(index=['ind_cov',\"disease_cov\",\"pbmc\",\"plaquenilnow\",\"cellceptnow\",\"steroralnow\",\"acrlymphopenia\"], columns=\"ct_cov\", values=\"estimate\")\n",
    "joined_pivot = joined.pivot_table(index=['ind_cov',\"disease_cov\",\"pbmc\",\"counts\",\"batch_cov\",\"plaquenilnow\",\"cellceptnow\",\"steroralnow\",\"acrlymphopenia\"], columns=[\"ct_cov\"], values=\"estimate\")\n",
    "joined_pivot.reset_index(inplace=True)\n",
    "joined_pivot.to_csv(name+\"_joined_pivot_estimates.txt\")\n",
    "\n",
    "## this does not require the pbmc counts\n",
    "##joined_pivot_perc = joined.pivot_table(index=['ind_cov',\"disease_cov\",\"counts\",\"plaquenilnow\",\"cellceptnow\",\"steroralnow\",\"acrlymphopenia\"], columns=\"ct_cov\", values=\"ct_perc\")\n",
    "joined_pivot_perc = joined.pivot_table(index=['ind_cov',\"disease_cov\",\"counts\",\"batch_cov\", \"plaquenilnow\",\"cellceptnow\",\"steroralnow\",\"acrlymphopenia\"], columns=\"ct_cov\", values=\"ct_perc\")\n",
    "joined_pivot_perc.reset_index(inplace=True)\n",
    "joined_pivot_perc.to_csv(name+\"_joined_pivot_ct_perc.txt\")\n",
    "\n",
    "joined_pivot = joined_pivot[joined_pivot.pbmc > 0]\n",
    "joined_pivot = joined_pivot[joined_pivot.pbmc < 10]\n",
    "\n",
    "joined_pivot.disease_cov = pd.Categorical(joined_pivot.disease_cov,categories=['healthy','sle'], ordered=True)\n",
    "\n",
    "\n",
    "##joined_agg = joined.groupby(['ind_cov','subjectid','disease_cov','ct_group','WhiteBloodCell','AbsMono','AbsLympho','AbsNeutro','AbsEosino','AbsBaso','PlatCount','pbmc'])['ct_perc'].sum()\n",
    "joined_agg = joined.groupby(['ind_cov','subjectid','disease_cov','ct_group','plaquenilnow','cellceptnow','steroralnow',\"acrlymphopenia\",'WhiteBloodCell','AbsMono','AbsLympho','AbsNeutro','AbsEosino','AbsBaso','PlatCount','pbmc'])['ct_perc'].sum()\n",
    "\n",
    "joined_agg = joined_agg.reset_index(name='ct_perc')\n",
    "\n",
    "joined_agg[['WhiteBloodCell','AbsMono','AbsLympho','AbsNeutro','AbsEosino','AbsBaso','PlatCount','pbmc']] = joined_agg[['WhiteBloodCell','AbsMono','AbsLympho','AbsNeutro','AbsEosino','AbsBaso','PlatCount','pbmc']].astype(float)\n",
    "\n",
    "joined_agg = joined_agg.assign(estimate=joined_agg.ct_perc/100*joined_agg.pbmc)\n",
    "joined_agg[[\"subjectid\",\"disease_cov\",'WhiteBloodCell','AbsMono','AbsLympho','AbsNeutro','AbsEosino','AbsBaso','PlatCount']] = joined_agg[[\"subjectid\",\"disease_cov\",'WhiteBloodCell','AbsMono','AbsLympho','AbsNeutro','AbsEosino','AbsBaso','PlatCount']].astype(str)\n",
    "joined_agg_pivot = joined_agg.pivot_table(index=['ind_cov', \"subjectid\", \"pbmc\",\"disease_cov\",'plaquenilnow','cellceptnow','steroralnow',\"acrlymphopenia\",\"WhiteBloodCell\",\"AbsMono\",'AbsBaso',\"AbsLympho\",\"AbsNeutro\",\"AbsEosino\",\"PlatCount\"], columns=\"ct_group\", values=\"estimate\")\n",
    "joined_agg_pivot.reset_index(inplace=True);\n",
    "\n",
    "joined_agg[[\"subjectid\",'WhiteBloodCell','AbsMono','AbsLympho','AbsNeutro','AbsEosino','AbsBaso','PlatCount']] = joined_agg[[\"subjectid\",'WhiteBloodCell','AbsMono','AbsLympho','AbsNeutro','AbsEosino','AbsBaso','PlatCount']].astype(float)\n",
    "joined_agg_pivot[[\"subjectid\",'WhiteBloodCell','AbsMono','AbsLympho','AbsNeutro','AbsEosino','AbsBaso','PlatCount']] = joined_agg_pivot[[\"subjectid\",'WhiteBloodCell','AbsMono','AbsLympho','AbsNeutro','AbsEosino','AbsBaso','PlatCount']].astype(float)\n",
    "\n",
    "## filter for some really bad samples\n",
    "joined_agg_pivot_clues = joined_agg_pivot[joined_agg_pivot.AbsMono > 5/1000]\n",
    "joined_agg_pivot_clues = joined_agg_pivot_clues[joined_agg_pivot.AbsLympho > 5/1000]\n",
    "joined_agg_pivot_clues = joined_agg_pivot_clues[joined_agg_pivot.WhiteBloodCell > 0]\n",
    "\n",
    "joined_agg_clues = joined_agg[joined_agg.AbsMono > 5/1000]\n",
    "joined_agg_clues = joined_agg_clues[joined_agg.AbsLympho > 5/1000]\n",
    "joined_agg_clues = joined_agg_clues[joined_agg.WhiteBloodCell > 0]"
   ]
  },
  {
   "cell_type": "code",
   "execution_count": null,
   "metadata": {},
   "outputs": [],
   "source": [
    "joined_pivot_perc.shape"
   ]
  },
  {
   "cell_type": "markdown",
   "metadata": {},
   "source": [
    "## Plot correlation for monocytes and lymphocytes"
   ]
  },
  {
   "cell_type": "code",
   "execution_count": null,
   "metadata": {
    "scrolled": false
   },
   "outputs": [],
   "source": [
    "## calculate correlation\n",
    "lympho_cor = stats.pearsonr(joined_agg_pivot_clues.lymph, joined_agg_pivot_clues.AbsLympho)\n",
    "mono_cor = stats.pearsonr(joined_agg_pivot_clues.mono, joined_agg_pivot_clues.AbsMono)\n",
    "\n",
    "fig,ax = plt.subplots(nrows=1,ncols=2, figsize=(10,5))\n",
    "fig.tight_layout()\n",
    "\n",
    "sns.scatterplot(x='lymph', y='AbsLympho', data=joined_agg_pivot_clues, color='#d62728',ax=ax[0])\n",
    "ax[0].set(xlabel=\"Single Cell Counts x 10e9/L\", ylabel=\"CBC Cell Counts x 10e9/L\")\n",
    "ax[0].plot(ax[0].get_xlim(), ax[0].get_xlim(), '--', color='#000000')\n",
    "\n",
    "sns.scatterplot(x='mono', y='AbsMono', data=joined_agg_pivot_clues, color='#ff7f0e',ax=ax[1])\n",
    "ax[1].set(xlabel=\"Single Cell Counts x 10e9/L\", ylabel=\"CBC Cell Counts x 10e9/L\")\n",
    "ax[1].plot(ax[1].get_xlim(), ax[1].get_xlim(), '--', color='#000000')\n",
    "\n",
    "\n",
    "print(lympho_cor)\n",
    "print(mono_cor)"
   ]
  },
  {
   "cell_type": "markdown",
   "metadata": {},
   "source": [
    "## Plot cell abundance"
   ]
  },
  {
   "cell_type": "code",
   "execution_count": null,
   "metadata": {},
   "outputs": [],
   "source": [
    "## now let's also plot the monocyte and lymphocyte counts between sle and control\n",
    "## immvar samples are\n",
    "##IGTB1290 IGTB1372 IGTB141 IGTB143 IGTB1506 IGTB1539 IGTB1540 IGTB1542 IGTB1575 IGTB1650 IGTB1921 IGTB195 IGTB256 IGTB469 IGTB498 IGTB508 IGTB514 IGTB645 IGTB670 IGTB826 IGTB884 IGTB986\n",
    "\n",
    "joined_agg.disease_cov = pd.Categorical(joined_agg.disease_cov,categories=['healthy','sle'], ordered=True)\n",
    "joined_agg_pivot.disease_cov = pd.Categorical(joined_agg_pivot.disease_cov,categories=['healthy','sle'], ordered=True)\n",
    "\n",
    "\n",
    "fig,ax = plt.subplots(nrows=1,ncols=3, figsize=(10,8))\n",
    "fig.tight_layout()\n",
    "\n",
    "for cg_i in [0, 1,2] :\n",
    "    cg = ['mono', 'lymph','lymph'][cg_i]\n",
    "    sns.boxplot(x=\"disease_cov\", y=cg, data=joined_agg_pivot[~(joined_agg_pivot.AbsMono < 5/1000)], color=['#ff7f0e','#d62728','#7f7f7f'][cg_i], ax=ax[cg_i])\n",
    "    sns.swarmplot(x=\"disease_cov\", y=cg, data=joined_agg_pivot[~(joined_agg_pivot.AbsMono < 5/1000)], color=\"0\", size=3, ax=ax[cg_i])\n"
   ]
  },
  {
   "cell_type": "code",
   "execution_count": null,
   "metadata": {
    "scrolled": false
   },
   "outputs": [],
   "source": [
    "fig,ax = plt.subplots(nrows=1,ncols=10, figsize=(20,5))\n",
    "fig.tight_layout()\n",
    "\n",
    "for ct_i in list(range(10)) :\n",
    "    ct = ind_perc.ct_cov.cat.categories[ct_i]\n",
    "    sns.boxplot(x=\"disease_cov\", y=ct, data=joined_pivot, color=sc.pl.palettes.vega_20_scanpy[ct_i], ax=ax[ct_i])\n",
    "    sns.swarmplot(x=\"disease_cov\", y=ct, data=joined_pivot, color=\"0\", size=3, ax=ax[ct_i])\n",
    "    \n",
    "perc_plot = sns.catplot(x='disease_cov', y='estimate', hue='ct_cov', data=joined, kind='violin', col='ct_cov', dodge=False, aspect=0.4, sharex=False, sharey=False)\n"
   ]
  },
  {
   "cell_type": "code",
   "execution_count": null,
   "metadata": {
    "scrolled": false
   },
   "outputs": [],
   "source": [
    "fig,ax = plt.subplots()\n",
    "fig.set_size_inches(2,4)\n",
    "ax = sns.boxplot(x=\"disease_cov\", y=\"pbmc\", data=joined_pivot)\n",
    "ax = sns.swarmplot(x=\"disease_cov\", y=\"pbmc\", data=joined_pivot, color=\"0\", size=3)\n"
   ]
  },
  {
   "cell_type": "markdown",
   "metadata": {},
   "source": [
    "# Figure 1F: Validation of lymphopenia in EHR"
   ]
  },
  {
   "cell_type": "code",
   "execution_count": null,
   "metadata": {
    "scrolled": false
   },
   "outputs": [],
   "source": [
    "## Now let's analyze the EHR data\n",
    "ehr = pd.read_table(\"meena_lupus_2017-11-15.csv\", sep=\",\")\n",
    "ehr_pivot = ehr.pivot_table(index=['Patient_ID',\"Lab_Age\",\"Patient_Sex\",\"Patient_Race\",\"CASE\"],columns=\"Lab_Name\",values=\"Lab_Value\")\n",
    "ehr_pivot.reset_index(inplace=True)\n",
    "ehr_pivot = ehr_pivot[ehr_pivot['monocyte abs count'] < 5]\n",
    "ehr_pivot = ehr_pivot[ehr_pivot['lymphocyte abs cnt'] < 6]\n",
    "\n",
    "fig,ax = plt.subplots(nrows=3,ncols=3, figsize=(10,24))\n",
    "fig.tight_layout()\n",
    "\n",
    "## find samples with both monocyte and lymphocyte count\n",
    "for cg_i in [0, 1, 2] :\n",
    "    cg = ['monocyte abs count', 'lymphocyte abs cnt', 'wbc count'][cg_i]\n",
    "    for r_i in [0,1,2] :\n",
    "        race = ['White or Caucasian', 'Black or African American', 'Asian'][r_i]\n",
    "        sns.boxplot(x=\"CASE\", y=cg, data=ehr_pivot[ehr_pivot.Patient_Race==race], color=['#ff7f0e','#d62728','#7f7f7f'][cg_i], ax=ax[r_i,cg_i])\n",
    "        sns.swarmplot(x=\"CASE\", y=cg, data=ehr_pivot[ehr_pivot.Patient_Race==race], color=\"0\", size=3, ax=ax[r_i,cg_i])\n",
    "           \n",
    "perc_plot = sns.catplot(x='CASE', y='Lab_Value', col='Lab_Name', data=ehr, kind='violin', row='Patient_Race', dodge=False, aspect=0.4, sharex=False, sharey=False)\n",
    "\n",
    "## test for differences in abundance\n",
    "for cg_i in [0, 1] :\n",
    "    cg = ['monocyte abs count', 'lymphocyte abs cnt'][cg_i]\n",
    "    for race in ['White or Caucasian', 'Black or African American', 'Asian'] :\n",
    "        abundance = ehr_pivot[ehr_pivot.Patient_Race==race][cg].values\n",
    "        disease = ehr_pivot.CASE[ehr_pivot.Patient_Race==race]\n",
    "        disease = sm.add_constant(disease)\n",
    "        print('Cell type:'+ ct +\",Race:\"+race)\n",
    "        est=sm.OLS(abundance.astype(float), disease.astype(float))\n",
    "        est=est.fit()\n",
    "        effect=est.params[1]\n",
    "        pval=est.pvalues[1]\n",
    "        print('Beta='+str(effect)+', pvalue='+str(pval))"
   ]
  },
  {
   "cell_type": "code",
   "execution_count": null,
   "metadata": {
    "scrolled": false
   },
   "outputs": [],
   "source": [
    "sns.scatterplot(joined_agg_pivot_clues.lymph, joined_agg_pivot_clues.acrlymphopenia)"
   ]
  }
 ],
 "metadata": {
  "kernelspec": {
   "display_name": "Python 3",
   "language": "python",
   "name": "python3"
  },
  "language_info": {
   "codemirror_mode": {
    "name": "ipython",
    "version": 3
   },
   "file_extension": ".py",
   "mimetype": "text/x-python",
   "name": "python",
   "nbconvert_exporter": "python",
   "pygments_lexer": "ipython3",
   "version": "3.6.6"
  },
  "toc-autonumbering": true,
  "toc-showcode": false,
  "toc-showmarkdowntxt": true,
  "toc-showtags": false
 },
 "nbformat": 4,
 "nbformat_minor": 2
}
