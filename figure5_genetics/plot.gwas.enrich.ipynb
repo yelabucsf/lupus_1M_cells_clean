{
 "cells": [
  {
   "cell_type": "code",
   "execution_count": 39,
   "metadata": {
    "scrolled": false
   },
   "outputs": [
    {
     "data": {
      "text/html": [
       "<table>\n",
       "<thead><tr><th scope=col>Bed_File</th><th scope=col>InBed_Index_SNP</th><th scope=col>ExpectNum_of_InBed_SNP</th><th scope=col>PValue</th></tr></thead>\n",
       "<tbody>\n",
       "\t<tr><td>B.bed               </td><td> 2                  </td><td> 2.672784           </td><td>7.630391e-01        </td></tr>\n",
       "\t<tr><td>cDC.bed             </td><td> 2                  </td><td> 1.253259           </td><td>3.582070e-01        </td></tr>\n",
       "\t<tr><td>cM.bed              </td><td>11                  </td><td> 6.178683           </td><td>4.273508e-02        </td></tr>\n",
       "\t<tr><td>MK.bed              </td><td> 0                  </td><td>       NA           </td><td>          NA        </td></tr>\n",
       "\t<tr><td>ncM.bed             </td><td> 5                  </td><td> 3.189656           </td><td>2.126491e-01        </td></tr>\n",
       "\t<tr><td>NK.bed              </td><td> 2                  </td><td> 2.075851           </td><td>6.293219e-01        </td></tr>\n",
       "\t<tr><td>PBMC.bed            </td><td>32                  </td><td>11.336326           </td><td>2.436691e-08        </td></tr>\n",
       "\t<tr><td>Tc.bed              </td><td>14                  </td><td> 4.966955           </td><td>2.940564e-04        </td></tr>\n",
       "\t<tr><td>Th.bed              </td><td>21                  </td><td> 4.961112           </td><td>5.140568e-09        </td></tr>\n",
       "\t<tr><td>ct.concat.unique.bed</td><td>17                  </td><td> 8.563336           </td><td>4.468151e-03        </td></tr>\n",
       "</tbody>\n",
       "</table>\n"
      ],
      "text/latex": [
       "\\begin{tabular}{r|llll}\n",
       " Bed\\_File & InBed\\_Index\\_SNP & ExpectNum\\_of\\_InBed\\_SNP & PValue\\\\\n",
       "\\hline\n",
       "\t B.bed                &  2                   &  2.672784            & 7.630391e-01        \\\\\n",
       "\t cDC.bed              &  2                   &  1.253259            & 3.582070e-01        \\\\\n",
       "\t cM.bed               & 11                   &  6.178683            & 4.273508e-02        \\\\\n",
       "\t MK.bed               &  0                   &        NA            &           NA        \\\\\n",
       "\t ncM.bed              &  5                   &  3.189656            & 2.126491e-01        \\\\\n",
       "\t NK.bed               &  2                   &  2.075851            & 6.293219e-01        \\\\\n",
       "\t PBMC.bed             & 32                   & 11.336326            & 2.436691e-08        \\\\\n",
       "\t Tc.bed               & 14                   &  4.966955            & 2.940564e-04        \\\\\n",
       "\t Th.bed               & 21                   &  4.961112            & 5.140568e-09        \\\\\n",
       "\t ct.concat.unique.bed & 17                   &  8.563336            & 4.468151e-03        \\\\\n",
       "\\end{tabular}\n"
      ],
      "text/markdown": [
       "\n",
       "Bed_File | InBed_Index_SNP | ExpectNum_of_InBed_SNP | PValue | \n",
       "|---|---|---|---|---|---|---|---|---|---|\n",
       "| B.bed                |  2                   |  2.672784            | 7.630391e-01         | \n",
       "| cDC.bed              |  2                   |  1.253259            | 3.582070e-01         | \n",
       "| cM.bed               | 11                   |  6.178683            | 4.273508e-02         | \n",
       "| MK.bed               |  0                   |        NA            |           NA         | \n",
       "| ncM.bed              |  5                   |  3.189656            | 2.126491e-01         | \n",
       "| NK.bed               |  2                   |  2.075851            | 6.293219e-01         | \n",
       "| PBMC.bed             | 32                   | 11.336326            | 2.436691e-08         | \n",
       "| Tc.bed               | 14                   |  4.966955            | 2.940564e-04         | \n",
       "| Th.bed               | 21                   |  4.961112            | 5.140568e-09         | \n",
       "| ct.concat.unique.bed | 17                   |  8.563336            | 4.468151e-03         | \n",
       "\n",
       "\n"
      ],
      "text/plain": [
       "   Bed_File             InBed_Index_SNP ExpectNum_of_InBed_SNP PValue      \n",
       "1  B.bed                 2               2.672784              7.630391e-01\n",
       "2  cDC.bed               2               1.253259              3.582070e-01\n",
       "3  cM.bed               11               6.178683              4.273508e-02\n",
       "4  MK.bed                0                     NA                        NA\n",
       "5  ncM.bed               5               3.189656              2.126491e-01\n",
       "6  NK.bed                2               2.075851              6.293219e-01\n",
       "7  PBMC.bed             32              11.336326              2.436691e-08\n",
       "8  Tc.bed               14               4.966955              2.940564e-04\n",
       "9  Th.bed               21               4.961112              5.140568e-09\n",
       "10 ct.concat.unique.bed 17               8.563336              4.468151e-03"
      ]
     },
     "metadata": {},
     "output_type": "display_data"
    },
    {
     "name": "stdout",
     "output_type": "stream",
     "text": [
      "               Bed_File InBed_Index_SNP ExpectNum_of_InBed_SNP       PValue\n",
      "1                 B.bed               2               2.672784 7.630391e-01\n",
      "2               cDC.bed               2               1.253259 3.582070e-01\n",
      "3                cM.bed              11               6.178683 4.273508e-02\n",
      "4                MK.bed               0                     NA           NA\n",
      "5               ncM.bed               5               3.189656 2.126491e-01\n",
      "6                NK.bed               2               2.075851 6.293219e-01\n",
      "7              PBMC.bed              32              11.336326 2.436691e-08\n",
      "8                Tc.bed              14               4.966955 2.940564e-04\n",
      "9                Th.bed              21               4.961112 5.140568e-09\n",
      "10 ct.concat.unique.bed              17               8.563336 4.468151e-03\n",
      "     ct\n",
      "1     B\n",
      "2   cDC\n",
      "3    cM\n",
      "4    MK\n",
      "5   ncM\n",
      "6    NK\n",
      "7  PBMC\n",
      "8    Tc\n",
      "9    Th\n",
      "10   ct\n",
      "               Bed_File InBed_Index_SNP ExpectNum_of_InBed_SNP       PValue\n",
      "1                 B.bed               2               2.672784 7.630391e-01\n",
      "2               cDC.bed               2               1.253259 3.582070e-01\n",
      "3                cM.bed              11               6.178683 4.273508e-02\n",
      "4                MK.bed               0                     NA           NA\n",
      "5               ncM.bed               5               3.189656 2.126491e-01\n",
      "6                NK.bed               2               2.075851 6.293219e-01\n",
      "7              PBMC.bed              32              11.336326 2.436691e-08\n",
      "8                Tc.bed              14               4.966955 2.940564e-04\n",
      "9                Th.bed              21               4.961112 5.140568e-09\n",
      "10 ct.concat.unique.bed              17               8.563336 4.468151e-03\n",
      "     ct\n",
      "1     B\n",
      "2   cDC\n",
      "3    cM\n",
      "4    MK\n",
      "5   ncM\n",
      "6    NK\n",
      "7  PBMC\n",
      "8    Tc\n",
      "9    Th\n",
      "10   ct\n"
     ]
    },
    {
     "data": {
      "text/html": [
       "<strong>png:</strong> 2"
      ],
      "text/latex": [
       "\\textbf{png:} 2"
      ],
      "text/markdown": [
       "**png:** 2"
      ],
      "text/plain": [
       "png \n",
       "  2 "
      ]
     },
     "metadata": {},
     "output_type": "display_data"
    }
   ],
   "source": [
    "library(ggplot2)\n",
    "enrich=read.table('/ye/netapp/jimmie.ye/compare.gwas/gregor/sle.all.snps.5.19/out/Systemic.lupus.erythematosus/StatisticSummaryFile.txt', header=T)\n",
    "enrich\n",
    "\n",
    "enrich$ct=sapply(strsplit(as.character(enrich$Bed_File), '\\\\.'),'[', 1)\n",
    "\n",
    "print(enrich)\n",
    "enrich$ct = with(enrich, reorder(ct, InBed_Index_SNP/ExpectNum_of_InBed_SNP))\n",
    "print(enrich)\n",
    "\n",
    "plt=ggplot(enrich[-which(enrich$ct %in% c('MK','ct')),  ], aes(x=ct , y=InBed_Index_SNP/ExpectNum_of_InBed_SNP,fill=ct)) + geom_bar(stat='identity') + coord_flip()\n",
    "plt=plt+ylab('Fold Enrichment') + xlab('Cell Type')\n",
    "\n",
    "\n",
    "plt=plt + geom_text(data=enrich[-which(enrich$ct %in% c('MK','ct')),  ], aes(x=ct, y=InBed_Index_SNP/ExpectNum_of_InBed_SNP,label=format.pval(PValue,digits = 2)))\n",
    "plt=plt+theme_bw()\n",
    "\n",
    "options(repr.plot.width=10, repr.plot.height=10)\n",
    "pdf('figures/gregor.sle.enrich.pdf', width=10, height=10, useDingbats = F)\n",
    "print(plt)\n",
    "dev.off()"
   ]
  },
  {
   "cell_type": "code",
   "execution_count": 17,
   "metadata": {},
   "outputs": [
    {
     "data": {
      "text/html": [
       "<table>\n",
       "<thead><tr><th scope=col>V1</th><th scope=col>V2</th><th scope=col>V3</th><th scope=col>V4</th><th scope=col>or</th><th scope=col>siglog</th><th scope=col>logOR</th><th scope=col>loglo</th><th scope=col>loghi</th></tr></thead>\n",
       "<tbody>\n",
       "\t<tr><td>Adolescent.idiopathic.scoliosis                             </td><td>2                                                           </td><td>3.8701625                                                   </td><td>9.039976e-01                                                </td><td>0.5167742                                                   </td><td>1.2247449                                                   </td><td>-0.6601493                                                  </td><td>-3.0606052                                                  </td><td>1.740307                                                    </td></tr>\n",
       "\t<tr><td>Alcoholic.chronic.pancreatitis                              </td><td>0                                                           </td><td>       NA                                                   </td><td>          NA                                                </td><td>       NA                                                   </td><td>      Inf                                                   </td><td>        NA                                                  </td><td>        NA                                                  </td><td>      NA                                                    </td></tr>\n",
       "\t<tr><td>Allergic.disease..asthma..hay.fever.or.eczema.              </td><td>2                                                           </td><td>1.0593883                                                   </td><td>2.868113e-01                                                </td><td>1.8878820                                                   </td><td>0.9128709                                                   </td><td> 0.6354555                                                  </td><td>-1.1537386                                                  </td><td>2.424650                                                    </td></tr>\n",
       "\t<tr><td>Alzheimer.s.disease.or.family.history.of.Alzheimer.s.disease</td><td>0                                                           </td><td>       NA                                                   </td><td>          NA                                                </td><td>       NA                                                   </td><td>      Inf                                                   </td><td>        NA                                                  </td><td>        NA                                                  </td><td>      NA                                                    </td></tr>\n",
       "\t<tr><td>Asthma                                                      </td><td>9                                                           </td><td>0.9201966                                                   </td><td>7.954138e-08                                                </td><td>9.7805192                                                   </td><td>0.5577734                                                   </td><td> 2.2803926                                                  </td><td> 1.1871769                                                  </td><td>3.373608                                                    </td></tr>\n",
       "\t<tr><td>Atrial.fibrillation                                         </td><td>4                                                           </td><td>2.8284027                                                   </td><td>3.113899e-01                                                </td><td>1.4142258                                                   </td><td>0.6454972                                                   </td><td> 0.3465822                                                  </td><td>-0.9185691                                                  </td><td>1.611734                                                    </td></tr>\n",
       "</tbody>\n",
       "</table>\n"
      ],
      "text/latex": [
       "\\begin{tabular}{r|lllllllll}\n",
       " V1 & V2 & V3 & V4 & or & siglog & logOR & loglo & loghi\\\\\n",
       "\\hline\n",
       "\t Adolescent.idiopathic.scoliosis                              & 2                                                            & 3.8701625                                                    & 9.039976e-01                                                 & 0.5167742                                                    & 1.2247449                                                    & -0.6601493                                                   & -3.0606052                                                   & 1.740307                                                    \\\\\n",
       "\t Alcoholic.chronic.pancreatitis                               & 0                                                            &        NA                                                    &           NA                                                 &        NA                                                    &       Inf                                                    &         NA                                                   &         NA                                                   &       NA                                                    \\\\\n",
       "\t Allergic.disease..asthma..hay.fever.or.eczema.               & 2                                                            & 1.0593883                                                    & 2.868113e-01                                                 & 1.8878820                                                    & 0.9128709                                                    &  0.6354555                                                   & -1.1537386                                                   & 2.424650                                                    \\\\\n",
       "\t Alzheimer.s.disease.or.family.history.of.Alzheimer.s.disease & 0                                                            &        NA                                                    &           NA                                                 &        NA                                                    &       Inf                                                    &         NA                                                   &         NA                                                   &       NA                                                    \\\\\n",
       "\t Asthma                                                       & 9                                                            & 0.9201966                                                    & 7.954138e-08                                                 & 9.7805192                                                    & 0.5577734                                                    &  2.2803926                                                   &  1.1871769                                                   & 3.373608                                                    \\\\\n",
       "\t Atrial.fibrillation                                          & 4                                                            & 2.8284027                                                    & 3.113899e-01                                                 & 1.4142258                                                    & 0.6454972                                                    &  0.3465822                                                   & -0.9185691                                                   & 1.611734                                                    \\\\\n",
       "\\end{tabular}\n"
      ],
      "text/markdown": [
       "\n",
       "V1 | V2 | V3 | V4 | or | siglog | logOR | loglo | loghi | \n",
       "|---|---|---|---|---|---|\n",
       "| Adolescent.idiopathic.scoliosis                              | 2                                                            | 3.8701625                                                    | 9.039976e-01                                                 | 0.5167742                                                    | 1.2247449                                                    | -0.6601493                                                   | -3.0606052                                                   | 1.740307                                                     | \n",
       "| Alcoholic.chronic.pancreatitis                               | 0                                                            |        NA                                                    |           NA                                                 |        NA                                                    |       Inf                                                    |         NA                                                   |         NA                                                   |       NA                                                     | \n",
       "| Allergic.disease..asthma..hay.fever.or.eczema.               | 2                                                            | 1.0593883                                                    | 2.868113e-01                                                 | 1.8878820                                                    | 0.9128709                                                    |  0.6354555                                                   | -1.1537386                                                   | 2.424650                                                     | \n",
       "| Alzheimer.s.disease.or.family.history.of.Alzheimer.s.disease | 0                                                            |        NA                                                    |           NA                                                 |        NA                                                    |       Inf                                                    |         NA                                                   |         NA                                                   |       NA                                                     | \n",
       "| Asthma                                                       | 9                                                            | 0.9201966                                                    | 7.954138e-08                                                 | 9.7805192                                                    | 0.5577734                                                    |  2.2803926                                                   |  1.1871769                                                   | 3.373608                                                     | \n",
       "| Atrial.fibrillation                                          | 4                                                            | 2.8284027                                                    | 3.113899e-01                                                 | 1.4142258                                                    | 0.6454972                                                    |  0.3465822                                                   | -0.9185691                                                   | 1.611734                                                     | \n",
       "\n",
       "\n"
      ],
      "text/plain": [
       "  V1                                                           V2 V3       \n",
       "1 Adolescent.idiopathic.scoliosis                              2  3.8701625\n",
       "2 Alcoholic.chronic.pancreatitis                               0         NA\n",
       "3 Allergic.disease..asthma..hay.fever.or.eczema.               2  1.0593883\n",
       "4 Alzheimer.s.disease.or.family.history.of.Alzheimer.s.disease 0         NA\n",
       "5 Asthma                                                       9  0.9201966\n",
       "6 Atrial.fibrillation                                          4  2.8284027\n",
       "  V4           or        siglog    logOR      loglo      loghi   \n",
       "1 9.039976e-01 0.5167742 1.2247449 -0.6601493 -3.0606052 1.740307\n",
       "2           NA        NA       Inf         NA         NA       NA\n",
       "3 2.868113e-01 1.8878820 0.9128709  0.6354555 -1.1537386 2.424650\n",
       "4           NA        NA       Inf         NA         NA       NA\n",
       "5 7.954138e-08 9.7805192 0.5577734  2.2803926  1.1871769 3.373608\n",
       "6 3.113899e-01 1.4142258 0.6454972  0.3465822 -0.9185691 1.611734"
      ]
     },
     "metadata": {},
     "output_type": "display_data"
    }
   ],
   "source": [
    "gwas=read.table('/ye/netapp/jimmie.ye/compare.gwas/gregor/sle.all.snps.5.19/summary.B.bed.txt')\n",
    "alpha = as.numeric(0.05)\n",
    "\n",
    "gwas$or = as.numeric(gwas$V2) / as.numeric(gwas$V3)\n",
    "gwas$siglog <- sqrt(1 / as.numeric(gwas$V1) + 1 / as.numeric(gwas$V2))\n",
    "zalpha <- qnorm(1-alpha/2)\n",
    "gwas$logOR <- log(gwas$or)\n",
    "gwas$loglo <- gwas$logOR - zalpha * gwas$siglog\n",
    "gwas$loghi <- gwas$logOR + zalpha * gwas$siglog\n",
    "head(gwas)"
   ]
  }
 ],
 "metadata": {
  "kernelspec": {
   "display_name": "R",
   "language": "R",
   "name": "ir"
  },
  "language_info": {
   "codemirror_mode": "r",
   "file_extension": ".r",
   "mimetype": "text/x-r-source",
   "name": "R",
   "pygments_lexer": "r",
   "version": "3.5.1"
  }
 },
 "nbformat": 4,
 "nbformat_minor": 2
}
