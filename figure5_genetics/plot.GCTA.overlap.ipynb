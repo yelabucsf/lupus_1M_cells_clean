{
 "cells": [
  {
   "cell_type": "code",
   "execution_count": 8,
   "metadata": {},
   "outputs": [
    {
     "name": "stderr",
     "output_type": "stream",
     "text": [
      "Loading required package: RColorBrewer\n"
     ]
    }
   ],
   "source": [
    "library(data.table)\n",
    "library(ggplot2)\n",
    "library(qvalue)\n",
    "library(pheatmap)\n",
    "library(gridExtra)\n",
    "library(dplyr)\n",
    "library(reshape2)\n",
    "options(stringsAsFactors = FALSE)\n",
    "require(\"RColorBrewer\")\n"
   ]
  },
  {
   "cell_type": "markdown",
   "metadata": {},
   "source": [
    "## Get cis eQTL overlap"
   ]
  },
  {
   "cell_type": "code",
   "execution_count": 2,
   "metadata": {},
   "outputs": [],
   "source": [
    "cts=c('PBMC', 'B', 'cM', 'ncM', 'Th', 'Tc', 'cDC', 'MK', 'NK')\n"
   ]
  },
  {
   "cell_type": "code",
   "execution_count": 3,
   "metadata": {},
   "outputs": [
    {
     "name": "stdout",
     "output_type": "stream",
     "text": [
      "[1] \"PBMC\"\n"
     ]
    },
    {
     "name": "stderr",
     "output_type": "stream",
     "text": [
      "Warning message in fread(paste(dir, ct, \".empirical.pval.txt\", sep = \"\")):\n",
      "“Detected 5 column names but the data has 6 columns (i.e. invalid file). Added 1 extra default column name for the first column which is guessed to be row names or an index. Use setnames() afterwards if this guess is not correct, or fix the file write command that created the file to create a valid file.”"
     ]
    },
    {
     "name": "stdout",
     "output_type": "stream",
     "text": [
      "[1] \"B\"\n"
     ]
    },
    {
     "name": "stderr",
     "output_type": "stream",
     "text": [
      "Warning message in fread(paste(dir, ct, \".empirical.pval.txt\", sep = \"\")):\n",
      "“Detected 5 column names but the data has 6 columns (i.e. invalid file). Added 1 extra default column name for the first column which is guessed to be row names or an index. Use setnames() afterwards if this guess is not correct, or fix the file write command that created the file to create a valid file.”"
     ]
    },
    {
     "name": "stdout",
     "output_type": "stream",
     "text": [
      "[1] \"cM\"\n"
     ]
    },
    {
     "name": "stderr",
     "output_type": "stream",
     "text": [
      "Warning message in fread(paste(dir, ct, \".empirical.pval.txt\", sep = \"\")):\n",
      "“Detected 5 column names but the data has 6 columns (i.e. invalid file). Added 1 extra default column name for the first column which is guessed to be row names or an index. Use setnames() afterwards if this guess is not correct, or fix the file write command that created the file to create a valid file.”"
     ]
    },
    {
     "name": "stdout",
     "output_type": "stream",
     "text": [
      "[1] \"ncM\"\n"
     ]
    },
    {
     "name": "stderr",
     "output_type": "stream",
     "text": [
      "Warning message in fread(paste(dir, ct, \".empirical.pval.txt\", sep = \"\")):\n",
      "“Detected 5 column names but the data has 6 columns (i.e. invalid file). Added 1 extra default column name for the first column which is guessed to be row names or an index. Use setnames() afterwards if this guess is not correct, or fix the file write command that created the file to create a valid file.”"
     ]
    },
    {
     "name": "stdout",
     "output_type": "stream",
     "text": [
      "[1] \"Th\"\n"
     ]
    },
    {
     "name": "stderr",
     "output_type": "stream",
     "text": [
      "Warning message in fread(paste(dir, ct, \".empirical.pval.txt\", sep = \"\")):\n",
      "“Detected 5 column names but the data has 6 columns (i.e. invalid file). Added 1 extra default column name for the first column which is guessed to be row names or an index. Use setnames() afterwards if this guess is not correct, or fix the file write command that created the file to create a valid file.”"
     ]
    },
    {
     "name": "stdout",
     "output_type": "stream",
     "text": [
      "[1] \"Tc\"\n"
     ]
    },
    {
     "name": "stderr",
     "output_type": "stream",
     "text": [
      "Warning message in fread(paste(dir, ct, \".empirical.pval.txt\", sep = \"\")):\n",
      "“Detected 5 column names but the data has 6 columns (i.e. invalid file). Added 1 extra default column name for the first column which is guessed to be row names or an index. Use setnames() afterwards if this guess is not correct, or fix the file write command that created the file to create a valid file.”"
     ]
    },
    {
     "name": "stdout",
     "output_type": "stream",
     "text": [
      "[1] \"cDC\"\n"
     ]
    },
    {
     "name": "stderr",
     "output_type": "stream",
     "text": [
      "Warning message in fread(paste(dir, ct, \".empirical.pval.txt\", sep = \"\")):\n",
      "“Detected 5 column names but the data has 6 columns (i.e. invalid file). Added 1 extra default column name for the first column which is guessed to be row names or an index. Use setnames() afterwards if this guess is not correct, or fix the file write command that created the file to create a valid file.”"
     ]
    },
    {
     "name": "stdout",
     "output_type": "stream",
     "text": [
      "[1] \"MK\"\n"
     ]
    },
    {
     "name": "stderr",
     "output_type": "stream",
     "text": [
      "Warning message in fread(paste(dir, ct, \".empirical.pval.txt\", sep = \"\")):\n",
      "“Detected 5 column names but the data has 6 columns (i.e. invalid file). Added 1 extra default column name for the first column which is guessed to be row names or an index. Use setnames() afterwards if this guess is not correct, or fix the file write command that created the file to create a valid file.”"
     ]
    },
    {
     "name": "stdout",
     "output_type": "stream",
     "text": [
      "[1] \"NK\"\n"
     ]
    },
    {
     "name": "stderr",
     "output_type": "stream",
     "text": [
      "Warning message in fread(paste(dir, ct, \".empirical.pval.txt\", sep = \"\")):\n",
      "“Detected 5 column names but the data has 6 columns (i.e. invalid file). Added 1 extra default column name for the first column which is guessed to be row names or an index. Use setnames() afterwards if this guess is not correct, or fix the file write command that created the file to create a valid file.”"
     ]
    }
   ],
   "source": [
    "load_data <- function(ct, dir){\n",
    "    res=fread(paste(dir, ct, '.empirical.pval.txt', sep=''))\n",
    "    res$FDR=qvalue(res$Empirical)$qvalues\n",
    "    qtls=fread(paste(dir, ct, '.all.results.txt', sep=''))   \n",
    "    \n",
    " #   best=res[!duplicated(res$gene), ]\n",
    "    return(list(all=qtls, emp=res))\n",
    "}\n",
    "\n",
    "\n",
    "load_data_res <- function(ct, dir){\n",
    "#    res=fread(paste(dir, ct, '.empirical.pval.txt', sep=''))\n",
    "#    res$FDR=qvalue(res$Empirical)$qvalues\n",
    "    qtls=fread(paste(dir, ct, '.all.results.txt', sep=''))    \n",
    "\n",
    " #   best=res[!duplicated(res$gene), ]\n",
    "    return(list(all=qtls))\n",
    "}\n",
    "\n",
    "\n",
    "#get unique eQTL genes given FDR threshold\n",
    "getUnique<- function(obj, ct, thresh=0.1){\n",
    "    eqtls=obj[[ct]]$emp\n",
    "    genes=eqtls[which(eqtls$FDR < thresh), ]$Actual\n",
    "    genes=sapply(strsplit(genes, '_'), '[', 2)\n",
    "    return(genes)\n",
    "}\n",
    "\n",
    "dir='/ye/yelabstore3/10x.lupus/eqtls/v5/sle.10pcs/all/'\n",
    "sle=list()\n",
    "for(ct in cts){\n",
    "    print(ct)\n",
    "    sle[[ct]]=load_data(ct, dir)\n",
    "}\n",
    "\n",
    "\n"
   ]
  },
  {
   "cell_type": "code",
   "execution_count": 4,
   "metadata": {},
   "outputs": [
    {
     "data": {
      "text/html": [
       "<table>\n",
       "<thead><tr><th></th><th scope=col>B</th><th scope=col>cM</th><th scope=col>ncM</th><th scope=col>Th</th><th scope=col>Tc</th><th scope=col>cDC</th><th scope=col>MK</th><th scope=col>NK</th></tr></thead>\n",
       "<tbody>\n",
       "\t<tr><th scope=row>B</th><td>538 </td><td> 328</td><td>234 </td><td> 297</td><td> 302</td><td>134 </td><td>26  </td><td>171 </td></tr>\n",
       "\t<tr><th scope=row>cM</th><td>328 </td><td>1686</td><td>630 </td><td> 524</td><td> 532</td><td>264 </td><td>29  </td><td>238 </td></tr>\n",
       "\t<tr><th scope=row>ncM</th><td>234 </td><td> 630</td><td>889 </td><td> 353</td><td> 339</td><td>221 </td><td>26  </td><td>186 </td></tr>\n",
       "\t<tr><th scope=row>Th</th><td>297 </td><td> 524</td><td>353 </td><td>1118</td><td> 627</td><td>177 </td><td>30  </td><td>260 </td></tr>\n",
       "\t<tr><th scope=row>Tc</th><td>302 </td><td> 532</td><td>339 </td><td> 627</td><td>1180</td><td>168 </td><td>30  </td><td>284 </td></tr>\n",
       "\t<tr><th scope=row>cDC</th><td>134 </td><td> 264</td><td>221 </td><td> 177</td><td> 168</td><td>337 </td><td>26  </td><td>120 </td></tr>\n",
       "\t<tr><th scope=row>MK</th><td> 26 </td><td>  29</td><td> 26 </td><td>  30</td><td>  30</td><td> 26 </td><td>39  </td><td> 27 </td></tr>\n",
       "\t<tr><th scope=row>NK</th><td>171 </td><td> 238</td><td>186 </td><td> 260</td><td> 284</td><td>120 </td><td>27  </td><td>403 </td></tr>\n",
       "</tbody>\n",
       "</table>\n"
      ],
      "text/latex": [
       "\\begin{tabular}{r|llllllll}\n",
       "  & B & cM & ncM & Th & Tc & cDC & MK & NK\\\\\n",
       "\\hline\n",
       "\tB & 538  &  328 & 234  &  297 &  302 & 134  & 26   & 171 \\\\\n",
       "\tcM & 328  & 1686 & 630  &  524 &  532 & 264  & 29   & 238 \\\\\n",
       "\tncM & 234  &  630 & 889  &  353 &  339 & 221  & 26   & 186 \\\\\n",
       "\tTh & 297  &  524 & 353  & 1118 &  627 & 177  & 30   & 260 \\\\\n",
       "\tTc & 302  &  532 & 339  &  627 & 1180 & 168  & 30   & 284 \\\\\n",
       "\tcDC & 134  &  264 & 221  &  177 &  168 & 337  & 26   & 120 \\\\\n",
       "\tMK &  26  &   29 &  26  &   30 &   30 &  26  & 39   &  27 \\\\\n",
       "\tNK & 171  &  238 & 186  &  260 &  284 & 120  & 27   & 403 \\\\\n",
       "\\end{tabular}\n"
      ],
      "text/markdown": [
       "\n",
       "| <!--/--> | B | cM | ncM | Th | Tc | cDC | MK | NK | \n",
       "|---|---|---|---|---|---|---|---|\n",
       "| B | 538  |  328 | 234  |  297 |  302 | 134  | 26   | 171  | \n",
       "| cM | 328  | 1686 | 630  |  524 |  532 | 264  | 29   | 238  | \n",
       "| ncM | 234  |  630 | 889  |  353 |  339 | 221  | 26   | 186  | \n",
       "| Th | 297  |  524 | 353  | 1118 |  627 | 177  | 30   | 260  | \n",
       "| Tc | 302  |  532 | 339  |  627 | 1180 | 168  | 30   | 284  | \n",
       "| cDC | 134  |  264 | 221  |  177 |  168 | 337  | 26   | 120  | \n",
       "| MK |  26  |   29 |  26  |   30 |   30 |  26  | 39   |  27  | \n",
       "| NK | 171  |  238 | 186  |  260 |  284 | 120  | 27   | 403  | \n",
       "\n",
       "\n"
      ],
      "text/plain": [
       "    B   cM   ncM Th   Tc   cDC MK NK \n",
       "B   538  328 234  297  302 134 26 171\n",
       "cM  328 1686 630  524  532 264 29 238\n",
       "ncM 234  630 889  353  339 221 26 186\n",
       "Th  297  524 353 1118  627 177 30 260\n",
       "Tc  302  532 339  627 1180 168 30 284\n",
       "cDC 134  264 221  177  168 337 26 120\n",
       "MK   26   29  26   30   30  26 39  27\n",
       "NK  171  238 186  260  284 120 27 403"
      ]
     },
     "metadata": {},
     "output_type": "display_data"
    }
   ],
   "source": [
    "cts_use=cts[-1]\n",
    "n_cts=length(cts_use)\n",
    "\n",
    "mat=matrix(0, nrow=n_cts, ncol=n_cts)\n",
    "rownames(mat)=colnames(mat)=cts[-1]\n",
    "\n",
    "\n",
    "for(i in 1:n_cts){\n",
    "    for(j in 1:n_cts){\n",
    "        g1=getUnique(sle, cts_use[i])\n",
    "        g2=getUnique(sle, cts_use[j])\n",
    "        mat[i, j]=length(intersect(g1, g2))\n",
    "        \n",
    "    }\n",
    "}\n",
    "\n",
    "mat"
   ]
  },
  {
   "cell_type": "markdown",
   "metadata": {},
   "source": [
    "## Get GCTA pairwise results"
   ]
  },
  {
   "cell_type": "code",
   "execution_count": 5,
   "metadata": {},
   "outputs": [
    {
     "name": "stderr",
     "output_type": "stream",
     "text": [
      "Warning message in fread(\"/ye/yelabstore3/gracieg/bivarH2/GCTA.std.eqtl.genes.h2.txt\"):\n",
      "“Detected 17 column names but the data has 18 columns (i.e. invalid file). Added 1 extra default column name for the first column which is guessed to be row names or an index. Use setnames() afterwards if this guess is not correct, or fix the file write command that created the file to create a valid file.”"
     ]
    }
   ],
   "source": [
    "final=fread('/ye/yelabstore3/gracieg/bivarH2/GCTA.std.eqtl.genes.h2.txt')\n",
    "\n",
    "\n"
   ]
  },
  {
   "cell_type": "code",
   "execution_count": 6,
   "metadata": {},
   "outputs": [],
   "source": [
    "filter_std_err<-function(df,se_filter){\n",
    "    tmp1=as.data.frame(filter(df,se1<se_filter))\n",
    "    tmp2=as.data.frame(filter(tmp1,se2<se_filter))\n",
    "    return(tmp2)\n",
    "}\n",
    "\n",
    "\n",
    "plot_cell_cell_scatter_hist<-function(df,cell, se_filt=2){\n",
    "    avg_rG=c()\n",
    "    avg_rG_w=c()\n",
    "    avg_rE=c()\n",
    "    avg_rE_w=c()\n",
    "    var_rG=c()\n",
    "    var_rE=c()\n",
    "    avg_rG_FW=c()\n",
    "    avg_rE_FW=c()\n",
    "        \n",
    "    df_tmp=filter_std_err(as.data.frame(filter(df,cell_pair==as.character(cell))),se_filt)\n",
    "#    print(head(df_tmp))\n",
    "    avg_rG=mean(as.numeric(df_tmp$rg))\n",
    "    #avg_rG_w=c(avg_rG_w,median(as.numeric(inv_tmp$rg)))\n",
    "    avg_rE=mean(as.numeric(df_tmp$re))\n",
    "    #avg_rE_w=c(avg_rE_w,median(as.numeric(inv_tmp$re)))\n",
    "    var_rG=var(as.numeric(df_tmp$rg))\n",
    "    var_rE=var(as.numeric(df_tmp$re))\n",
    "    all_avgs=as.data.frame((cbind(cell,avg_rG,var_rG,avg_rE,var_rE,(as.numeric(avg_rG)+as.numeric(avg_rE)))))\n",
    "   \n",
    "    return(all_avgs)\n",
    "}\n",
    "\n",
    "\n",
    "get_rG_mat<-function(df_outs){\n",
    "    rG=as.data.frame(cbind(df_outs$cell, as.numeric(df_outs$avg_rG)))\n",
    "    rE=as.data.frame(cbind(df_outs$cell, as.numeric(df_outs$avg_rE)))\n",
    "    #print(head(rG))\n",
    "    #print(head(rE))\n",
    "    \n",
    "    colnames(rG)=c('cell_pair','rg')\n",
    "    colnames(rE)=c('cell_pair','re')\n",
    "    \n",
    "    cells =(unique(unlist(strsplit(as.character(rG$cell_pair),\"_\",fixed=TRUE))))\n",
    "    size_mat=length(cells)\n",
    "\n",
    "    mat_rG=matrix(0,size_mat,size_mat)\n",
    "    mat_rE=matrix(0,size_mat,size_mat)\n",
    "    print(cells)\n",
    "    rownames(mat_rG)=cells\n",
    "    colnames(mat_rG)=cells\n",
    "    rownames(mat_rE)=cells\n",
    "    colnames(mat_rE)=cells\n",
    "    \n",
    "    for(c in cells){\n",
    "        mat_rG[c,c]=1\n",
    "        mat_rE[c,c]=1\n",
    "    }    \n",
    "    iter=1\n",
    "    for(p in pairs){\n",
    "        val_rg=(rG$rg[iter])\n",
    "        val_rE=(rE$re[iter])\n",
    "        \n",
    "        name=(unlist(strsplit(as.character(p),\"_\",fixed=TRUE)))\n",
    "        r=(name[1])\n",
    "        c=(name[2])\n",
    "\n",
    "        mat_rG[r,c]=as.numeric(val_rg)\n",
    "        mat_rG[c,r]=as.numeric(val_rg)\n",
    "        mat_rE[r,c]=as.numeric(val_rE)\n",
    "        mat_rE[c,r]=as.numeric(val_rE)\n",
    "        \n",
    "        iter=iter+1\n",
    "    }\n",
    "    \n",
    "    return(mat_rG)\n",
    "    \n",
    "}\n",
    "    \n",
    "\n",
    "save_pheatmap_pdf <- function(x, filename, width=7, height=7) {\n",
    "   stopifnot(!missing(x))\n",
    "   stopifnot(!missing(filename))\n",
    "   pdf(filename, width=width, height=height)\n",
    "   grid::grid.newpage()\n",
    "   grid::grid.draw(x$gtable)\n",
    "   dev.off()\n",
    "}\n",
    "\n",
    "#     #uncomment for all cells\n",
    "#     #mat2_rG=mat_rG\n",
    "#     #mat2_rE=mat_rE\n",
    "    \n",
    "#     #print(mat2_rG)\n",
    "#     #print(mat2_rE)\n",
    "#     diag(mat2_rG)=NA\n",
    "#     o=pheatmap(mat2_rG,breaks=seq(0, 1, by = 0.02), cluster_col = T, cluster_row = T)\n",
    "#     print(o)\n",
    "#     o=pheatmap(mat2_rG, cluster_col = T, cluster_row = T)\n",
    "#     print(o)\n",
    "#     save_pheatmap_pdf(o,\"/Users/marygordon/Documents/YeLab/scMPRA/Writeups/figures/GCTA_rG.pdf\")\n",
    "#     dat <- mat2_rG\n",
    "#     row.order <- hclust(dist(mat2_rG))$order\n",
    "#     col.order <- hclust(dist(t(mat2_rG)))$order\n",
    "#     row.order2 <- hclust(dist(mat2_rE))$order\n",
    "#     col.order2 <- hclust(dist(t(mat2_rE)))$order\n",
    "   \n",
    "#     #cluster mat\n",
    "#     rname=c()\n",
    "#     for(i in row.order){\n",
    "#         #print(i)\n",
    "#         rname=c(rname,(rownames(mat2_rE)[i]))\n",
    "#     }\n",
    "#     #cluster by rG\n",
    "#     mat2_rG=mat2_rG[row.order, col.order]\n",
    "    \n",
    "#     rownames(mat2_rG)=rname\n",
    "#     colnames(mat2_rG)=rname\n",
    "    \n",
    "#     #order based on rG order\n",
    "#     mat2_rE=mat2_rE[row.order, col.order]\n",
    "#     rownames(mat2_rE)=rname\n",
    "#     colnames(mat2_rE)=rname\n",
    "\n",
    "    \n",
    "#     mat2_rG[lower.tri(mat2_rG)] = mat2_rE[lower.tri(mat2_rE)]\n",
    "#     rownames(mat2_rG)=rname\n",
    "#     colnames(mat2_rG)=rname\n",
    "#     #rownames(mat2_rG)=rownames(mat2_rG)[row.order]\n",
    "#     #colnames(mat2_rG)=colnames(mat2_rG)[row.order]\n",
    "#     diag(mat2_rG)=NA\n",
    "#     #print('lower tri')\n",
    "#     #print(lower.tri(mat2_rE))\n",
    "#     #print('final')\n",
    "#     #print(mat2_rG)\n",
    "    \n",
    "#     #p=pheatmap(mat2,breaks=seq(.9, 1, by = 0.005))\n",
    "#     #p=pheatmap(mat2,breaks=seq(.85, 1, by = 0.01))\n",
    "#     #p=pheatmap(mat2,breaks=seq(-0.2, 0.2, by = 0.005))\n",
    "#     #p=pheatmap(mat2_rG,breaks=seq(0, 1, by = 0.01))\n",
    "#     #p=pheatmap(mat2_rG,breaks=seq(-0.2, 1, by = 0.02), cluster_col = F, cluster_row = F)\n",
    "#     p=pheatmap(mat2_rG, cluster_col = F, cluster_row = F)\n",
    "#     print(p)\n",
    "#     save_pheatmap_pdf(p,\"/Users/marygordon/Documents/YeLab/scMPRA/Writeups/figures/GCTA_rG_rE.pdf\")\n",
    "\n",
    "#  }\n",
    "\n",
    "\n"
   ]
  },
  {
   "cell_type": "code",
   "execution_count": 22,
   "metadata": {
    "scrolled": false
   },
   "outputs": [
    {
     "name": "stdout",
     "output_type": "stream",
     "text": [
      " [1] \"B.cells_CD14+.Monocytes\"           \"B.cells_CD4.T.cells\"              \n",
      " [3] \"B.cells_CD8.T.cells\"               \"B.cells_Dendritic.cells\"          \n",
      " [5] \"B.cells_FCGR3A+.Monocytes\"         \"B.cells_NK.cells\"                 \n",
      " [7] \"CD14+.Monocytes_CD4.T.cells\"       \"CD14+.Monocytes_CD8.T.cells\"      \n",
      " [9] \"CD14+.Monocytes_Dendritic.cells\"   \"CD14+.Monocytes_FCGR3A+.Monocytes\"\n",
      "[11] \"CD14+.Monocytes_NK.cells\"          \"CD4.T.cells_CD8.T.cells\"          \n",
      "[13] \"CD4.T.cells_Dendritic.cells\"       \"CD4.T.cells_FCGR3A+.Monocytes\"    \n",
      "[15] \"CD4.T.cells_NK.cells\"              \"CD8.T.cells_Dendritic.cells\"      \n",
      "[17] \"CD8.T.cells_FCGR3A+.Monocytes\"     \"CD8.T.cells_NK.cells\"             \n",
      "[19] \"Dendritic.cells_FCGR3A+.Monocytes\" \"Dendritic.cells_NK.cells\"         \n",
      "[21] \"FCGR3A+.Monocytes_NK.cells\"       \n",
      "[1] \"B.cells\"           \"CD14+.Monocytes\"   \"CD4.T.cells\"      \n",
      "[4] \"CD8.T.cells\"       \"Dendritic.cells\"   \"FCGR3A+.Monocytes\"\n",
      "[7] \"NK.cells\"         \n"
     ]
    },
    {
     "data": {
      "image/png": "[encoded data removed]",
      "text/plain": [
       "plot without title"
      ]
     },
     "metadata": {},
     "output_type": "display_data"
    },
    {
     "data": {
      "text/html": [
       "<strong>png:</strong> 2"
      ],
      "text/latex": [
       "\\textbf{png:} 2"
      ],
      "text/markdown": [
       "**png:** 2"
      ],
      "text/plain": [
       "png \n",
       "  2 "
      ]
     },
     "metadata": {},
     "output_type": "display_data"
    },
    {
     "data": {
      "image/png": "[encoded data removed]",
      "text/plain": [
       "plot without title"
      ]
     },
     "metadata": {},
     "output_type": "display_data"
    }
   ],
   "source": [
    "pairs=unique(final$cell_pair)\n",
    "pairs=pairs[grep('PBMC',pairs, invert=T)]\n",
    "pairs=pairs[grep('Megakaryocytes',pairs, invert=T)]\n",
    "\n",
    "print(pairs)\n",
    "\n",
    "all.df=NULL\n",
    "for(p in pairs){\n",
    "    all.df=rbind(all.df, plot_cell_cell_scatter_hist(final, p))\n",
    "}\n",
    "\n",
    "mat_gcta=get_rG_mat(all.df)\n",
    "\n",
    "rownames(mat_gcta)=colnames(mat_gcta)=c('B', 'cM', 'Th', 'Tc', 'cDC', 'ncM', 'NK')\n",
    "\n",
    "diag(mat_gcta)=NA\n",
    "hm=pheatmap(mat_gcta)\n",
    "\n",
    "order_cts=rownames(mat_gcta)[hm$tree_row$order]\n",
    "\n",
    "ph=pheatmap(mat_gcta[order_cts, order_cts], color = colorRampPalette(c('white', 'red3'))(100), cluster_rows=F, cluster_cols = F)\n",
    "print(ph)\n",
    "save_pheatmap_pdf(ph, 'figures/rG.heatmap.nodend.pdf')\n",
    "\n"
   ]
  },
  {
   "cell_type": "code",
   "execution_count": 12,
   "metadata": {},
   "outputs": [
    {
     "data": {
      "text/html": [
       "<ol class=list-inline>\n",
       "\t<li>-2</li>\n",
       "\t<li>-1.96</li>\n",
       "\t<li>-1.92</li>\n",
       "\t<li>-1.88</li>\n",
       "\t<li>-1.84</li>\n",
       "\t<li>-1.8</li>\n",
       "\t<li>-1.76</li>\n",
       "\t<li>-1.72</li>\n",
       "\t<li>-1.68</li>\n",
       "\t<li>-1.64</li>\n",
       "\t<li>-1.6</li>\n",
       "\t<li>-1.56</li>\n",
       "\t<li>-1.52</li>\n",
       "\t<li>-1.48</li>\n",
       "\t<li>-1.44</li>\n",
       "\t<li>-1.4</li>\n",
       "\t<li>-1.36</li>\n",
       "\t<li>-1.32</li>\n",
       "\t<li>-1.28</li>\n",
       "\t<li>-1.24</li>\n",
       "\t<li>-1.2</li>\n",
       "\t<li>-1.16</li>\n",
       "\t<li>-1.12</li>\n",
       "\t<li>-1.08</li>\n",
       "\t<li>-1.04</li>\n",
       "\t<li>-1</li>\n",
       "\t<li>-0.96</li>\n",
       "\t<li>-0.92</li>\n",
       "\t<li>-0.88</li>\n",
       "\t<li>-0.84</li>\n",
       "\t<li>-0.8</li>\n",
       "\t<li>-0.76</li>\n",
       "\t<li>-0.72</li>\n",
       "\t<li>-0.68</li>\n",
       "\t<li>-0.64</li>\n",
       "\t<li>-0.6</li>\n",
       "\t<li>-0.56</li>\n",
       "\t<li>-0.52</li>\n",
       "\t<li>-0.48</li>\n",
       "\t<li>-0.44</li>\n",
       "\t<li>-0.4</li>\n",
       "\t<li>-0.36</li>\n",
       "\t<li>-0.32</li>\n",
       "\t<li>-0.28</li>\n",
       "\t<li>-0.24</li>\n",
       "\t<li>-0.2</li>\n",
       "\t<li>-0.16</li>\n",
       "\t<li>-0.12</li>\n",
       "\t<li>-0.0800000000000001</li>\n",
       "\t<li>-0.04</li>\n",
       "\t<li>0</li>\n",
       "\t<li>0.04</li>\n",
       "\t<li>0.0800000000000001</li>\n",
       "\t<li>0.12</li>\n",
       "\t<li>0.16</li>\n",
       "\t<li>0.2</li>\n",
       "\t<li>0.24</li>\n",
       "\t<li>0.28</li>\n",
       "\t<li>0.32</li>\n",
       "\t<li>0.36</li>\n",
       "\t<li>0.4</li>\n",
       "\t<li>0.44</li>\n",
       "\t<li>0.48</li>\n",
       "\t<li>0.52</li>\n",
       "\t<li>0.56</li>\n",
       "\t<li>0.6</li>\n",
       "\t<li>0.64</li>\n",
       "\t<li>0.68</li>\n",
       "\t<li>0.72</li>\n",
       "\t<li>0.76</li>\n",
       "\t<li>0.8</li>\n",
       "\t<li>0.84</li>\n",
       "\t<li>0.88</li>\n",
       "\t<li>0.92</li>\n",
       "\t<li>0.96</li>\n",
       "\t<li>1</li>\n",
       "\t<li>1.04</li>\n",
       "\t<li>1.08</li>\n",
       "\t<li>1.12</li>\n",
       "\t<li>1.16</li>\n",
       "\t<li>1.2</li>\n",
       "\t<li>1.24</li>\n",
       "\t<li>1.28</li>\n",
       "\t<li>1.32</li>\n",
       "\t<li>1.36</li>\n",
       "\t<li>1.4</li>\n",
       "\t<li>1.44</li>\n",
       "\t<li>1.48</li>\n",
       "\t<li>1.52</li>\n",
       "\t<li>1.56</li>\n",
       "\t<li>1.6</li>\n",
       "\t<li>1.64</li>\n",
       "\t<li>1.68</li>\n",
       "\t<li>1.72</li>\n",
       "\t<li>1.76</li>\n",
       "\t<li>1.8</li>\n",
       "\t<li>1.84</li>\n",
       "\t<li>1.88</li>\n",
       "\t<li>1.92</li>\n",
       "\t<li>1.96</li>\n",
       "\t<li>2</li>\n",
       "</ol>\n"
      ],
      "text/latex": [
       "\\begin{enumerate*}\n",
       "\\item -2\n",
       "\\item -1.96\n",
       "\\item -1.92\n",
       "\\item -1.88\n",
       "\\item -1.84\n",
       "\\item -1.8\n",
       "\\item -1.76\n",
       "\\item -1.72\n",
       "\\item -1.68\n",
       "\\item -1.64\n",
       "\\item -1.6\n",
       "\\item -1.56\n",
       "\\item -1.52\n",
       "\\item -1.48\n",
       "\\item -1.44\n",
       "\\item -1.4\n",
       "\\item -1.36\n",
       "\\item -1.32\n",
       "\\item -1.28\n",
       "\\item -1.24\n",
       "\\item -1.2\n",
       "\\item -1.16\n",
       "\\item -1.12\n",
       "\\item -1.08\n",
       "\\item -1.04\n",
       "\\item -1\n",
       "\\item -0.96\n",
       "\\item -0.92\n",
       "\\item -0.88\n",
       "\\item -0.84\n",
       "\\item -0.8\n",
       "\\item -0.76\n",
       "\\item -0.72\n",
       "\\item -0.68\n",
       "\\item -0.64\n",
       "\\item -0.6\n",
       "\\item -0.56\n",
       "\\item -0.52\n",
       "\\item -0.48\n",
       "\\item -0.44\n",
       "\\item -0.4\n",
       "\\item -0.36\n",
       "\\item -0.32\n",
       "\\item -0.28\n",
       "\\item -0.24\n",
       "\\item -0.2\n",
       "\\item -0.16\n",
       "\\item -0.12\n",
       "\\item -0.0800000000000001\n",
       "\\item -0.04\n",
       "\\item 0\n",
       "\\item 0.04\n",
       "\\item 0.0800000000000001\n",
       "\\item 0.12\n",
       "\\item 0.16\n",
       "\\item 0.2\n",
       "\\item 0.24\n",
       "\\item 0.28\n",
       "\\item 0.32\n",
       "\\item 0.36\n",
       "\\item 0.4\n",
       "\\item 0.44\n",
       "\\item 0.48\n",
       "\\item 0.52\n",
       "\\item 0.56\n",
       "\\item 0.6\n",
       "\\item 0.64\n",
       "\\item 0.68\n",
       "\\item 0.72\n",
       "\\item 0.76\n",
       "\\item 0.8\n",
       "\\item 0.84\n",
       "\\item 0.88\n",
       "\\item 0.92\n",
       "\\item 0.96\n",
       "\\item 1\n",
       "\\item 1.04\n",
       "\\item 1.08\n",
       "\\item 1.12\n",
       "\\item 1.16\n",
       "\\item 1.2\n",
       "\\item 1.24\n",
       "\\item 1.28\n",
       "\\item 1.32\n",
       "\\item 1.36\n",
       "\\item 1.4\n",
       "\\item 1.44\n",
       "\\item 1.48\n",
       "\\item 1.52\n",
       "\\item 1.56\n",
       "\\item 1.6\n",
       "\\item 1.64\n",
       "\\item 1.68\n",
       "\\item 1.72\n",
       "\\item 1.76\n",
       "\\item 1.8\n",
       "\\item 1.84\n",
       "\\item 1.88\n",
       "\\item 1.92\n",
       "\\item 1.96\n",
       "\\item 2\n",
       "\\end{enumerate*}\n"
      ],
      "text/markdown": [
       "1. -2\n",
       "2. -1.96\n",
       "3. -1.92\n",
       "4. -1.88\n",
       "5. -1.84\n",
       "6. -1.8\n",
       "7. -1.76\n",
       "8. -1.72\n",
       "9. -1.68\n",
       "10. -1.64\n",
       "11. -1.6\n",
       "12. -1.56\n",
       "13. -1.52\n",
       "14. -1.48\n",
       "15. -1.44\n",
       "16. -1.4\n",
       "17. -1.36\n",
       "18. -1.32\n",
       "19. -1.28\n",
       "20. -1.24\n",
       "21. -1.2\n",
       "22. -1.16\n",
       "23. -1.12\n",
       "24. -1.08\n",
       "25. -1.04\n",
       "26. -1\n",
       "27. -0.96\n",
       "28. -0.92\n",
       "29. -0.88\n",
       "30. -0.84\n",
       "31. -0.8\n",
       "32. -0.76\n",
       "33. -0.72\n",
       "34. -0.68\n",
       "35. -0.64\n",
       "36. -0.6\n",
       "37. -0.56\n",
       "38. -0.52\n",
       "39. -0.48\n",
       "40. -0.44\n",
       "41. -0.4\n",
       "42. -0.36\n",
       "43. -0.32\n",
       "44. -0.28\n",
       "45. -0.24\n",
       "46. -0.2\n",
       "47. -0.16\n",
       "48. -0.12\n",
       "49. -0.0800000000000001\n",
       "50. -0.04\n",
       "51. 0\n",
       "52. 0.04\n",
       "53. 0.0800000000000001\n",
       "54. 0.12\n",
       "55. 0.16\n",
       "56. 0.2\n",
       "57. 0.24\n",
       "58. 0.28\n",
       "59. 0.32\n",
       "60. 0.36\n",
       "61. 0.4\n",
       "62. 0.44\n",
       "63. 0.48\n",
       "64. 0.52\n",
       "65. 0.56\n",
       "66. 0.6\n",
       "67. 0.64\n",
       "68. 0.68\n",
       "69. 0.72\n",
       "70. 0.76\n",
       "71. 0.8\n",
       "72. 0.84\n",
       "73. 0.88\n",
       "74. 0.92\n",
       "75. 0.96\n",
       "76. 1\n",
       "77. 1.04\n",
       "78. 1.08\n",
       "79. 1.12\n",
       "80. 1.16\n",
       "81. 1.2\n",
       "82. 1.24\n",
       "83. 1.28\n",
       "84. 1.32\n",
       "85. 1.36\n",
       "86. 1.4\n",
       "87. 1.44\n",
       "88. 1.48\n",
       "89. 1.52\n",
       "90. 1.56\n",
       "91. 1.6\n",
       "92. 1.64\n",
       "93. 1.68\n",
       "94. 1.72\n",
       "95. 1.76\n",
       "96. 1.8\n",
       "97. 1.84\n",
       "98. 1.88\n",
       "99. 1.92\n",
       "100. 1.96\n",
       "101. 2\n",
       "\n",
       "\n"
      ],
      "text/plain": [
       "  [1] -2.00 -1.96 -1.92 -1.88 -1.84 -1.80 -1.76 -1.72 -1.68 -1.64 -1.60 -1.56\n",
       " [13] -1.52 -1.48 -1.44 -1.40 -1.36 -1.32 -1.28 -1.24 -1.20 -1.16 -1.12 -1.08\n",
       " [25] -1.04 -1.00 -0.96 -0.92 -0.88 -0.84 -0.80 -0.76 -0.72 -0.68 -0.64 -0.60\n",
       " [37] -0.56 -0.52 -0.48 -0.44 -0.40 -0.36 -0.32 -0.28 -0.24 -0.20 -0.16 -0.12\n",
       " [49] -0.08 -0.04  0.00  0.04  0.08  0.12  0.16  0.20  0.24  0.28  0.32  0.36\n",
       " [61]  0.40  0.44  0.48  0.52  0.56  0.60  0.64  0.68  0.72  0.76  0.80  0.84\n",
       " [73]  0.88  0.92  0.96  1.00  1.04  1.08  1.12  1.16  1.20  1.24  1.28  1.32\n",
       " [85]  1.36  1.40  1.44  1.48  1.52  1.56  1.60  1.64  1.68  1.72  1.76  1.80\n",
       " [97]  1.84  1.88  1.92  1.96  2.00"
      ]
     },
     "metadata": {},
     "output_type": "display_data"
    }
   ],
   "source": [
    "myCol <- colorRampPalette(c(\"white\", \"red\"))(100)\n"
   ]
  },
  {
   "cell_type": "code",
   "execution_count": 23,
   "metadata": {},
   "outputs": [
    {
     "data": {
      "text/html": [
       "<table>\n",
       "<thead><tr><th></th><th scope=col>B</th><th scope=col>Th</th><th scope=col>Tc</th><th scope=col>NK</th><th scope=col>cDC</th><th scope=col>cM</th><th scope=col>ncM</th></tr></thead>\n",
       "<tbody>\n",
       "\t<tr><th scope=row>B</th><td>538 </td><td> 297</td><td> 302</td><td>171 </td><td>134 </td><td> 328</td><td>234 </td></tr>\n",
       "\t<tr><th scope=row>Th</th><td>297 </td><td>1118</td><td> 627</td><td>260 </td><td>177 </td><td> 524</td><td>353 </td></tr>\n",
       "\t<tr><th scope=row>Tc</th><td>302 </td><td> 627</td><td>1180</td><td>284 </td><td>168 </td><td> 532</td><td>339 </td></tr>\n",
       "\t<tr><th scope=row>NK</th><td>171 </td><td> 260</td><td> 284</td><td>403 </td><td>120 </td><td> 238</td><td>186 </td></tr>\n",
       "\t<tr><th scope=row>cDC</th><td>134 </td><td> 177</td><td> 168</td><td>120 </td><td>337 </td><td> 264</td><td>221 </td></tr>\n",
       "\t<tr><th scope=row>cM</th><td>328 </td><td> 524</td><td> 532</td><td>238 </td><td>264 </td><td>1686</td><td>630 </td></tr>\n",
       "\t<tr><th scope=row>ncM</th><td>234 </td><td> 353</td><td> 339</td><td>186 </td><td>221 </td><td> 630</td><td>889 </td></tr>\n",
       "</tbody>\n",
       "</table>\n"
      ],
      "text/latex": [
       "\\begin{tabular}{r|lllllll}\n",
       "  & B & Th & Tc & NK & cDC & cM & ncM\\\\\n",
       "\\hline\n",
       "\tB & 538  &  297 &  302 & 171  & 134  &  328 & 234 \\\\\n",
       "\tTh & 297  & 1118 &  627 & 260  & 177  &  524 & 353 \\\\\n",
       "\tTc & 302  &  627 & 1180 & 284  & 168  &  532 & 339 \\\\\n",
       "\tNK & 171  &  260 &  284 & 403  & 120  &  238 & 186 \\\\\n",
       "\tcDC & 134  &  177 &  168 & 120  & 337  &  264 & 221 \\\\\n",
       "\tcM & 328  &  524 &  532 & 238  & 264  & 1686 & 630 \\\\\n",
       "\tncM & 234  &  353 &  339 & 186  & 221  &  630 & 889 \\\\\n",
       "\\end{tabular}\n"
      ],
      "text/markdown": [
       "\n",
       "| <!--/--> | B | Th | Tc | NK | cDC | cM | ncM | \n",
       "|---|---|---|---|---|---|---|\n",
       "| B | 538  |  297 |  302 | 171  | 134  |  328 | 234  | \n",
       "| Th | 297  | 1118 |  627 | 260  | 177  |  524 | 353  | \n",
       "| Tc | 302  |  627 | 1180 | 284  | 168  |  532 | 339  | \n",
       "| NK | 171  |  260 |  284 | 403  | 120  |  238 | 186  | \n",
       "| cDC | 134  |  177 |  168 | 120  | 337  |  264 | 221  | \n",
       "| cM | 328  |  524 |  532 | 238  | 264  | 1686 | 630  | \n",
       "| ncM | 234  |  353 |  339 | 186  | 221  |  630 | 889  | \n",
       "\n",
       "\n"
      ],
      "text/plain": [
       "    B   Th   Tc   NK  cDC cM   ncM\n",
       "B   538  297  302 171 134  328 234\n",
       "Th  297 1118  627 260 177  524 353\n",
       "Tc  302  627 1180 284 168  532 339\n",
       "NK  171  260  284 403 120  238 186\n",
       "cDC 134  177  168 120 337  264 221\n",
       "cM  328  524  532 238 264 1686 630\n",
       "ncM 234  353  339 186 221  630 889"
      ]
     },
     "metadata": {},
     "output_type": "display_data"
    },
    {
     "data": {
      "text/html": [
       "<strong>png:</strong> 2"
      ],
      "text/latex": [
       "\\textbf{png:} 2"
      ],
      "text/markdown": [
       "**png:** 2"
      ],
      "text/plain": [
       "png \n",
       "  2 "
      ]
     },
     "metadata": {},
     "output_type": "display_data"
    },
    {
     "data": {
      "image/png": "[encoded data removed]",
      "text/plain": [
       "plot without title"
      ]
     },
     "metadata": {},
     "output_type": "display_data"
    }
   ],
   "source": [
    "eqtl_mat.ordered=mat[match(order_cts, rownames(mat)), match(order_cts, colnames(mat))]\n",
    "eqtl_mat.ordered\n",
    "\n",
    "quantile_breaks <- function(xs, n = 10) {\n",
    "  breaks <- quantile(xs, probs = seq(0, 1, length.out = n))\n",
    "  breaks[!duplicated(breaks)]\n",
    "}\n",
    "\n",
    "mat_breaks <- quantile_breaks(eqtl_mat.ordered, n = 100)\n",
    "\n",
    "\n",
    "\n",
    "ph2=pheatmap(eqtl_mat.ordered, cluster_rows = F, cluster_cols=F, breaks=mat_breaks, color = colorRampPalette(c('white', 'red3'))(100))\n",
    "\n",
    "save_pheatmap_pdf(ph2, 'figures/eqtl.overlap.heatmap.pdf')\n"
   ]
  }
 ],
 "metadata": {
  "kernelspec": {
   "display_name": "R",
   "language": "R",
   "name": "ir"
  },
  "language_info": {
   "codemirror_mode": "r",
   "file_extension": ".r",
   "mimetype": "text/x-r-source",
   "name": "R",
   "pygments_lexer": "r",
   "version": "3.5.1"
  }
 },
 "nbformat": 4,
 "nbformat_minor": 2
}
