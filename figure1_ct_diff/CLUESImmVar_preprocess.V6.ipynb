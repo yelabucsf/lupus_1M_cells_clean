{
 "cells": [
  {
   "cell_type": "code",
   "execution_count": 1,
   "metadata": {},
   "outputs": [],
   "source": [
    "import numpy as np\n",
    "import scanpy.api as sc\n",
    "from scipy.sparse import csr_matrix\n",
    "import logging\n",
    "import pandas as pd\n",
    "import combat2\n",
    "import combat\n",
    "import patsy\n",
    "\n",
    "##################\n",
    "# Configure file #\n",
    "##################\n",
    "sc.settings.verbosity = 2\n",
    "sc.settings.autoshow = False\n",
    "logging.basicConfig(level=logging.INFO)\n"
   ]
  },
  {
   "cell_type": "code",
   "execution_count": 2,
   "metadata": {},
   "outputs": [],
   "source": [
    "savepath = '/Users/yimmieg/Downloads/CLUESImmVar_processed.V6.h5ad'\n",
    "filepath = '/Users/yimmieg/Downloads/CLUESImmVar_nonorm.V6.h5ad'"
   ]
  },
  {
   "cell_type": "code",
   "execution_count": 3,
   "metadata": {},
   "outputs": [
    {
     "name": "stderr",
     "output_type": "stream",
     "text": [
      "INFO:root:Data structure details: AnnData object with n_obs × n_vars = 834096 × 32738 \n",
      "    obs: 'disease_cov', 'ct_cov', 'pop_cov', 'ind_cov', 'well', 'batch_cov', 'batch'\n",
      "    var: 'gene_ids-0-0-0-0-0-0-0-0-0-0-0-0-0', 'gene_ids-1-0-0-0-0-0-0-0-0-0-0-0-0', 'gene_ids-1-0-0-0-0-0-0-0-0-0-0-0', 'gene_ids-1-0-0-0-0-0-0-0-0-0-0', 'gene_ids-1-0-0-0-0-0-0-0-0-0', 'gene_ids-1-0-0-0-0-0-0-0-0', 'gene_ids-1-0-0-0-0-0-0-0', 'gene_ids-1-0-0-0-0-0-0', 'gene_ids-1-0-0-0-0-0', 'gene_ids-1-0-0-0-0', 'gene_ids-1-0-0-0', 'gene_ids-1-0-0', 'gene_ids-1-0', 'gene_ids-1'\n",
      "INFO:root:Removing Erythrocytes.\n",
      "INFO:root:Data structure details: View of AnnData object with n_obs × n_vars = 832490 × 32738 \n",
      "    obs: 'disease_cov', 'ct_cov', 'pop_cov', 'ind_cov', 'well', 'batch_cov', 'batch'\n",
      "    var: 'gene_ids-0-0-0-0-0-0-0-0-0-0-0-0-0', 'gene_ids-1-0-0-0-0-0-0-0-0-0-0-0-0', 'gene_ids-1-0-0-0-0-0-0-0-0-0-0-0', 'gene_ids-1-0-0-0-0-0-0-0-0-0-0', 'gene_ids-1-0-0-0-0-0-0-0-0-0', 'gene_ids-1-0-0-0-0-0-0-0-0', 'gene_ids-1-0-0-0-0-0-0-0', 'gene_ids-1-0-0-0-0-0-0', 'gene_ids-1-0-0-0-0-0', 'gene_ids-1-0-0-0-0', 'gene_ids-1-0-0-0', 'gene_ids-1-0-0', 'gene_ids-1-0', 'gene_ids-1'\n",
      "INFO:root:Mito genes: ['MT-ND1', 'MT-ND2', 'MT-CO1', 'MT-CO2', 'MT-ATP8', 'MT-ATP6', 'MT-CO3', 'MT-ND3', 'MT-ND4L', 'MT-ND4', 'MT-ND5', 'MT-ND6', 'MT-CYB']\n",
      "/Users/yimmieg/anaconda3/lib/python3.6/site-packages/ipykernel_launcher.py:30: SettingWithCopyWarning: \n",
      "A value is trying to be set on a copy of a slice from a DataFrame\n",
      "\n",
      "See the caveats in the documentation: http://pandas.pydata.org/pandas-docs/stable/indexing.html#indexing-view-versus-copy\n",
      "/Users/yimmieg/anaconda3/lib/python3.6/site-packages/ipykernel_launcher.py:31: SettingWithCopyWarning: \n",
      "A value is trying to be set on a copy of a slice from a DataFrame\n",
      "\n",
      "See the caveats in the documentation: http://pandas.pydata.org/pandas-docs/stable/indexing.html#indexing-view-versus-copy\n",
      "/Users/yimmieg/anaconda3/lib/python3.6/site-packages/ipykernel_launcher.py:32: SettingWithCopyWarning: \n",
      "A value is trying to be set on a copy of a slice from a DataFrame\n",
      "\n",
      "See the caveats in the documentation: http://pandas.pydata.org/pandas-docs/stable/indexing.html#indexing-view-versus-copy\n",
      "INFO:root:Add SLEDAI scores as a covariate.\n",
      "/Users/yimmieg/anaconda3/lib/python3.6/site-packages/ipykernel_launcher.py:42: SettingWithCopyWarning: \n",
      "A value is trying to be set on a copy of a slice from a DataFrame\n",
      "\n",
      "See the caveats in the documentation: http://pandas.pydata.org/pandas-docs/stable/indexing.html#indexing-view-versus-copy\n",
      "/Users/yimmieg/anaconda3/lib/python3.6/site-packages/ipykernel_launcher.py:39: SettingWithCopyWarning: \n",
      "A value is trying to be set on a copy of a slice from a DataFrame\n",
      "\n",
      "See the caveats in the documentation: http://pandas.pydata.org/pandas-docs/stable/indexing.html#indexing-view-versus-copy\n",
      "INFO:root:Add whether or not sequencing was performed at the Broad Institute as a covariate.\n",
      "INFO:root:Add gender as a covariate.\n",
      "INFO:root:Filtering cells\n",
      "INFO:root:Data structure details: View of AnnData object with n_obs × n_vars = 821706 × 32738 \n",
      "    obs: 'disease_cov', 'ct_cov', 'pop_cov', 'ind_cov', 'well', 'batch_cov', 'batch', 'percent_mito', 'n_counts', 'SLEDAI', 'Broad', 'Female'\n",
      "    var: 'gene_ids-0-0-0-0-0-0-0-0-0-0-0-0-0', 'gene_ids-1-0-0-0-0-0-0-0-0-0-0-0-0', 'gene_ids-1-0-0-0-0-0-0-0-0-0-0-0', 'gene_ids-1-0-0-0-0-0-0-0-0-0-0', 'gene_ids-1-0-0-0-0-0-0-0-0-0', 'gene_ids-1-0-0-0-0-0-0-0-0', 'gene_ids-1-0-0-0-0-0-0-0', 'gene_ids-1-0-0-0-0-0-0', 'gene_ids-1-0-0-0-0-0', 'gene_ids-1-0-0-0-0', 'gene_ids-1-0-0-0', 'gene_ids-1-0-0', 'gene_ids-1-0', 'gene_ids-1'\n"
     ]
    },
    {
     "name": "stdout",
     "output_type": "stream",
     "text": [
      "filtered out 1828 cells that have more than  2500 genes expressed\n",
      "filtered out 14548 genes that are detected in less than 100 cells\n"
     ]
    },
    {
     "name": "stderr",
     "output_type": "stream",
     "text": [
      "INFO:root:Data structure details: AnnData object with n_obs × n_vars = 819878 × 18190 \n",
      "    obs: 'disease_cov', 'ct_cov', 'pop_cov', 'ind_cov', 'well', 'batch_cov', 'batch', 'percent_mito', 'n_counts', 'SLEDAI', 'Broad', 'Female', 'n_genes'\n",
      "    var: 'gene_ids-0-0-0-0-0-0-0-0-0-0-0-0-0', 'gene_ids-1-0-0-0-0-0-0-0-0-0-0-0-0', 'gene_ids-1-0-0-0-0-0-0-0-0-0-0-0', 'gene_ids-1-0-0-0-0-0-0-0-0-0-0', 'gene_ids-1-0-0-0-0-0-0-0-0-0', 'gene_ids-1-0-0-0-0-0-0-0-0', 'gene_ids-1-0-0-0-0-0-0-0', 'gene_ids-1-0-0-0-0-0-0', 'gene_ids-1-0-0-0-0-0', 'gene_ids-1-0-0-0-0', 'gene_ids-1-0-0-0', 'gene_ids-1-0-0', 'gene_ids-1-0', 'gene_ids-1', 'n_cells'\n",
      "INFO:root:Saving raw counts\n",
      "INFO:root:Normalizing total counts to 10,000\n",
      "INFO:root:Log transforming data\n",
      "INFO:root:Saving log(counts)+1 in .raw\n"
     ]
    }
   ],
   "source": [
    "\n",
    "####################\n",
    "# Basic processing #\n",
    "####################\n",
    "adata = sc.read(filepath)\n",
    "adata.obs['well'] = adata.obs['well'].astype('category')\n",
    "adata.var_names_make_unique()\n",
    "logging.info(str('Data structure details: ' + str(adata)))\n",
    "logging.info('Removing Erythrocytes.')\n",
    "mat = csr_matrix(adata.X)\n",
    "mat = mat[:, adata.var_names.isin(['HBB'])].todense()\n",
    "adata = adata[np.ravel(mat <= 1)]\n",
    "logging.info(str('Data structure details: ' + str(adata)))\n",
    "# Extract list of genes\n",
    "genelist = adata.var_names.tolist()\n",
    "# Find mitochondrial genes\n",
    "mito_genes_names = [gn for gn in genelist if gn.startswith('MT-')]\n",
    "logging.info(str('Mito genes: ' + str(mito_genes_names)))\n",
    "# Find indices of mitochondrial genes\n",
    "mito_genes = [genelist.index(gn) for gn in mito_genes_names]\n",
    "# For each cell compute fraction of counts in mito genes vs. all genes\n",
    "adata.obs['percent_mito'] = np.ravel(np.sum(adata[:, mito_genes].X, axis=1)) / np.ravel(np.sum(adata.X, axis=1))\n",
    "# Add the total counts per cell as observations-annotation to adata\n",
    "adata.obs['n_counts'] = np.ravel(adata.X.sum(axis=1))\n",
    "# Clinical variates\n",
    "diseasecovpath = 'v2.clinical.data.txt'\n",
    "clinic_cov = pd.read_csv(diseasecovpath, sep=\"\\t\")\n",
    "# Fix name to make it compatible with clinical variates\n",
    "adata.obs['ind_cov'] = adata.obs['ind_cov'].astype('object')\n",
    "adata.obs['ind_cov'][adata.obs['ind_cov'].isin(['1221'])] = '1221_1221'\n",
    "adata.obs['ind_cov'][adata.obs['ind_cov'].isin(['1251'])] = '1251_1251'\n",
    "adata.obs['ind_cov'][adata.obs['ind_cov'].isin(['1891'])] = '1891_1891'\n",
    "indlist = np.unique(np.asarray(adata.obs['ind_cov'].tolist()))\n",
    "# Add SLEDAI scores as covariate\n",
    "logging.info('Add SLEDAI scores as a covariate.')\n",
    "adata.obs['SLEDAI'] = adata.obs['ind_cov'].tolist()\n",
    "for ii in range(len(indlist)):\n",
    "    if adata.obs['disease_cov'][adata.obs['ind_cov'] == indlist[ii]][0] == 'healthy':\n",
    "        adata.obs['SLEDAI'][adata.obs['ind_cov'] == indlist[ii]] = '0'\n",
    "    else:\n",
    "        score = clinic_cov['sledaiscore'][clinic_cov['genotypeid'].isin([indlist[ii]])].values.tolist()[0]\n",
    "        adata.obs['SLEDAI'][adata.obs['ind_cov'] == indlist[ii]] = str(score)\n",
    "\n",
    "logging.info('Add whether or not sequencing was performed at the Broad Institute as a covariate.')\n",
    "# Get list of batches\n",
    "batch_list = adata.obs['batch_cov'].tolist()\n",
    "# Preallocate int array w/ size of batch_cov\n",
    "broad = np.zeros_like(np.asarray(batch_list))\n",
    "# if immvar is in batch name, assign 1.\n",
    "for ii in range(len(batch_list)):\n",
    "    if 'immvar' in batch_list[ii]:\n",
    "        broad[ii] = 1\n",
    "    else:\n",
    "        broad[ii] = 0\n",
    "# Make obs for Broad indication\n",
    "adata.obs['Broad'] = np.asarray(broad, dtype=np.float32)\n",
    "\n",
    "logging.info('Add gender as a covariate.')\n",
    "individuals_list = adata.obs['ind_cov'].tolist()\n",
    "female = np.zeros_like(np.asarray(individuals_list))\n",
    "for ii in range(len(individuals_list)):\n",
    "    if 'IGT' in individuals_list[ii]:\n",
    "        female[ii] = 1\n",
    "    else:\n",
    "        if clinic_cov['female'][clinic_cov['genotypeid'].isin([individuals_list[ii]])].values.tolist()[0] == 1:\n",
    "            female[ii] = 1\n",
    "        else:\n",
    "            female[ii] = 0\n",
    "# Make obs for Broad indication\n",
    "adata.obs['Female'] = np.asarray(female, dtype=np.float32)\n",
    "\n",
    "logging.info('Filtering cells')\n",
    "# Filter cells that have more than 10% of counts coming from mitochondrial genes.\n",
    "adata = adata[adata.obs['percent_mito'] < 0.10]\n",
    "logging.info(str('Data structure details: ' + str(adata)))\n",
    "# Filter cells with abnormally low gene counts, high gene counts.\n",
    "sc.pp.filter_cells(adata, min_genes=100)\n",
    "sc.pp.filter_cells(adata, max_genes=2500)\n",
    "sc.pp.filter_genes(adata, min_cells=200)\n",
    "logging.info(str('Data structure details: ' + str(adata)))\n",
    "logging.info('Saving raw counts')\n",
    "adata.uns['barcodes'] = adata.obs_names.tolist()\n",
    "adata.uns['genes'] = adata.var_names.tolist()\n",
    "adata.uns['raw_counts'] = adata.X\n",
    "logging.info('Normalizing total counts to 10,000')\n",
    "sc.pp.normalize_per_cell(adata, counts_per_cell_after=1e4)\n",
    "logging.info('Log transforming data')\n",
    "sc.pp.log1p(adata)\n",
    "logging.info('Saving log(counts)+1 in .raw')\n",
    "adata.raw = adata\n",
    "\n"
   ]
  },
  {
   "cell_type": "code",
   "execution_count": 4,
   "metadata": {},
   "outputs": [
    {
     "data": {
      "text/plain": [
       "(819878, 18190)"
      ]
     },
     "execution_count": 4,
     "metadata": {},
     "output_type": "execute_result"
    }
   ],
   "source": [
    "adata.shape"
   ]
  },
  {
   "cell_type": "code",
   "execution_count": null,
   "metadata": {},
   "outputs": [
    {
     "name": "stderr",
     "output_type": "stream",
     "text": [
      "INFO:root:Running combat\n",
      "found 14 batches\n",
      "found 0 numerical covariates...\n",
      "found 1 categorical variables:\tdisease_cov[T.sle]\n",
      "Standardizing Data across genes.\n"
     ]
    }
   ],
   "source": [
    "\n",
    "logging.info('Running combat')\n",
    "mod = patsy.dmatrix(\"~ disease_cov\", adata.obs, return_type=\"dataframe\")\n",
    "mod = mod.reset_index(drop=True)\n",
    "batch = adata.obs['batch_cov']\n",
    "batch = batch.reset_index(drop=True)\n",
    "adata.X = combat.combat(adata.X.transpose().toarray(), batch=batch, model=mod).transpose();\n",
    "\n",
    "# Add platelet genes for purposes of regressing out their signature\n",
    "adata.obs['PF4'] = adata.raw[:,\"PF4\"].X\n",
    "adata.obs['SDPR'] = adata.raw[:,\"SDPR\"].X\n",
    "adata.obs['GNG11'] = adata.raw[:,\"GNG11\"].X\n",
    "adata.obs['PPBP'] = adata.raw[:,\"PPBP\"].X\n",
    "logging.info('Making .obs into categories')\n",
    "adata.strings_to_categoricals()\n",
    "logging.info('Filtering genes')\n",
    "sc.pp.highly_variable_genes(adata, min_mean=0.0125, max_mean=3, min_disp=0.5)\n",
    "adata = adata[:, adata.var['highly_variable']]\n",
    "logging.info(str('Data structure details: ' + str(adata)))\n",
    "\n",
    "sc.pp.scale(adata, max_value=10)"
   ]
  },
  {
   "cell_type": "code",
   "execution_count": null,
   "metadata": {},
   "outputs": [],
   "source": [
    "## compute PCA\n",
    "sc.pp.pca(adata, random_state=1, svd_solver='arpack')\n",
    "\n",
    "## removing the two components most highly correlated with platelet counts\n",
    "to_remove = pd.Series()\n",
    "for ii in range(len(adata.obsm.X_pca[1,:])) :\n",
    "    logging.info(str(np.corrcoef(adata.obsm.X_pca[:,ii], adata.obs[\"PF4\"])[0,1]))\n",
    "    if(np.absolute(np.corrcoef(adata.obsm.X_pca[:,ii], adata.obs[\"PF4\"])[0,1]) > 0.1):\n",
    "        adata.obs[\"PC\"+str(ii)] = adata.obsm.X_pca[:,ii];\n",
    "        to_remove = to_remove.append(pd.Series([\"PC\"+str(ii)]))\n",
    "        logging.info(str(ii))\n",
    "        logging.info(str(np.corrcoef(adata.obsm.X_pca[:,ii], adata.obs[\"PF4\"])))\n",
    "\n",
    "\n",
    "##batch_cov = pd.get_dummies(adata.obs.batch_cov)\n",
    "##adata.obs = pd.concat([adata.obs, batch_cov], axis=1)\n",
    "regressors = ['n_counts', 'percent_mito', 'Female']+to_remove.tolist();\n",
    "\n",
    "logging.info('Regressing out total nUMIs, percentage mitochondrial UMIs, gender, platelet signature and pool')\n",
    "logging.info('regressors: '+str(regressors))\n",
    "\n",
    "sc.pp.regress_out(adata, regressors)\n",
    "\n",
    "##sc.pp.regress_out(adata, ['batch_cov']);\n",
    "\n",
    "logging.info('Scaling expression data')\n",
    "sc.pp.scale(adata, max_value=10)\n",
    "\n",
    "\n",
    "# ## combat adjustment                                                                                                                                                                                                           \n",
    "# logging.info('Running combat')\n",
    "# mod = patsy.dmatrix(\"~ disease_cov\", adata.obs, return_type=\"dataframe\")\n",
    "# mod = mod.reset_index(drop=True)\n",
    "# batch = adata.obs['batch_cov']\n",
    "# batch = batch.reset_index(drop=True)\n",
    "# adata.X = combat.combat(adata.X.transpose(), batch=batch, model=mod).transpose();\n",
    "\n",
    "##combat2.combat(adata, model=mod, key=\"batch_cov\")\n",
    "##sc.pp.combat(adata, key=\"batch_cov\")\n",
    "\n",
    "\n",
    "logging.info(str('Data structure details: ' + str(adata)))\n",
    "logging.info('Removing samples that were processed twice...')\n",
    "# Remove samples that were processed twice and get rid of their 1.10 run\n",
    "remove = ['902289200_902289200', '1262_1262', '1270_1270', '1279_1279']\n",
    "# Remove samples that were processed twice and get rid of their 8.9 run\n",
    "# since the 8.9 run has the fewest number of cells, this adjustment is important for testing for cell proportion differences\n",
    "# going forward, we will want to combine batches for the same individuals\n",
    "remove2 = ['1472_1472', '1479_1479', '1480_1480', '1492_1492', '1522_1522', '1535_1535', '1602_1602', '1615_1615', '1621_1621', '1716_1716', '1726_1726', '1730_1730']\n",
    "keep_indices = ~((adata.obs.ind_cov.isin(remove)) & (adata.obs.batch_cov == \"lupus1.10\"))\n",
    "keep2_indices = ~((adata.obs.ind_cov.isin(remove2)) & (adata.obs.batch_cov == \"lupus8.9\"))\n",
    "adata = adata[(keep_indices & keep2_indices)]\n",
    "logging.info(str('Data structure details: ' + str(adata)))\n",
    "# Unique list of individuals\n",
    "people = np.unique(adata.obs['ind_cov'].values.tolist())\n",
    "# Allocate space for total PMBCs per individual.\n",
    "total_pbmcs = dict.fromkeys(people)\n",
    "for p in people:\n",
    "    total_pbmcs[p] = len(adata.obs_names[adata.obs['ind_cov'] == p])\n",
    "adata.uns['total_pbmcs'] = total_pbmcs\n",
    "logging.info('Saving processed data')\n",
    "# Remove .var information we never use.\n",
    "for key in list(adata.var.keys()):\n",
    "    del adata.var[key]\n",
    "logging.info(str('Structure details: ' + str(adata)))\n",
    "adata.write(savepath, compression=\"gzip\")\n"
   ]
  },
  {
   "cell_type": "code",
   "execution_count": null,
   "metadata": {},
   "outputs": [],
   "source": [
    "version = \"V6\"\n",
    "name = \"CLUESImmVar_processed.\"+version\n",
    "processed_path = name+'.h5ad';\n",
    "adata = sc.read(processed_path, cache=True)"
   ]
  },
  {
   "cell_type": "code",
   "execution_count": null,
   "metadata": {},
   "outputs": [],
   "source": [
    "#######################\n",
    "# Louvain and friends #\n",
    "#######################\n",
    "# Set parameters\n",
    "intialization = 1\n",
    "n_components = 20\n",
    "resolution = 3\n",
    "# Run louvain clustering on theoretical future gene expression per cell\n",
    "logging.info('Estimating louvain cluster identities for gene expression values.')\n",
    "sc.pp.pca(adata, random_state=intialization, svd_solver='arpack')\n",
    "logging.info('PCA complete.')\n",
    "sc.pp.neighbors(adata, random_state=intialization)\n",
    "logging.info('KNN complete.')\n",
    "sc.tl.umap(adata, random_state=intialization)\n",
    "logging.info('UMAP complete.')\n",
    "adata.write(savepath, compression=\"gzip\")"
   ]
  },
  {
   "cell_type": "code",
   "execution_count": null,
   "metadata": {},
   "outputs": [],
   "source": [
    "adata.obs['site'] = pd.Categorical(adata.obs.disease_cov, categories=['Broad','UCSF'])\n",
    "adata.obs.site[adata.obs.batch_cov.str.contains(\"immvar\")] = \"Broad\"\n",
    "adata.obs.site[~adata.obs.batch_cov.str.contains(\"immvar\")] = \"UCSF\"\n",
    "\n",
    "adata.obs['disease_pop_site_cov'] = pd.Categorical(adata.obs.apply(lambda row: row['disease_cov'] + row['pop_cov'] + row['site'], axis=1),\n",
    "                                             categories=['healthyWHITEBroad','healthyWHITEUCSF','sleWHITEUCSF','sleASIANUCSF'],\n",
    "                                             ordered=True)"
   ]
  },
  {
   "cell_type": "code",
   "execution_count": null,
   "metadata": {},
   "outputs": [],
   "source": [
    "## since we have replicates, let's sort adata in a consistent way\n",
    "adata_obs_sorted = adata.obs.sort_values(by=['disease_cov','ind_cov','batch_cov'], ascending=False);\n",
    "adata = adata[adata_obs_sorted.index]"
   ]
  },
  {
   "cell_type": "code",
   "execution_count": null,
   "metadata": {},
   "outputs": [],
   "source": [
    "sc.pl.umap(adata, color=\"disease_pop_site_cov\")"
   ]
  },
  {
   "cell_type": "code",
   "execution_count": null,
   "metadata": {},
   "outputs": [],
   "source": [
    "sc.pl.umap(adata[(adata.obs.disease_cov == \"healthy\")],color=\"disease_pop_site_cov\")"
   ]
  },
  {
   "cell_type": "code",
   "execution_count": null,
   "metadata": {},
   "outputs": [],
   "source": [
    "sc.tl.diffmap(adata)\n",
    "logging.info('diffmap complete.')\n",
    "sc.tl.louvain(adata, random_state=30, resolution=3)\n",
    "sc.tl.leiden(adata, random_state=30, resolution=3)\n",
    "logging.info('Louvain complete.')\n",
    "logging.info('Making .obs into categories')\n",
    "adata.strings_to_categoricals()\n",
    "adata.write(filepath, compression=\"gzip\")\n",
    "logging.info('Basic analysis complete.')"
   ]
  }
 ],
 "metadata": {
  "kernelspec": {
   "display_name": "Python 3",
   "language": "python",
   "name": "python3"
  },
  "language_info": {
   "codemirror_mode": {
    "name": "ipython",
    "version": 3
   },
   "file_extension": ".py",
   "mimetype": "text/x-python",
   "name": "python",
   "nbconvert_exporter": "python",
   "pygments_lexer": "ipython3",
   "version": "3.6.9"
  }
 },
 "nbformat": 4,
 "nbformat_minor": 4
}
