{
 "cells": [
  {
   "cell_type": "markdown",
   "metadata": {},
   "source": [
    "# Load the libraries"
   ]
  },
  {
   "cell_type": "code",
   "execution_count": 7,
   "metadata": {},
   "outputs": [],
   "source": [
    "library(data.table);\n",
    "library(ggplot2);\n",
    "library(repr)\n",
    "library(reshape2)\n",
    "##library(gplots)\n",
    "library(pheatmap)\n",
    "library(cowplot)\n",
    "library(RColorBrewer)\n",
    "library(sva)\n",
    "##library(ggExtra)\n",
    "library(\"e1071\")\n",
    "library('glmnet')\n",
    "\n",
    "source(\"helper_functions.R\")"
   ]
  },
  {
   "cell_type": "code",
   "execution_count": 8,
   "metadata": {},
   "outputs": [],
   "source": [
    "options(repr.plot.width = 3, repr.plot.height = 3, repr.plot.res=80)\n",
    "name <- \"CLUESImmVar_processed.V6.1\";\n",
    "\n",
    "version <- \"V6.1\";"
   ]
  },
  {
   "cell_type": "markdown",
   "metadata": {},
   "source": [
    "# Load the necessary input"
   ]
  },
  {
   "cell_type": "markdown",
   "metadata": {},
   "source": [
    "## Load the covariates from ```/ye/yelabstore2/10x.lupus/eqtls/demux.v2```"
   ]
  },
  {
   "cell_type": "code",
   "execution_count": 9,
   "metadata": {},
   "outputs": [],
   "source": [
    "## start with pdcs since there's one person without any\n",
    "pdc_covs <- fread(\"v6.1.expr/v6.1.full.pDC.blind.covs.txt\");\n",
    "colnames(pdc_covs) <- sapply(colnames(pdc_covs), function(x) {strsplit(x,\"_\")[[1]][[1]]})\n",
    "covs_gene_names <- pdc_covs$V1;\n",
    "pdc_covs <- as.matrix(pdc_covs[,-1]);\n",
    "\n",
    "cm_covs <- as.matrix(fread(\"v6.1.expr/v6.1.full.cM.blind.covs.txt\")[,-1]);\n",
    "colnames(cm_covs) <- sapply(colnames(cm_covs), function(x) {strsplit(x,\"_\")[[1]][[1]]})\n",
    "cm_covs <- cm_covs[match(pdc_covs[,\"sample\"], cm_covs[,\"sample\"]),];\n",
    "\n",
    "th_covs <- as.matrix(fread(\"v6.1.expr/v6.1.full.Th.blind.covs.txt\")[,-1]);\n",
    "colnames(th_covs) <- sapply(colnames(th_covs), function(x) {strsplit(x,\"_\")[[1]][[1]]})\n",
    "th_covs <- th_covs[match(pdc_covs[,\"sample\"], th_covs[,\"sample\"]),];\n",
    "\n",
    "tc_covs <- as.matrix(fread(\"v6.1.expr/v6.1.full.Tc.blind.covs.txt\")[,-1]);\n",
    "colnames(tc_covs) <- sapply(colnames(tc_covs), function(x) {strsplit(x,\"_\")[[1]][[1]]})\n",
    "tc_covs <- tc_covs[match(pdc_covs[,\"sample\"], tc_covs[,\"sample\"]),];\n",
    "\n",
    "ncm_covs <- as.matrix(fread(\"v6.1.expr/v6.1.full.ncM.blind.covs.txt\")[,-1]);\n",
    "colnames(ncm_covs) <- sapply(colnames(ncm_covs), function(x) {strsplit(x,\"_\")[[1]][[1]]})\n",
    "ncm_covs <- ncm_covs[match(pdc_covs[,\"sample\"], ncm_covs[,\"sample\"]),];\n",
    "\n",
    "b_covs <- as.matrix(fread(\"v6.1.expr/v6.1.full.B.blind.covs.txt\")[,-1]);\n",
    "colnames(b_covs) <- sapply(colnames(b_covs), function(x) {strsplit(x,\"_\")[[1]][[1]]})\n",
    "b_covs <- b_covs[match(pdc_covs[,\"sample\"], b_covs[,\"sample\"]),];\n",
    "\n",
    "nk_covs <- as.matrix(fread(\"v6.1.expr/v6.1.full.NK.blind.covs.txt\")[,-1]);\n",
    "colnames(nk_covs) <- sapply(colnames(nk_covs), function(x) {strsplit(x,\"_\")[[1]][[1]]})\n",
    "nk_covs <- nk_covs[match(pdc_covs[,\"sample\"], nk_covs[,\"sample\"]),];\n",
    "\n",
    "cdc_covs <- as.matrix(fread(\"v6.1.expr/v6.1.full.cDC.blind.covs.txt\")[,-1]);\n",
    "colnames(cdc_covs) <- sapply(colnames(cdc_covs), function(x) {strsplit(x,\"_\")[[1]][[1]]})\n",
    "cdc_covs <- cdc_covs[match(pdc_covs[,\"sample\"], cdc_covs[,\"sample\"]),];\n",
    "\n",
    "pbmc_covs <- as.matrix(fread(\"v6.1.expr/v6.1.full.PBMC.blind.covs.txt\")[,-1]);\n",
    "colnames(pbmc_covs) <- sapply(colnames(pbmc_covs), function(x) {strsplit(x,\"_\")[[1]][[1]]})\n",
    "pbmc_covs <- pbmc_covs[match(pdc_covs[,\"sample\"], pbmc_covs[,\"sample\"]),];\n",
    "\n",
    "# pbmc_covs <- as.matrix(fread(\"v5.expr/v5.full.PBMC.blind.covs.txt\")[,-1]);\n",
    "# colnames(pbmc_covs) <- sapply(colnames(pbmc_covs), function(x) {strsplit(x,\"_\")[[1]][[1]]})\n",
    "\n",
    "rownames(pbmc_covs) <- rownames(cm_covs) <- rownames(th_covs) <- rownames(tc_covs) <- rownames(ncm_covs) <- rownames(b_covs) <- rownames(nk_covs) <-rownames(cdc_covs) <- rownames(pdc_covs)<- covs_gene_names;\n"
   ]
  },
  {
   "cell_type": "markdown",
   "metadata": {},
   "source": [
    "## Load the processed expression data from ```/ye/yelabstore2/10x.lupus/eqtls/demux.v2```"
   ]
  },
  {
   "cell_type": "code",
   "execution_count": 10,
   "metadata": {},
   "outputs": [
    {
     "name": "stderr",
     "output_type": "stream",
     "text": [
      "Warning message in fread(\"v6.1.expr/v6.1.full.pDC.blind.expr.txt\"):\n",
      "“Detected 205 column names but the data has 206 columns (i.e. invalid file). Added 1 extra default column name for the first column which is guessed to be row names or an index. Use setnames() afterwards if this guess is not correct, or fix the file write command that created the file to create a valid file.”Warning message in fread(\"v6.1.expr/v6.1.full.Th.blind.expr.txt\"):\n",
      "“Detected 206 column names but the data has 207 columns (i.e. invalid file). Added 1 extra default column name for the first column which is guessed to be row names or an index. Use setnames() afterwards if this guess is not correct, or fix the file write command that created the file to create a valid file.”Warning message in fread(\"v6.1.expr/v6.1.full.Tc.blind.expr.txt\"):\n",
      "“Detected 206 column names but the data has 207 columns (i.e. invalid file). Added 1 extra default column name for the first column which is guessed to be row names or an index. Use setnames() afterwards if this guess is not correct, or fix the file write command that created the file to create a valid file.”Warning message in fread(\"v6.1.expr/v6.1.full.ncM.blind.expr.txt\"):\n",
      "“Detected 206 column names but the data has 207 columns (i.e. invalid file). Added 1 extra default column name for the first column which is guessed to be row names or an index. Use setnames() afterwards if this guess is not correct, or fix the file write command that created the file to create a valid file.”Warning message in fread(\"v6.1.expr/v6.1.full.B.blind.expr.txt\"):\n",
      "“Detected 206 column names but the data has 207 columns (i.e. invalid file). Added 1 extra default column name for the first column which is guessed to be row names or an index. Use setnames() afterwards if this guess is not correct, or fix the file write command that created the file to create a valid file.”Warning message in fread(\"v6.1.expr/v6.1.full.NK.blind.expr.txt\"):\n",
      "“Detected 206 column names but the data has 207 columns (i.e. invalid file). Added 1 extra default column name for the first column which is guessed to be row names or an index. Use setnames() afterwards if this guess is not correct, or fix the file write command that created the file to create a valid file.”Warning message in fread(\"v6.1.expr/v6.1.full.cDC.blind.expr.txt\"):\n",
      "“Detected 206 column names but the data has 207 columns (i.e. invalid file). Added 1 extra default column name for the first column which is guessed to be row names or an index. Use setnames() afterwards if this guess is not correct, or fix the file write command that created the file to create a valid file.”Warning message in fread(\"v6.1.expr/v6.1.full.cM.blind.expr.txt\"):\n",
      "“Detected 206 column names but the data has 207 columns (i.e. invalid file). Added 1 extra default column name for the first column which is guessed to be row names or an index. Use setnames() afterwards if this guess is not correct, or fix the file write command that created the file to create a valid file.”Warning message in fread(\"v6.1.expr/v6.1.full.PBMC.blind.expr.txt\"):\n",
      "“Detected 206 column names but the data has 207 columns (i.e. invalid file). Added 1 extra default column name for the first column which is guessed to be row names or an index. Use setnames() afterwards if this guess is not correct, or fix the file write command that created the file to create a valid file.”"
     ]
    }
   ],
   "source": [
    "pdc_expr <- fread(\"v6.1.expr/v6.1.full.pDC.blind.expr.txt\");\n",
    "colnames(pdc_expr) <- sapply(colnames(pdc_expr), function(x) {a <- strsplit(x,\"_\"); if(length(a[[1]])==3) {return(paste(a[[1]][2:3],collapse=\"_\"))} else {return(paste(a[[1]][1:2],collapse=\"_\"))}})\n",
    "expr_gene_names <- pdc_expr$V1;\n",
    "pdc_expr <- as.matrix(pdc_expr[,-1]);\n",
    "\n",
    "th_expr <- as.matrix(fread(\"v6.1.expr/v6.1.full.Th.blind.expr.txt\")[,-1]);\n",
    "colnames(th_expr) <- sapply(colnames(th_expr), function(x) {a <- strsplit(x,\"_\"); if(length(a[[1]])==3) {return(paste(a[[1]][2:3],collapse=\"_\"))} else {return(paste(a[[1]][1:2],collapse=\"_\"))}})\n",
    "th_expr <- th_expr[,colnames(pdc_expr)];\n",
    "\n",
    "tc_expr <- as.matrix(fread(\"v6.1.expr/v6.1.full.Tc.blind.expr.txt\")[,-1]);\n",
    "colnames(tc_expr) <- sapply(colnames(tc_expr), function(x) {a <- strsplit(x,\"_\"); if(length(a[[1]])==3) {return(paste(a[[1]][2:3],collapse=\"_\"))} else {return(paste(a[[1]][1:2],collapse=\"_\"))}})\n",
    "tc_expr <- tc_expr[,colnames(pdc_expr)];\n",
    "\n",
    "ncm_expr <- as.matrix(fread(\"v6.1.expr/v6.1.full.ncM.blind.expr.txt\")[,-1]);\n",
    "colnames(ncm_expr) <- sapply(colnames(ncm_expr), function(x) {a <- strsplit(x,\"_\"); if(length(a[[1]])==3) {return(paste(a[[1]][2:3],collapse=\"_\"))} else {return(paste(a[[1]][1:2],collapse=\"_\"))}})\n",
    "ncm_expr <- ncm_expr[,colnames(pdc_expr)];\n",
    "\n",
    "b_expr <- as.matrix(fread(\"v6.1.expr/v6.1.full.B.blind.expr.txt\")[,-1]);\n",
    "colnames(b_expr) <- sapply(colnames(b_expr), function(x) {a <- strsplit(x,\"_\"); if(length(a[[1]])==3) {return(paste(a[[1]][2:3],collapse=\"_\"))} else {return(paste(a[[1]][1:2],collapse=\"_\"))}})\n",
    "b_expr <- b_expr[,colnames(pdc_expr)];\n",
    "\n",
    "nk_expr <- as.matrix(fread(\"v6.1.expr/v6.1.full.NK.blind.expr.txt\")[,-1]);\n",
    "colnames(nk_expr) <- sapply(colnames(nk_expr), function(x) {a <- strsplit(x,\"_\"); if(length(a[[1]])==3) {return(paste(a[[1]][2:3],collapse=\"_\"))} else {return(paste(a[[1]][1:2],collapse=\"_\"))}})\n",
    "nk_expr <- nk_expr[,colnames(pdc_expr)];\n",
    "\n",
    "cdc_expr <- as.matrix(fread(\"v6.1.expr/v6.1.full.cDC.blind.expr.txt\")[,-1]);\n",
    "colnames(cdc_expr) <- sapply(colnames(cdc_expr), function(x) {a <- strsplit(x,\"_\"); if(length(a[[1]])==3) {return(paste(a[[1]][2:3],collapse=\"_\"))} else {return(paste(a[[1]][1:2],collapse=\"_\"))}})\n",
    "cdc_expr <- cdc_expr[,colnames(pdc_expr)];\n",
    "\n",
    "cm_expr <- as.matrix(fread(\"v6.1.expr/v6.1.full.cM.blind.expr.txt\")[,-1]);\n",
    "colnames(cm_expr) <- sapply(colnames(cm_expr), function(x) {a <- strsplit(x,\"_\"); if(length(a[[1]])==3) {return(paste(a[[1]][2:3],collapse=\"_\"))} else {return(paste(a[[1]][1:2],collapse=\"_\"))}})\n",
    "cm_expr <- cm_expr[,colnames(pdc_expr)];\n",
    "\n",
    "pbmc_expr <- as.matrix(fread(\"v6.1.expr/v6.1.full.PBMC.blind.expr.txt\")[,-1]);\n",
    "colnames(pbmc_expr) <- sapply(colnames(pbmc_expr), function(x) {a <- strsplit(x,\"_\"); if(length(a[[1]])==3) {return(paste(a[[1]][2:3],collapse=\"_\"))} else {return(paste(a[[1]][1:2],collapse=\"_\"))}})\n",
    "pbmc_expr <- pbmc_expr[,colnames(pdc_expr)];\n",
    "\n",
    "rownames(pbmc_expr) <- rownames(cm_expr) <- rownames(th_expr) <- rownames(tc_expr) <- rownames(ncm_expr) <- rownames(b_expr) <- rownames(nk_expr) <-rownames(cdc_expr) <-rownames(pdc_expr) <- expr_gene_names;\n",
    "\n",
    "## do a quick filter for all zeros\n",
    "any_zeros = unique(c(which(rowSums(pbmc_expr) ==0),\n",
    "                     which(rowSums(cm_expr)==0),\n",
    "                     which(rowSums(ncm_expr)==0),\n",
    "                     which(rowSums(th_expr)==0),\n",
    "                     which(rowSums(tc_expr)==0),\n",
    "                     which(rowSums(b_expr)==0),\n",
    "                     which(rowSums(nk_expr)==0),\n",
    "                     which(rowSums(cdc_expr)==0),\n",
    "                     which(rowSums(pdc_expr)==0)))\n",
    "pbmc_expr <- pbmc_expr[-any_zeros,];\n",
    "cm_expr <- cm_expr[-any_zeros,];\n",
    "ncm_expr <- ncm_expr[-any_zeros,];\n",
    "th_expr <- th_expr[-any_zeros,];\n",
    "tc_expr <- tc_expr[-any_zeros,];\n",
    "b_expr <- b_expr[-any_zeros,];\n",
    "nk_expr <- nk_expr[-any_zeros,];\n",
    "cdc_expr <- cdc_expr[-any_zeros,];\n",
    "pdc_expr <- pdc_expr[-any_zeros,];\n",
    "expr_gene_names <- expr_gene_names[-any_zeros];\n"
   ]
  },
  {
   "cell_type": "markdown",
   "metadata": {},
   "source": [
    "## load counts and standardize"
   ]
  },
  {
   "cell_type": "code",
   "execution_count": 11,
   "metadata": {},
   "outputs": [
    {
     "name": "stderr",
     "output_type": "stream",
     "text": [
      "Warning message in fread(\"v6.1.expr/v6.1.full.pDC.blind.counts.txt\"):\n",
      "“Detected 205 column names but the data has 206 columns (i.e. invalid file). Added 1 extra default column name for the first column which is guessed to be row names or an index. Use setnames() afterwards if this guess is not correct, or fix the file write command that created the file to create a valid file.”Warning message in fread(\"v6.1.expr/v6.1.full.pDC.blind.expr.txt\"):\n",
      "“Detected 205 column names but the data has 206 columns (i.e. invalid file). Added 1 extra default column name for the first column which is guessed to be row names or an index. Use setnames() afterwards if this guess is not correct, or fix the file write command that created the file to create a valid file.”Warning message in fread(\"v6.1.expr/v6.1.full.Th.blind.expr.txt\"):\n",
      "“Detected 206 column names but the data has 207 columns (i.e. invalid file). Added 1 extra default column name for the first column which is guessed to be row names or an index. Use setnames() afterwards if this guess is not correct, or fix the file write command that created the file to create a valid file.”Warning message in fread(\"v6.1.expr/v6.1.full.Th.blind.counts.txt\"):\n",
      "“Detected 206 column names but the data has 207 columns (i.e. invalid file). Added 1 extra default column name for the first column which is guessed to be row names or an index. Use setnames() afterwards if this guess is not correct, or fix the file write command that created the file to create a valid file.”Warning message in fread(\"v6.1.expr/v6.1.full.Tc.blind.counts.txt\"):\n",
      "“Detected 206 column names but the data has 207 columns (i.e. invalid file). Added 1 extra default column name for the first column which is guessed to be row names or an index. Use setnames() afterwards if this guess is not correct, or fix the file write command that created the file to create a valid file.”Warning message in fread(\"v6.1.expr/v6.1.full.ncM.blind.counts.txt\"):\n",
      "“Detected 206 column names but the data has 207 columns (i.e. invalid file). Added 1 extra default column name for the first column which is guessed to be row names or an index. Use setnames() afterwards if this guess is not correct, or fix the file write command that created the file to create a valid file.”Warning message in fread(\"v6.1.expr/v6.1.full.B.blind.counts.txt\"):\n",
      "“Detected 206 column names but the data has 207 columns (i.e. invalid file). Added 1 extra default column name for the first column which is guessed to be row names or an index. Use setnames() afterwards if this guess is not correct, or fix the file write command that created the file to create a valid file.”Warning message in fread(\"v6.1.expr/v6.1.full.NK.blind.counts.txt\"):\n",
      "“Detected 206 column names but the data has 207 columns (i.e. invalid file). Added 1 extra default column name for the first column which is guessed to be row names or an index. Use setnames() afterwards if this guess is not correct, or fix the file write command that created the file to create a valid file.”Warning message in fread(\"v6.1.expr/v6.1.full.cDC.blind.counts.txt\"):\n",
      "“Detected 206 column names but the data has 207 columns (i.e. invalid file). Added 1 extra default column name for the first column which is guessed to be row names or an index. Use setnames() afterwards if this guess is not correct, or fix the file write command that created the file to create a valid file.”Warning message in fread(\"v6.1.expr/v6.1.full.cM.blind.counts.txt\"):\n",
      "“Detected 206 column names but the data has 207 columns (i.e. invalid file). Added 1 extra default column name for the first column which is guessed to be row names or an index. Use setnames() afterwards if this guess is not correct, or fix the file write command that created the file to create a valid file.”Warning message in fread(\"v6.1.expr/v6.1.full.PBMC.blind.counts.txt\"):\n",
      "“Detected 206 column names but the data has 207 columns (i.e. invalid file). Added 1 extra default column name for the first column which is guessed to be row names or an index. Use setnames() afterwards if this guess is not correct, or fix the file write command that created the file to create a valid file.”"
     ]
    }
   ],
   "source": [
    "pdc_counts <- fread(\"v6.1.expr/v6.1.full.pDC.blind.counts.txt\");\n",
    "colnames(pdc_counts) <- sapply(colnames(pdc_counts), function(x) {a <- strsplit(x,\"_\"); if(length(a[[1]])==3) {return(paste(a[[1]][2:3],collapse=\"_\"))} else {return(paste(a[[1]][1:2],collapse=\"_\"))}})\n",
    "counts_gene_names <- pdc_counts$V1_NA;\n",
    "pdc_counts <- as.matrix(pdc_counts[,-1]);\n",
    "pdc_counts <- pdc_counts[match(expr_gene_names, counts_gene_names),]\n",
    "\n",
    "pdc_expr_raw <- as.matrix(fread(\"v6.1.expr/v6.1.full.pDC.blind.expr.txt\"))[,-1];\n",
    "th_expr_raw <- as.matrix(fread(\"v6.1.expr/v6.1.full.Th.blind.expr.txt\"))[,-1];\n",
    "pdc_indices <- match(colnames(pdc_expr_raw), colnames(th_expr_raw));\n",
    "\n",
    "th_counts <- as.matrix(fread(\"v6.1.expr/v6.1.full.Th.blind.counts.txt\")[,-1]);\n",
    "colnames(th_counts) <- sapply(colnames(th_counts), function(x) {a <- strsplit(x,\"_\"); if(length(a[[1]])==3) {return(paste(a[[1]][2:3],collapse=\"_\"))} else {return(paste(a[[1]][1:2],collapse=\"_\"))}})\n",
    "th_counts <- th_counts[match(expr_gene_names, counts_gene_names),]\n",
    "th_counts <- th_counts[,pdc_indices];\n",
    "\n",
    "tc_counts <- as.matrix(fread(\"v6.1.expr/v6.1.full.Tc.blind.counts.txt\")[,-1]);\n",
    "colnames(tc_counts) <- sapply(colnames(tc_counts), function(x) {a <- strsplit(x,\"_\"); if(length(a[[1]])==3) {return(paste(a[[1]][2:3],collapse=\"_\"))} else {return(paste(a[[1]][1:2],collapse=\"_\"))}})\n",
    "tc_counts <- tc_counts[match(expr_gene_names, counts_gene_names),]\n",
    "tc_counts <- tc_counts[,pdc_indices];\n",
    "\n",
    "ncm_counts <- as.matrix(fread(\"v6.1.expr/v6.1.full.ncM.blind.counts.txt\")[,-1]);\n",
    "colnames(ncm_counts) <- sapply(colnames(ncm_counts), function(x) {a <- strsplit(x,\"_\"); if(length(a[[1]])==3) {return(paste(a[[1]][2:3],collapse=\"_\"))} else {return(paste(a[[1]][1:2],collapse=\"_\"))}})\n",
    "ncm_counts <- ncm_counts[match(expr_gene_names, counts_gene_names),]\n",
    "ncm_counts <- ncm_counts[,pdc_indices];\n",
    "\n",
    "b_counts <- as.matrix(fread(\"v6.1.expr/v6.1.full.B.blind.counts.txt\")[,-1]);\n",
    "colnames(b_counts) <- sapply(colnames(b_counts), function(x) {a <- strsplit(x,\"_\"); if(length(a[[1]])==3) {return(paste(a[[1]][2:3],collapse=\"_\"))} else {return(paste(a[[1]][1:2],collapse=\"_\"))}})\n",
    "b_counts <- b_counts[match(expr_gene_names, counts_gene_names),]\n",
    "b_counts <- b_counts[,pdc_indices];\n",
    "\n",
    "nk_counts <- as.matrix(fread(\"v6.1.expr/v6.1.full.NK.blind.counts.txt\")[,-1]);\n",
    "colnames(nk_counts) <- sapply(colnames(nk_counts), function(x) {a <- strsplit(x,\"_\"); if(length(a[[1]])==3) {return(paste(a[[1]][2:3],collapse=\"_\"))} else {return(paste(a[[1]][1:2],collapse=\"_\"))}})\n",
    "nk_counts <- nk_counts[match(expr_gene_names, counts_gene_names),]\n",
    "nk_counts <- nk_counts[,pdc_indices];\n",
    "\n",
    "cdc_counts <- as.matrix(fread(\"v6.1.expr/v6.1.full.cDC.blind.counts.txt\")[,-1]);\n",
    "colnames(cdc_counts) <- sapply(colnames(cdc_counts), function(x) {a <- strsplit(x,\"_\"); if(length(a[[1]])==3) {return(paste(a[[1]][2:3],collapse=\"_\"))} else {return(paste(a[[1]][1:2],collapse=\"_\"))}})\n",
    "cdc_counts <- cdc_counts[match(expr_gene_names, counts_gene_names),]\n",
    "cdc_counts <- cdc_counts[,pdc_indices];\n",
    "\n",
    "cm_counts <- as.matrix(fread(\"v6.1.expr/v6.1.full.cM.blind.counts.txt\")[,-1]);\n",
    "colnames(cm_counts) <- sapply(colnames(cm_counts), function(x) {a <- strsplit(x,\"_\"); if(length(a[[1]])==3) {return(paste(a[[1]][2:3],collapse=\"_\"))} else {return(paste(a[[1]][1:2],collapse=\"_\"))}})\n",
    "cm_counts <- cm_counts[match(expr_gene_names, counts_gene_names),]\n",
    "cm_counts <- cm_counts[,pdc_indices];\n",
    "\n",
    "pbmc_counts <- as.matrix(fread(\"v6.1.expr/v6.1.full.PBMC.blind.counts.txt\")[,-1]);\n",
    "colnames(pbmc_counts) <- sapply(colnames(pbmc_counts), function(x) {a <- strsplit(x,\"_\"); if(length(a[[1]])==3) {return(paste(a[[1]][2:3],collapse=\"_\"))} else {return(paste(a[[1]][1:2],collapse=\"_\"))}})\n",
    "pbmc_counts <- pbmc_counts[match(expr_gene_names, counts_gene_names),]\n",
    "pbmc_counts <- pbmc_counts[,pdc_indices];\n",
    "\n",
    "rownames(pbmc_counts) <- rownames(cm_counts) <- rownames(th_counts) <- rownames(tc_counts) <- rownames(ncm_counts) <- rownames(b_counts) <- rownames(nk_counts) <-rownames(cdc_counts) <-rownames(pdc_counts) <- expr_gene_names;\n",
    "colnames(pbmc_counts) <- colnames(cm_counts) <- colnames(th_counts) <- colnames(tc_counts) <- colnames(ncm_counts) <- colnames(b_counts) <- colnames(nk_counts) <-colnames(cdc_counts) <-colnames(pdc_counts) <- colnames(pbmc_expr)\n",
    "\n",
    "# ## do a quick filter for all zeros\n",
    "# any_zeros = unique(c(which(rowSums(pbmc_counts) ==0),\n",
    "#                      which(rowSums(cm_counts)==0),\n",
    "#                      which(rowSums(ncm_counts)==0),\n",
    "#                      which(rowSums(th_counts)==0),\n",
    "#                      which(rowSums(tc_counts)==0),\n",
    "#                      which(rowSums(b_counts)==0),\n",
    "#                      which(rowSums(nk_counts)==0),\n",
    "#                      which(rowSums(cdc_counts)==0),\n",
    "#                      which(rowSums(pdc_counts)==0)))\n",
    "# pbmc_counts <- pbmc_counts[-any_zeros,];\n",
    "# cm_counts <- cm_counts[-any_zeros,];\n",
    "# ncm_counts <- ncm_counts[-any_zeros,];\n",
    "# th_counts <- th_counts[-any_zeros,];\n",
    "# tc_counts <- tc_counts[-any_zeros,];\n",
    "# b_counts <- b_counts[-any_zeros,];\n",
    "# nk_counts <- nk_counts[-any_zeros,];\n",
    "# cdc_counts <- cdc_counts[-any_zeros,];\n",
    "# pdc_counts <- pdc_counts[-any_zeros,];\n",
    "# ##counts_gene_names <- counts_gene_names[-any_zeros];\n"
   ]
  },
  {
   "cell_type": "code",
   "execution_count": 12,
   "metadata": {},
   "outputs": [],
   "source": [
    "pbmc_total <- apply(pbmc_counts, 2, sum)\n",
    "\n",
    "pbmc_colSums <- colSums(pbmc_counts);\n",
    "pbmc_expr <- t(sapply(1:nrow(pbmc_counts), function(x) {pbmc_counts[x,]/pbmc_colSums}))\n",
    "\n",
    "cm_colSums <- colSums(cm_counts);\n",
    "cm_expr_pbmc_counts <- t(sapply(1:nrow(cm_counts), function(x) {cm_counts[x,]/pbmc_colSums}))\n",
    "cm_expr_ct_counts <- t(sapply(1:nrow(cm_counts), function(x) {cm_counts[x,]/cm_colSums}))\n",
    "\n",
    "ncm_colSums <- colSums(ncm_counts);\n",
    "ncm_expr_pbmc_counts <- t(sapply(1:nrow(ncm_counts), function(x) {ncm_counts[x,]/pbmc_colSums}))\n",
    "ncm_expr_ct_counts <- t(sapply(1:nrow(ncm_counts), function(x) {ncm_counts[x,]/ncm_colSums}))\n",
    "\n",
    "th_colSums <- colSums(th_counts);\n",
    "th_expr_pbmc_counts <- t(sapply(1:nrow(th_counts), function(x) {th_counts[x,]/pbmc_colSums}))\n",
    "th_expr_ct_counts <- t(sapply(1:nrow(th_counts), function(x) {th_counts[x,]/th_colSums}))\n",
    "\n",
    "tc_colSums <- colSums(tc_counts);\n",
    "tc_expr_pbmc_counts <- t(sapply(1:nrow(tc_counts), function(x) {tc_counts[x,]/pbmc_colSums}))\n",
    "tc_expr_ct_counts <- t(sapply(1:nrow(tc_counts), function(x) {tc_counts[x,]/tc_colSums}))\n",
    "\n",
    "b_colSums <- colSums(b_counts)\n",
    "b_expr_pbmc_counts <- t(sapply(1:nrow(b_counts), function(x) {b_counts[x,]/pbmc_colSums}))\n",
    "b_expr_ct_counts <- t(sapply(1:nrow(b_counts), function(x) {b_counts[x,]/b_colSums}))\n",
    "\n",
    "nk_colSums <- colSums(nk_counts);\n",
    "nk_expr_pbmc_counts <- t(sapply(1:nrow(nk_counts), function(x) {nk_counts[x,]/pbmc_colSums}))\n",
    "nk_expr_ct_counts <- t(sapply(1:nrow(nk_counts), function(x) {nk_counts[x,]/nk_colSums}))\n",
    "\n",
    "cdc_colSums <- colSums(cdc_counts);\n",
    "cdc_expr_pbmc_counts <- t(sapply(1:nrow(cdc_counts), function(x) {cdc_counts[x,]/pbmc_colSums}))\n",
    "cdc_expr_ct_counts <- t(sapply(1:nrow(cdc_counts), function(x) {cdc_counts[x,]/cdc_colSums}))\n",
    "\n",
    "pdc_colSums <- colSums(pdc_counts);\n",
    "pdc_expr_pbmc_counts <- t(sapply(1:nrow(pdc_counts), function(x) {pdc_counts[x,]/pbmc_colSums}))\n",
    "pdc_expr_ct_counts <- t(sapply(1:nrow(pdc_counts), function(x) {pdc_counts[x,]/pdc_colSums}))\n",
    "\n",
    "rownames(pbmc_expr) <- rownames(cm_expr_pbmc_counts) <- rownames(ncm_expr_pbmc_counts) <- rownames(th_expr_pbmc_counts) <- rownames(tc_expr_pbmc_counts) <- rownames(b_expr_pbmc_counts) <- rownames(nk_expr_pbmc_counts) <- rownames(cdc_expr_pbmc_counts) <- rownames(pdc_expr_pbmc_counts) <- expr_gene_names\n",
    "\n",
    "rownames(cm_expr_ct_counts) <- rownames(ncm_expr_ct_counts) <- rownames(th_expr_ct_counts) <- rownames(tc_expr_ct_counts) <- rownames(b_expr_ct_counts) <- rownames(nk_expr_ct_counts) <- rownames(cdc_expr_ct_counts) <- rownames(pdc_expr_ct_counts) <- expr_gene_names"
   ]
  },
  {
   "cell_type": "markdown",
   "metadata": {},
   "source": [
    "## filter samples and standardize"
   ]
  },
  {
   "cell_type": "code",
   "execution_count": 14,
   "metadata": {},
   "outputs": [],
   "source": [
    "joined_pivot <- fread(paste(name,'_joined_pivot_ct_perc.txt', sep=\"\"), sep=\",\")\n",
    "joined_lymphoid_pivot <- fread(paste(\"CLUESImmVarLymph.\",version,\"_joined_pivot_ct_perc.txt\", sep=\"\"), sep=\",\")\n",
    "joined_myeloid_pivot <- fread(paste(\"CLUESImmVarMonoDC.\",version,\"_joined_pivot_ct_perc.txt\", sep=\"\"), sep=\",\")\n",
    "joined_leiden_pivot <- fread(paste(name,'_joined_pivot_leiden_perc.txt', sep=\"\"), sep=\",\")\n",
    "\n",
    "## let's remove the UCSF duplicate samples for now\n",
    "ind_cov = sapply(cm_covs[,\"sample\"], function(x) {strsplit(as.character(x),\"_\")[[1]][[1]]})\n",
    "ind_cov_batch = paste(ind_cov, cm_covs[,\"batch\"], sep=\"_\")\n",
    "joined_ind_cov_batch = paste(joined_pivot$ind_cov, joined_pivot$batch, sep=\"_\")\n",
    "ucsf_samples_nodups <- na.omit(match(joined_ind_cov_batch, ind_cov_batch));\n",
    "\n",
    "## let's get joined_ind_pivot into the same order as pbmc_expr\n",
    "joined_pivot <- joined_pivot[match(ind_cov_batch[ucsf_samples_nodups],joined_ind_cov_batch),];\n",
    "joined_lymphoid_pivot <- joined_lymphoid_pivot[match(ind_cov_batch[ucsf_samples_nodups],joined_ind_cov_batch),];\n",
    "joined_myeloid_pivot <- joined_myeloid_pivot[match(ind_cov_batch[ucsf_samples_nodups],joined_ind_cov_batch),];\n",
    "joined_leiden_pivot <- joined_leiden_pivot[match(ind_cov_batch[ucsf_samples_nodups],joined_ind_cov_batch),];\n"
   ]
  },
  {
   "cell_type": "code",
   "execution_count": 15,
   "metadata": {},
   "outputs": [],
   "source": [
    "cm_expr_pbmc_counts <- cm_expr_pbmc_counts[,ucsf_samples_nodups];\n",
    "th_expr_pbmc_counts <- th_expr_pbmc_counts[,ucsf_samples_nodups];\n",
    "tc_expr_pbmc_counts <- tc_expr_pbmc_counts[,ucsf_samples_nodups];\n",
    "ncm_expr_pbmc_counts <- ncm_expr_pbmc_counts[,ucsf_samples_nodups];\n",
    "b_expr_pbmc_counts <- b_expr_pbmc_counts[,ucsf_samples_nodups];\n",
    "nk_expr_pbmc_counts <- nk_expr_pbmc_counts[,ucsf_samples_nodups];\n",
    "cdc_expr_pbmc_counts <- cdc_expr_pbmc_counts[,ucsf_samples_nodups];\n",
    "pdc_expr_pbmc_counts <- pdc_expr_pbmc_counts[,ucsf_samples_nodups];\n",
    "pbmc_expr <- pbmc_expr[,ucsf_samples_nodups];\n",
    "\n",
    "cm_expr_ct_counts <- cm_expr_ct_counts[,ucsf_samples_nodups];\n",
    "th_expr_ct_counts <- th_expr_ct_counts[,ucsf_samples_nodups];\n",
    "tc_expr_ct_counts <- tc_expr_ct_counts[,ucsf_samples_nodups];\n",
    "ncm_expr_ct_counts <- ncm_expr_ct_counts[,ucsf_samples_nodups];\n",
    "b_expr_ct_counts <- b_expr_ct_counts[,ucsf_samples_nodups];\n",
    "nk_expr_ct_counts <- nk_expr_ct_counts[,ucsf_samples_nodups];\n",
    "cdc_expr_ct_counts <- cdc_expr_ct_counts[,ucsf_samples_nodups];\n",
    "pdc_expr_ct_counts <- pdc_expr_ct_counts[,ucsf_samples_nodups];\n",
    "\n",
    "cm_covs <- cm_covs[ucsf_samples_nodups,];\n",
    "th_covs <- th_covs[ucsf_samples_nodups,];\n",
    "tc_covs <- tc_covs[ucsf_samples_nodups,];\n",
    "ncm_covs <- ncm_covs[ucsf_samples_nodups,];\n",
    "b_covs <- b_covs[ucsf_samples_nodups,];\n",
    "nk_covs <- nk_covs[ucsf_samples_nodups,];\n",
    "cdc_covs <- cdc_covs[ucsf_samples_nodups,];\n",
    "pdc_covs <- pdc_covs[ucsf_samples_nodups,];\n",
    "pbmc_covs <- pbmc_covs[ucsf_samples_nodups,];"
   ]
  },
  {
   "cell_type": "code",
   "execution_count": 16,
   "metadata": {},
   "outputs": [],
   "source": [
    "pbmc_expr_std <- t(apply(pbmc_expr,1,standardize))\n",
    "\n",
    "cm_expr_pbmc_counts_std <- t(apply(cm_expr_pbmc_counts,1,standardize))\n",
    "th_expr_pbmc_counts_std <- t(apply(th_expr_pbmc_counts,1,standardize))\n",
    "b_expr_pbmc_counts_std <- t(apply(b_expr_pbmc_counts,1,standardize))\n",
    "nk_expr_pbmc_counts_std <- t(apply(nk_expr_pbmc_counts,1,standardize))\n",
    "ncm_expr_pbmc_counts_std <- t(apply(ncm_expr_pbmc_counts,1,standardize))\n",
    "tc_expr_pbmc_counts_std <- t(apply(tc_expr_pbmc_counts,1,standardize))\n",
    "cdc_expr_pbmc_counts_std <- t(apply(cdc_expr_pbmc_counts,1,standardize))\n",
    "pdc_expr_pbmc_counts_std <- t(apply(pdc_expr_pbmc_counts,1,standardize))\n",
    "\n",
    "cm_expr_ct_counts_std <- t(apply(cm_expr_ct_counts,1,standardize))\n",
    "th_expr_ct_counts_std <- t(apply(th_expr_ct_counts,1,standardize))\n",
    "b_expr_ct_counts_std <- t(apply(b_expr_ct_counts,1,standardize))\n",
    "nk_expr_ct_counts_std <- t(apply(nk_expr_ct_counts,1,standardize))\n",
    "ncm_expr_ct_counts_std <- t(apply(ncm_expr_ct_counts,1,standardize))\n",
    "tc_expr_ct_counts_std <- t(apply(tc_expr_ct_counts,1,standardize))\n",
    "cdc_expr_ct_counts_std <- t(apply(cdc_expr_ct_counts,1,standardize))\n",
    "pdc_expr_ct_counts_std <- t(apply(pdc_expr_ct_counts,1,standardize))\n"
   ]
  },
  {
   "cell_type": "markdown",
   "metadata": {},
   "source": [
    "## Load the differentially expression results"
   ]
  },
  {
   "cell_type": "code",
   "execution_count": 17,
   "metadata": {},
   "outputs": [],
   "source": [
    "# pbmc_expr_prcomp <- prcomp(pbmc_expr_std)\n",
    "\n",
    "# df <- rbind(data.frame(pc1=pbmc_expr_prcomp$rotation[sle_indices,1], pc2=pbmc_expr_prcomp$rotation[sle_indices,2], type=\"sle\"),\n",
    "#             data.frame(pc1=pbmc_expr_prcomp$rotation[ucsf_healthy_indices,1], pc2=pbmc_expr_prcomp$rotation[ucsf_healthy_indices,2], type=\"ucsf_healthy\"),\n",
    "#             data.frame(pc1=pbmc_expr_prcomp$rotation[broad_healthy_indices,1], pc2=pbmc_expr_prcomp$rotation[broad_healthy_indices,2], type=\"broad_healthy\")\n",
    "#            )\n",
    "# df$batch = joined_pivot$batch_cov[match(rownames(df),joined_ind_cov_batch)]\n",
    "\n",
    "# # options(repr.plot.width = 4, repr.plot.height = 3)\n",
    "# # ggplot(aes(pc1,pc2,color=type),data=df)+geom_point()+scale_colour_manual(values=c(\"black\",\"darkgray\",\"lightgray\"))\n",
    "\n",
    "# # ggplot(aes(pc1,pc2,color=batch),data=df)+geom_point()"
   ]
  },
  {
   "cell_type": "code",
   "execution_count": 19,
   "metadata": {
    "scrolled": true
   },
   "outputs": [
    {
     "name": "stderr",
     "output_type": "stream",
     "text": [
      "Warning message in fread(\"v6.1.deseq/v6.1..PBMC.deseq.txt\"):\n",
      "“Detected 7 column names but the data has 8 columns (i.e. invalid file). Added 1 extra default column name for the first column which is guessed to be row names or an index. Use setnames() afterwards if this guess is not correct, or fix the file write command that created the file to create a valid file.”Warning message in fread(\"v6.1.deseq/v6.1..Th.deseq.txt\"):\n",
      "“Detected 7 column names but the data has 8 columns (i.e. invalid file). Added 1 extra default column name for the first column which is guessed to be row names or an index. Use setnames() afterwards if this guess is not correct, or fix the file write command that created the file to create a valid file.”Warning message in fread(\"v6.1.deseq/v6.1..Tc.deseq.txt\"):\n",
      "“Detected 7 column names but the data has 8 columns (i.e. invalid file). Added 1 extra default column name for the first column which is guessed to be row names or an index. Use setnames() afterwards if this guess is not correct, or fix the file write command that created the file to create a valid file.”Warning message in fread(\"v6.1.deseq/v6.1..cM.deseq.txt\"):\n",
      "“Detected 7 column names but the data has 8 columns (i.e. invalid file). Added 1 extra default column name for the first column which is guessed to be row names or an index. Use setnames() afterwards if this guess is not correct, or fix the file write command that created the file to create a valid file.”Warning message in fread(\"v6.1.deseq/v6.1..ncM.deseq.txt\"):\n",
      "“Detected 7 column names but the data has 8 columns (i.e. invalid file). Added 1 extra default column name for the first column which is guessed to be row names or an index. Use setnames() afterwards if this guess is not correct, or fix the file write command that created the file to create a valid file.”Warning message in fread(\"v6.1.deseq/v6.1..B.deseq.txt\"):\n",
      "“Detected 7 column names but the data has 8 columns (i.e. invalid file). Added 1 extra default column name for the first column which is guessed to be row names or an index. Use setnames() afterwards if this guess is not correct, or fix the file write command that created the file to create a valid file.”Warning message in fread(\"v6.1.deseq/v6.1..NK.deseq.txt\"):\n",
      "“Detected 7 column names but the data has 8 columns (i.e. invalid file). Added 1 extra default column name for the first column which is guessed to be row names or an index. Use setnames() afterwards if this guess is not correct, or fix the file write command that created the file to create a valid file.”Warning message in fread(\"v6.1.deseq/v6.1..cDC.deseq.txt\"):\n",
      "“Detected 7 column names but the data has 8 columns (i.e. invalid file). Added 1 extra default column name for the first column which is guessed to be row names or an index. Use setnames() afterwards if this guess is not correct, or fix the file write command that created the file to create a valid file.”Warning message in fread(\"v6.1.deseq/v6.1..pDC.deseq.txt\"):\n",
      "“Detected 7 column names but the data has 8 columns (i.e. invalid file). Added 1 extra default column name for the first column which is guessed to be row names or an index. Use setnames() afterwards if this guess is not correct, or fix the file write command that created the file to create a valid file.”"
     ]
    }
   ],
   "source": [
    "pbmc_deseq <- fread(\"v6.1.deseq/v6.1..PBMC.deseq.txt\")##as.data.frame()\n",
    "th_deseq <- as.data.frame(fread(\"v6.1.deseq/v6.1..Th.deseq.txt\"))\n",
    "tc_deseq <- as.data.frame(fread(\"v6.1.deseq/v6.1..Tc.deseq.txt\"))\n",
    "cm_deseq <- as.data.frame(fread(\"v6.1.deseq/v6.1..cM.deseq.txt\"))\n",
    "ncm_deseq <- as.data.frame(fread(\"v6.1.deseq/v6.1..ncM.deseq.txt\"))\n",
    "b_deseq <- as.data.frame(fread(\"v6.1.deseq/v6.1..B.deseq.txt\"))\n",
    "nk_deseq <- as.data.frame(fread(\"v6.1.deseq/v6.1..NK.deseq.txt\"))\n",
    "cdc_deseq <- as.data.frame(fread(\"v6.1.deseq/v6.1..cDC.deseq.txt\"))\n",
    "pdc_deseq <- as.data.frame(fread(\"v6.1.deseq/v6.1..pDC.deseq.txt\"))\n",
    "\n",
    "pbmc_deseq_sig <- as.data.frame(fread(\"v6.1.deseq/v6.1..PBMC.deseq.sig.txt\",header=F))$V1\n",
    "th_deseq_sig <- as.data.frame(fread(\"v6.1.deseq/v6.1..Th.deseq.sig.txt\",header=F))$V1\n",
    "tc_deseq_sig <- as.data.frame(fread(\"v6.1.deseq/v6.1..Tc.deseq.sig.txt\",header=F))$V1\n",
    "cm_deseq_sig <- as.data.frame(fread(\"v6.1.deseq/v6.1..cM.deseq.sig.txt\",header=F))$V1\n",
    "ncm_deseq_sig <- as.data.frame(fread(\"v6.1.deseq/v6.1..ncM.deseq.sig.txt\",header=F))$V1\n",
    "b_deseq_sig <- as.data.frame(fread(\"v6.1.deseq/v6.1..B.deseq.sig.txt\",header=F))$V1\n",
    "nk_deseq_sig <- as.data.frame(fread(\"v6.1.deseq/v6.1..NK.deseq.sig.txt\",header=F))$V1\n",
    "cdc_deseq_sig <- as.data.frame(fread(\"v6.1.deseq/v6.1..cDC.deseq.sig.txt\",header=F))$V1\n",
    "pdc_deseq_sig <- as.data.frame(fread(\"v6.1.deseq/v6.1..pDC.deseq.sig.txt\",header=F))$V1\n",
    "union_deseq_sig <- unique(c(pbmc_deseq_sig, cm_deseq_sig, th_deseq_sig, \n",
    "                            tc_deseq_sig, b_deseq_sig, ncm_deseq_sig, nk_deseq_sig, cdc_deseq_sig, pdc_deseq_sig));"
   ]
  },
  {
   "cell_type": "code",
   "execution_count": 20,
   "metadata": {},
   "outputs": [
    {
     "data": {
      "text/html": [
       "198"
      ],
      "text/latex": [
       "198"
      ],
      "text/markdown": [
       "198"
      ],
      "text/plain": [
       "[1] 198"
      ]
     },
     "metadata": {},
     "output_type": "display_data"
    },
    {
     "data": {
      "text/html": [
       "141"
      ],
      "text/latex": [
       "141"
      ],
      "text/markdown": [
       "141"
      ],
      "text/plain": [
       "[1] 141"
      ]
     },
     "metadata": {},
     "output_type": "display_data"
    },
    {
     "data": {
      "text/html": [
       "141"
      ],
      "text/latex": [
       "141"
      ],
      "text/markdown": [
       "141"
      ],
      "text/plain": [
       "[1] 141"
      ]
     },
     "metadata": {},
     "output_type": "display_data"
    }
   ],
   "source": [
    "pbmc_deseq_sig_genes <- pbmc_deseq$V1[intersect(which(pbmc_deseq$baseMean > 25), intersect(which(abs(pbmc_deseq$log2FoldChange)>1),which(pbmc_deseq$qval < 0.01)))]\n",
    "cm_deseq_sig_genes <- cm_deseq$V1[intersect(which(cm_deseq$baseMean > 25), intersect(which(abs(cm_deseq$log2FoldChange)>1),which(cm_deseq$qval < 0.01)))]\n",
    "th_deseq_sig_genes <- th_deseq$V1[intersect(which(th_deseq$baseMean > 25), intersect(which(abs(th_deseq$log2FoldChange)>1),which(th_deseq$qval < 0.01)))]\n",
    "tc_deseq_sig_genes <- tc_deseq$V1[intersect(which(tc_deseq$baseMean > 25), intersect(which(abs(tc_deseq$log2FoldChange)>1),which(tc_deseq$qval < 0.01)))]\n",
    "b_deseq_sig_genes <- b_deseq$V1[intersect(which(b_deseq$baseMean > 25), intersect(which(abs(b_deseq$log2FoldChange)>1),which(b_deseq$qval < 0.01)))]\n",
    "ncm_deseq_sig_genes <- ncm_deseq$V1[intersect(which(ncm_deseq$baseMean > 25), intersect(which(abs(ncm_deseq$log2FoldChange)>1),which(ncm_deseq$qval < 0.01)))]\n",
    "nk_deseq_sig_genes <- nk_deseq$V1[intersect(which(nk_deseq$baseMean > 25), intersect(which(abs(nk_deseq$log2FoldChange)>1),which(nk_deseq$qval < 0.01)))]\n",
    "cdc_deseq_sig_genes <- cdc_deseq$V1[intersect(which(cdc_deseq$baseMean > 25), intersect(which(abs(cdc_deseq$log2FoldChange)>1),which(cdc_deseq$qval < 0.01)))]\n",
    "pdc_deseq_sig_genes <- pdc_deseq$V1[intersect(which(pdc_deseq$baseMean > 25), intersect(which(abs(pdc_deseq$log2FoldChange)>1),which(pdc_deseq$qval < 0.01)))]\n",
    "\n",
    "union_deseq_sig_genes <- unique(c(pbmc_deseq_sig_genes, cm_deseq_sig_genes, ncm_deseq_sig_genes, cdc_deseq_sig_genes, pdc_deseq_sig_genes, th_deseq_sig_genes, tc_deseq_sig_genes,  nk_deseq_sig_genes,b_deseq_sig_genes))\n",
    "length(union_deseq_sig_genes)\n",
    "length(pbmc_deseq_sig_genes)\n",
    "length(intersect(pbmc_deseq_sig_genes, union_deseq_sig_genes))\n",
    "\n",
    "deseq_sig_genes <- union_deseq_sig_genes"
   ]
  },
  {
   "cell_type": "code",
   "execution_count": 21,
   "metadata": {},
   "outputs": [
    {
     "data": {
      "text/html": [
       "187"
      ],
      "text/latex": [
       "187"
      ],
      "text/markdown": [
       "187"
      ],
      "text/plain": [
       "[1] 187"
      ]
     },
     "metadata": {},
     "output_type": "display_data"
    }
   ],
   "source": [
    "length(joined_pivot$batch_cov)"
   ]
  },
  {
   "cell_type": "code",
   "execution_count": 22,
   "metadata": {},
   "outputs": [],
   "source": [
    "# pbmc_col_clust <- hclust(dist(t(pbmc_expr_std[match(deseq_sig_genes,expr_gene_names),]),method = \"manhattan\"), method=\"ward.D\")\n",
    "# pbmc_row_clust <- hclust(dist(pbmc_expr_std[match(deseq_sig_genes,expr_gene_names),],method = \"manhattan\"), method=\"ward.D\")\n",
    "\n",
    "all_expr_pbmc_counts_std <- data.frame(pbmc=pbmc_expr_std,\n",
    "                                   cm=cm_expr_pbmc_counts_std,\n",
    "                                   ncm=ncm_expr_pbmc_counts_std,\n",
    "                                   cdc=cdc_expr_pbmc_counts_std,\n",
    "                                   pdc=pdc_expr_pbmc_counts_std,\n",
    "                                   th=th_expr_pbmc_counts_std,\n",
    "                                   tc=tc_expr_pbmc_counts_std,\n",
    "                                   nk=nk_expr_pbmc_counts_std,\n",
    "                                   b=b_expr_pbmc_counts_std)\n",
    "\n",
    "\n",
    "all_expr_pbmc_counts <- data.frame(pbmc=pbmc_expr,\n",
    "                      cm=cm_expr_pbmc_counts,\n",
    "                      ncm=ncm_expr_pbmc_counts,\n",
    "                      cdc=cdc_expr_pbmc_counts,\n",
    "                       pdc=pdc_expr_pbmc_counts,\n",
    "                      th=th_expr_pbmc_counts,\n",
    "                      tc=tc_expr_pbmc_counts,\n",
    "                      nk=nk_expr_pbmc_counts,\n",
    "                      b=b_expr_pbmc_counts\n",
    "                      )\n",
    "\n",
    "all_expr_pbmc_counts_sig <- all_expr_pbmc_counts[match(deseq_sig_genes,expr_gene_names),]\n",
    "all_expr_pbmc_counts_std_sig <- all_expr_pbmc_counts_std[match(deseq_sig_genes,expr_gene_names),]\n",
    "                                       \n",
    "all_expr_ct_counts_std <- data.frame(pbmc=pbmc_expr_std,\n",
    "                                   cm=cm_expr_ct_counts_std,\n",
    "                                   ncm=ncm_expr_ct_counts_std,\n",
    "                                   cdc=cdc_expr_ct_counts_std,\n",
    "                                   pdc=pdc_expr_ct_counts_std,\n",
    "                                   th=th_expr_ct_counts_std,\n",
    "                                   tc=tc_expr_ct_counts_std,\n",
    "                                   nk=nk_expr_ct_counts_std,\n",
    "                                   b=b_expr_ct_counts_std)\n",
    "\n",
    "\n",
    "all_expr_ct_counts <- data.frame(pbmc=pbmc_expr,\n",
    "                      cm=cm_expr_ct_counts,\n",
    "                      ncm=ncm_expr_ct_counts,\n",
    "                      cdc=cdc_expr_ct_counts,\n",
    "                       pdc=pdc_expr_ct_counts,\n",
    "                      th=th_expr_ct_counts,\n",
    "                      tc=tc_expr_ct_counts,\n",
    "                      nk=nk_expr_ct_counts,\n",
    "                      b=b_expr_ct_counts\n",
    "                      )\n",
    "\n",
    "all_expr_ct_counts_sig <- all_expr_ct_counts[match(deseq_sig_genes,expr_gene_names),]\n",
    "all_expr_ct_counts_std_sig <- all_expr_ct_counts_std[match(deseq_sig_genes,expr_gene_names),]\n",
    "\n",
    "cell_types <- c(\"PBMC\",\"cM\",\"ncM\", \"cDC\",\"pDC\",\"T4\",\"T8\",\"NK\",\"B\")\n",
    "                                  \n",
    "                                     \n",
    "ct_annotation_one <- data.frame(disease_pop_cov=joined_pivot$disease_pop_cov,\n",
    "                           sledaiscore=joined_pivot$sledaiscore)\n",
    "rownames(ct_annotation_one) <- colnames(pbmc_expr);\n",
    "\n",
    "\n",
    "ct_annotation <- data.frame(type=factor(rep(cell_types,each=ncol(ncm_expr_pbmc_counts))),\n",
    "                           disease_pop_cov=joined_pivot$disease_pop_cov,\n",
    "                           sledaiscore=joined_pivot$sledaiscore)\n",
    "rownames(ct_annotation) <- colnames(all_expr_pbmc_counts_std);\n"
   ]
  },
  {
   "cell_type": "code",
   "execution_count": 23,
   "metadata": {},
   "outputs": [],
   "source": [
    "## define variable genes per cluster"
   ]
  },
  {
   "cell_type": "code",
   "execution_count": 24,
   "metadata": {},
   "outputs": [],
   "source": [
    "pbmc_var_genes <- rownames(pbmc_expr_std)[order(apply(pbmc_expr, 1, function(x) {var(x)}),decreasing=T)[1:500]]\n",
    "cm_var_genes <- rownames(cm_expr_ct_counts_std)[order(apply(cm_expr_ct_counts, 1, function(x) {var(x)}),decreasing=T)[1:500]]\n",
    "ncm_var_genes <- rownames(ncm_expr_ct_counts_std)[order(apply(ncm_expr_ct_counts, 1, function(x) {var(x)}),decreasing=T)[1:500]]\n",
    "th_var_genes <- rownames(th_expr_ct_counts_std)[order(apply(th_expr_ct_counts, 1, function(x) {var(x)}),decreasing=T)[1:500]]\n",
    "tc_var_genes <- rownames(tc_expr_ct_counts_std)[order(apply(tc_expr_ct_counts, 1, function(x) {var(x)}),decreasing=T)[1:500]]\n",
    "nk_var_genes <- rownames(nk_expr_ct_counts_std)[order(apply(nk_expr_ct_counts, 1, function(x) {var(x)}),decreasing=T)[1:500]]\n",
    "cdc_var_genes <- rownames(cdc_expr_ct_counts_std)[order(apply(cdc_expr_ct_counts, 1, function(x) {var(x)}),decreasing=T)[1:500]]\n",
    "b_var_genes <- rownames(b_expr_ct_counts_std)[order(apply(b_expr_ct_counts, 1, function(x) {var(x)}),decreasing=T)[1:500]]\n",
    "pdc_var_genes <- rownames(pdc_expr_ct_counts_std)[order(apply(pdc_expr_ct_counts, 1, function(x) {var(x)}),decreasing=T)[1:500]]"
   ]
  },
  {
   "cell_type": "code",
   "execution_count": 25,
   "metadata": {},
   "outputs": [],
   "source": [
    "rank_gene_groups <- read.csv(\"rank_gene_groups.txt\")\n",
    "cm_rg_genes <- rownames(cm_expr_ct_counts_std)[match(rank_gene_groups[,\"cM\"][1:500], rownames(cm_expr_ct_counts_std))]\n",
    "ncm_rg_genes <- rownames(ncm_expr_ct_counts_std)[match(rank_gene_groups[,\"ncM\"][1:500], rownames(ncm_expr_ct_counts_std))]\n",
    "th_rg_genes <- rownames(th_expr_ct_counts_std)[match(rank_gene_groups[,\"Th\"][1:500], rownames(th_expr_ct_counts_std))]\n",
    "tc_rg_genes <- rownames(tc_expr_ct_counts_std)[match(rank_gene_groups[,\"Tc\"][1:500], rownames(tc_expr_ct_counts_std))]\n",
    "nk_rg_genes <- rownames(nk_expr_ct_counts_std)[match(rank_gene_groups[,\"NK\"][1:500], rownames(nk_expr_ct_counts_std))]\n",
    "cdc_rg_genes <- rownames(cdc_expr_ct_counts_std)[match(rank_gene_groups[,\"cDC\"][1:500], rownames(cdc_expr_ct_counts_std))]\n",
    "b_rg_genes <- rownames(b_expr_ct_counts_std)[match(rank_gene_groups[,\"B\"][1:500], rownames(b_expr_ct_counts_std))]\n",
    "pdc_rg_genes <- rownames(pdc_expr_ct_counts_std)[match(rank_gene_groups[,\"pDC\"][1:500], rownames(pdc_expr_ct_counts_std))]"
   ]
  },
  {
   "cell_type": "code",
   "execution_count": 26,
   "metadata": {},
   "outputs": [],
   "source": [
    "cm_pbmc_count_var_genes <- rownames(cm_expr_pbmc_counts_std)[order(apply(cm_expr_pbmc_counts, 1, var),decreasing=T)[1:1000]]\n",
    "ncm_pbmc_count_var_genes <- rownames(ncm_expr_pbmc_counts_std)[order(apply(ncm_expr_pbmc_counts, 1, var),decreasing=T)[1:1000]]\n",
    "th_pbmc_count_var_genes <- rownames(th_expr_pbmc_counts_std)[order(apply(th_expr_pbmc_counts, 1, var),decreasing=T)[1:1000]]\n",
    "tc_pbmc_count_var_genes <- rownames(tc_expr_pbmc_counts_std)[order(apply(tc_expr_pbmc_counts, 1, var),decreasing=T)[1:1000]]\n",
    "nk_pbmc_count_var_genes <- rownames(nk_expr_pbmc_counts_std)[order(apply(nk_expr_pbmc_counts, 1, var),decreasing=T)[1:1000]]\n",
    "cdc_pbmc_count_var_genes <- rownames(cdc_expr_pbmc_counts_std)[order(apply(cdc_expr_pbmc_counts, 1, var),decreasing=T)[1:1000]]\n",
    "b_pbmc_count_var_genes <- rownames(b_expr_pbmc_counts_std)[order(apply(b_expr_pbmc_counts, 1, var),decreasing=T)[1:1000]]\n",
    "pdc_pbmc_count_var_genes <- rownames(pdc_expr_pbmc_counts_std)[order(apply(pdc_expr_pbmc_counts, 1, var),decreasing=T)[1:1000]]"
   ]
  },
  {
   "cell_type": "code",
   "execution_count": 27,
   "metadata": {},
   "outputs": [],
   "source": [
    "ifn_crow <- read.table(\"ifn.lupus.crow.etal.txt\")\n",
    "crow_annotation <- matrix(nrow=nrow(all_expr_pbmc_counts_std_sig), ncol=1, 0);\n",
    "crow_annotation[na.omit(match(ifn_crow$V1, rownames(all_expr_pbmc_counts_std_sig))),1] <- 1;\n",
    "rownames(crow_annotation) <- rownames(all_expr_pbmc_counts_std_sig)\n",
    "colnames(crow_annotation) <- \"Crow\"\n",
    "crow_annotation <- as.data.frame(crow_annotation)"
   ]
  },
  {
   "cell_type": "code",
   "execution_count": 28,
   "metadata": {},
   "outputs": [
    {
     "data": {
      "text/html": [
       "25"
      ],
      "text/latex": [
       "25"
      ],
      "text/markdown": [
       "25"
      ],
      "text/plain": [
       "[1] 25"
      ]
     },
     "metadata": {},
     "output_type": "display_data"
    }
   ],
   "source": [
    "sum(crow_annotation$Crow)"
   ]
  },
  {
   "cell_type": "code",
   "execution_count": 29,
   "metadata": {},
   "outputs": [],
   "source": [
    "pbmc_deseq_sig_annotation <- matrix(nrow=nrow(all_expr_pbmc_counts_std_sig), ncol=1, 0);\n",
    "pbmc_deseq_sig_annotation[na.omit(match(pbmc_deseq_sig_genes, rownames(all_expr_pbmc_counts_std_sig))),1] <- 1;\n",
    "rownames(pbmc_deseq_sig_annotation) <- rownames(all_expr_pbmc_counts_std_sig)\n",
    "colnames(pbmc_deseq_sig_annotation) <- \"PBMC Sig\"\n",
    "pbmc_deseq_sig_annotation <- as.data.frame(pbmc_deseq_sig_annotation)"
   ]
  },
  {
   "cell_type": "code",
   "execution_count": 30,
   "metadata": {},
   "outputs": [
    {
     "data": {
      "text/html": [
       "<ol class=list-inline>\n",
       "\t<li>198</li>\n",
       "\t<li>1</li>\n",
       "</ol>\n"
      ],
      "text/latex": [
       "\\begin{enumerate*}\n",
       "\\item 198\n",
       "\\item 1\n",
       "\\end{enumerate*}\n"
      ],
      "text/markdown": [
       "1. 198\n",
       "2. 1\n",
       "\n",
       "\n"
      ],
      "text/plain": [
       "[1] 198   1"
      ]
     },
     "metadata": {},
     "output_type": "display_data"
    },
    {
     "data": {
      "text/html": [
       "141"
      ],
      "text/latex": [
       "141"
      ],
      "text/markdown": [
       "141"
      ],
      "text/plain": [
       "[1] 141"
      ]
     },
     "metadata": {},
     "output_type": "display_data"
    }
   ],
   "source": [
    "dim(pbmc_deseq_sig_annotation)\n",
    "length(pbmc_deseq_sig_genes)"
   ]
  },
  {
   "cell_type": "code",
   "execution_count": 31,
   "metadata": {},
   "outputs": [],
   "source": [
    "row_annotations <- cbind(crow_annotation, pbmc_deseq_sig_annotation)"
   ]
  },
  {
   "cell_type": "code",
   "execution_count": 32,
   "metadata": {},
   "outputs": [
    {
     "data": {
      "text/html": [
       "21"
      ],
      "text/latex": [
       "21"
      ],
      "text/markdown": [
       "21"
      ],
      "text/plain": [
       "[1] 21"
      ]
     },
     "metadata": {},
     "output_type": "display_data"
    }
   ],
   "source": [
    "sum(row_annotations$Crow[row_annotations$\"PBMC Sig\"==1])"
   ]
  },
  {
   "cell_type": "code",
   "execution_count": 33,
   "metadata": {},
   "outputs": [
    {
     "data": {
      "text/html": [
       "<ol class=list-inline>\n",
       "\t<li>16740</li>\n",
       "\t<li>187</li>\n",
       "</ol>\n"
      ],
      "text/latex": [
       "\\begin{enumerate*}\n",
       "\\item 16740\n",
       "\\item 187\n",
       "\\end{enumerate*}\n"
      ],
      "text/markdown": [
       "1. 16740\n",
       "2. 187\n",
       "\n",
       "\n"
      ],
      "text/plain": [
       "[1] 16740   187"
      ]
     },
     "metadata": {},
     "output_type": "display_data"
    }
   ],
   "source": [
    "dim(pbmc_expr_std)"
   ]
  },
  {
   "cell_type": "code",
   "execution_count": 34,
   "metadata": {},
   "outputs": [
    {
     "data": {
      "text/html": [
       "-0.320193331352031"
      ],
      "text/latex": [
       "-0.320193331352031"
      ],
      "text/markdown": [
       "-0.320193331352031"
      ],
      "text/plain": [
       "[1] -0.3201933"
      ]
     },
     "metadata": {},
     "output_type": "display_data"
    },
    {
     "data": {
      "text/html": [
       "-0.59140088051794"
      ],
      "text/latex": [
       "-0.59140088051794"
      ],
      "text/markdown": [
       "-0.59140088051794"
      ],
      "text/plain": [
       "[1] -0.5914009"
      ]
     },
     "metadata": {},
     "output_type": "display_data"
    },
    {
     "data": {
      "text/html": [
       "0.228814867141092"
      ],
      "text/latex": [
       "0.228814867141092"
      ],
      "text/markdown": [
       "0.228814867141092"
      ],
      "text/plain": [
       "[1] 0.2288149"
      ]
     },
     "metadata": {},
     "output_type": "display_data"
    }
   ],
   "source": [
    "joined_full=read.table('../figure1.ct.diff/CLUESImmVar_processed.V6_joined_pivot_cg_perc.txt', sep=',', header=T)\n",
    "##print(head(joined_full))\n",
    "pbmc_use=pbmc_expr_std[match(pbmc_deseq_sig_genes,expr_gene_names),]\n",
    "\n",
    "inds=sapply(strsplit(colnames(pbmc_use),'_'), '[', 1)\n",
    "\n",
    "joined_full_use=joined_full[match(inds, joined_full[['ind_cov']]), ]\n",
    "\n",
    "sig=prcomp(t(pbmc_use))$x[, 1]\n",
    "\n",
    "\n",
    "sig.sle=sig[grep('IGTB', names(sig), invert=T)]\n",
    "joined_full_sle=joined_full_use[grep('IGTB', names(sig), invert=T), ]\n",
    "\n",
    "\n",
    "#correlation with sledaiscore\n",
    "cor(joined_full_sle[['sledaiscore']], sig.sle, use = 'complete.obs')\n",
    "\n",
    "#correlation with mono and lymph\n",
    "cor(joined_full_sle[['PercMono']], sig.sle, use = 'complete.obs')\n",
    "cor(joined_full_sle[['PercLympho']], sig.sle, use = 'complete.obs')\n",
    "\n"
   ]
  },
  {
   "cell_type": "markdown",
   "metadata": {},
   "source": [
    "## GLM prediction of all samples"
   ]
  },
  {
   "cell_type": "code",
   "execution_count": 35,
   "metadata": {},
   "outputs": [
    {
     "name": "stderr",
     "output_type": "stream",
     "text": [
      "Warning message:\n",
      "“package ‘caret’ was built under R version 3.6.1”Loading required package: lattice\n",
      "Warning message:\n",
      "“package ‘kernlab’ was built under R version 3.6.1”\n",
      "Attaching package: ‘kernlab’\n",
      "\n",
      "The following object is masked from ‘package:ggplot2’:\n",
      "\n",
      "    alpha\n",
      "\n"
     ]
    }
   ],
   "source": [
    "library(caret)\n",
    "library(kernlab)"
   ]
  },
  {
   "cell_type": "code",
   "execution_count": 36,
   "metadata": {},
   "outputs": [],
   "source": [
    "#do LOO Cross Validation with lasso and return the predicted values\n",
    "\n",
    "loo_cv <- function(mat_expr, outcome){\n",
    "    k <- length(outcome) ##nrow(sledai)\n",
    "    predictions <- c()\n",
    "    for (i in 1:k) {\n",
    "        model <- glmnet(mat_expr[-i,], outcome[-i])\n",
    "        min_s=model$lambda[which.min(model$lambda)]\n",
    "        p=predict(model, newx=t(as.matrix(mat_expr[i, ])), s=min_s)\n",
    "        predictions <- c(predictions, p)                                  \n",
    "        }\n",
    "    return(predictions)\n",
    "    }\n"
   ]
  },
  {
   "cell_type": "code",
   "execution_count": 37,
   "metadata": {},
   "outputs": [
    {
     "name": "stdout",
     "output_type": "stream",
     "text": [
      "[1] 57\n",
      "[1] 30\n"
     ]
    }
   ],
   "source": [
    "genes_use=setdiff(deseq_sig_genes, pbmc_deseq_sig_genes)\n",
    "print(length(genes_use))\n",
    "ifn_genes_use=intersect(ifn_crow[['V1']] , expr_gene_names)\n",
    "print(length(ifn_genes_use))"
   ]
  },
  {
   "cell_type": "code",
   "execution_count": 38,
   "metadata": {},
   "outputs": [],
   "source": [
    "cm_indices<-c(9,10,13,14,15);\n",
    "ncm_indices <-c(16,17)\n",
    "cdc_indices <- c(11,12)"
   ]
  },
  {
   "cell_type": "code",
   "execution_count": 50,
   "metadata": {
    "scrolled": true
   },
   "outputs": [],
   "source": [
    "comp_indices <- c(60,63,64,65,66,67,68,69,70,71); \n",
    "##c(14,17,18,19,20,21,22,23,24,25)\n",
    "sledai=cbind(ct_annotation_one, joined_pivot[, ..comp_indices])\n",
    "##sledai=sledai[pbmc_col_clust$order,]\n",
    "sledai[['disease']]=1\n",
    "sledai[['disease']][grep('healthy', sledai[['disease_pop_cov']])]=0\n",
    "\n",
    "comp = sledai[,c(3:(ncol(sledai)-1))]\n",
    "comp[is.na(comp)] <- 0;\n",
    "##head(comp)\n",
    "\n",
    "comp_lineage = data.frame(lymph=comp$B+comp$NK+comp$ProlifT+comp$Tc+comp$Th, mye=comp$cM+comp$ncM+comp$pDC+comp$cDC)\n",
    "rownames(comp_lineage) <- rownames(comp);\n",
    "\n",
    "lymphoid_indices <- c(10,11,14,15,16,18,19,20,21,22,23,24,25,26,27);\n",
    "myeloid_indices <- c(11:18);\n",
    "\n",
    "comp_all = cbind(joined_lymphoid_pivot[,..lymphoid_indices]*(comp$B+comp$NK+comp$ProlifT+comp$Tc+comp$Th)/100,\n",
    "                 joined_myeloid_pivot[,..myeloid_indices]*(comp$cM+comp$ncM+comp$pDC+comp$cDC)/100)\n",
    "comp_all[is.na(comp_all)] <- 0;\n",
    "##head(comp_all)\n",
    "\n",
    "leiden = joined_leiden_pivot[,14:56]\n",
    "leiden[is.na(leiden)] <- 0;\n",
    "##head(leiden)\n"
   ]
  },
  {
   "cell_type": "code",
   "execution_count": 52,
   "metadata": {},
   "outputs": [
    {
     "data": {
      "text/html": [
       "0.435091613700346"
      ],
      "text/latex": [
       "0.435091613700346"
      ],
      "text/markdown": [
       "0.435091613700346"
      ],
      "text/plain": [
       "[1] 0.4350916"
      ]
     },
     "metadata": {},
     "output_type": "display_data"
    },
    {
     "data": {
      "text/html": [
       "0.0892507058871934"
      ],
      "text/latex": [
       "0.0892507058871934"
      ],
      "text/markdown": [
       "0.0892507058871934"
      ],
      "text/plain": [
       "[1] 0.08925071"
      ]
     },
     "metadata": {},
     "output_type": "display_data"
    },
    {
     "data": {
      "text/html": [
       "-0.0749533747015622"
      ],
      "text/latex": [
       "-0.0749533747015622"
      ],
      "text/markdown": [
       "-0.0749533747015622"
      ],
      "text/plain": [
       "[1] -0.07495337"
      ]
     },
     "metadata": {},
     "output_type": "display_data"
    },
    {
     "data": {
      "text/html": [
       "-0.0479659100446349"
      ],
      "text/latex": [
       "-0.0479659100446349"
      ],
      "text/markdown": [
       "-0.0479659100446349"
      ],
      "text/plain": [
       "[1] -0.04796591"
      ]
     },
     "metadata": {},
     "output_type": "display_data"
    }
   ],
   "source": [
    "cor(as.numeric(unlist(rowSums(joined_myeloid_pivot[,..cm_indices],na.rm=T)*(comp$cM+comp$ncM+comp$pDC+comp$cDC)/100)), as.numeric(comp$cM))\n",
    "cor(as.numeric(unlist(rowSums(joined_myeloid_pivot[,..ncm_indices],na.rm=T)*(comp$cM+comp$ncM+comp$pDC+comp$cDC)/100)), as.numeric(comp$ncM))\n",
    "cor(as.numeric(unlist(rowSums(joined_myeloid_pivot[,..cdc_indices],na.rm=T)*(comp$cM+comp$ncM+comp$pDC+comp$cDC)/100)), as.numeric(comp$cDC))\n",
    "\n",
    "cor(as.numeric(unlist(joined_myeloid_pivot[,18]*(comp$cM+comp$ncM+comp$pDC+comp$cDC)/100)), as.numeric(comp$pDC),use='complete.obs')"
   ]
  },
  {
   "cell_type": "code",
   "execution_count": 53,
   "metadata": {},
   "outputs": [
    {
     "name": "stdout",
     "output_type": "stream",
     "text": [
      "[1]  198 1683\n",
      "                    type disease_pop_cov sledaiscore\n",
      "pbmc.1004_lupus7.13 PBMC        sleWHITE           2\n",
      "pbmc.1014_lupus7.13 PBMC        sleWHITE           2\n",
      "pbmc.1019_lupus7.13 PBMC        sleWHITE           0\n",
      "pbmc.1045_lupus7.13 PBMC        sleASIAN           4\n",
      "pbmc.1051_lupus7.13 PBMC        sleASIAN           4\n",
      "pbmc.1054_lupus7.13 PBMC        sleASIAN           3\n"
     ]
    }
   ],
   "source": [
    "#prediction with all cts\n",
    "print(dim(all_expr_pbmc_counts_std_sig))\n",
    "print(head(ct_annotation))\n",
    "\n",
    "\n",
    "all_expr_cts_ifn_pbmc_counts <- rbind(#pbmc=pbmc_expr_std[match(deseq_sig_genes,expr_gene_names),],\n",
    "                      cm=cm_expr_pbmc_counts_std[match(ifn_genes_use,expr_gene_names),],\n",
    "                      ncm=ncm_expr_pbmc_counts_std[match(ifn_genes_use,expr_gene_names),],\n",
    "                      pdc=pdc_expr_pbmc_counts_std[match(ifn_genes_use,expr_gene_names),],\n",
    "                        cdc=cdc_expr_pbmc_counts_std[match(ifn_genes_use,expr_gene_names),],\n",
    "                      th=th_expr_pbmc_counts_std[match(ifn_genes_use,expr_gene_names),],\n",
    "                      tc=tc_expr_pbmc_counts_std[match(ifn_genes_use,expr_gene_names),],\n",
    "                       nk=nk_expr_pbmc_counts_std[match(ifn_genes_use,expr_gene_names),],\n",
    "                      b=b_expr_pbmc_counts_std[match(ifn_genes_use,expr_gene_names),]\n",
    "                      )\n",
    "\n",
    "\n",
    "\n",
    "all_expr_cts_pbmc_counts <- rbind(#pbmc=pbmc_expr_std[match(deseq_sig_genes,expr_gene_names),],\n",
    "                      cm=cm_expr_pbmc_counts_std[match(deseq_sig_genes,expr_gene_names),],\n",
    "                      ncm=ncm_expr_pbmc_counts_std[match(deseq_sig_genes,expr_gene_names),],\n",
    "                      cdc=cdc_expr_pbmc_counts_std[match(deseq_sig_genes,expr_gene_names),],\n",
    "                      pdc=pdc_expr_pbmc_counts_std[match(deseq_sig_genes,expr_gene_names),],\n",
    "                      th=th_expr_pbmc_counts_std[match(deseq_sig_genes,expr_gene_names),],\n",
    "                      tc=tc_expr_pbmc_counts_std[match(deseq_sig_genes,expr_gene_names),],\n",
    "                       nk=nk_expr_pbmc_counts_std[match(deseq_sig_genes,expr_gene_names),],\n",
    "                      b=b_expr_pbmc_counts_std[match(deseq_sig_genes,expr_gene_names),]\n",
    "                      )\n",
    "\n",
    "\n",
    "all_expr_cts_var_pbmc_counts <- rbind(#pbmc=pbmc_expr_std[match(deseq_sig_genes,expr_gene_names),],\n",
    "                      cm=cm_expr_pbmc_counts_std[match(cm_pbmc_count_var_genes,expr_gene_names),],\n",
    "                      ncm=ncm_expr_pbmc_counts_std[match(ncm_pbmc_count_var_genes,expr_gene_names),],\n",
    "                      cdc=cdc_expr_pbmc_counts_std[match(cdc_pbmc_count_var_genes,expr_gene_names),],\n",
    "                      pdc=pdc_expr_pbmc_counts_std[match(pdc_pbmc_count_var_genes,expr_gene_names),],\n",
    "                      th=th_expr_pbmc_counts_std[match(th_pbmc_count_var_genes,expr_gene_names),],\n",
    "                      tc=tc_expr_pbmc_counts_std[match(tc_pbmc_count_var_genes,expr_gene_names),],\n",
    "                       nk=nk_expr_pbmc_counts_std[match(nk_pbmc_count_var_genes,expr_gene_names),],\n",
    "                      b=b_expr_pbmc_counts_std[match(b_pbmc_count_var_genes,expr_gene_names),]\n",
    "                      )\n",
    "\n",
    "\n",
    "all_expr_cts_ifn <- rbind(#pbmc=pbmc_expr_std[match(deseq_sig_genes,expr_gene_names),],\n",
    "                      cm=cm_expr_ct_counts_std[match(ifn_genes_use,expr_gene_names),],\n",
    "                      ncm=ncm_expr_ct_counts_std[match(ifn_genes_use,expr_gene_names),],\n",
    "                      pdc=pdc_expr_ct_counts_std[match(ifn_genes_use,expr_gene_names),],\n",
    "                        cdc=cdc_expr_ct_counts_std[match(ifn_genes_use,expr_gene_names),],\n",
    "                      th=th_expr_ct_counts_std[match(ifn_genes_use,expr_gene_names),],\n",
    "                      tc=tc_expr_ct_counts_std[match(ifn_genes_use,expr_gene_names),],\n",
    "                       nk=nk_expr_ct_counts_std[match(ifn_genes_use,expr_gene_names),],\n",
    "                      b=b_expr_ct_counts_std[match(ifn_genes_use,expr_gene_names),]\n",
    "                      )\n",
    "\n",
    "\n",
    "\n",
    "all_expr_cts <- rbind(#pbmc=pbmc_expr_std[match(deseq_sig_genes,expr_gene_names),],\n",
    "                      cm=cm_expr_ct_counts_std[match(deseq_sig_genes,expr_gene_names),],\n",
    "                      ncm=ncm_expr_ct_counts_std[match(deseq_sig_genes,expr_gene_names),],\n",
    "                      cdc=cdc_expr_ct_counts_std[match(deseq_sig_genes,expr_gene_names),],\n",
    "                      pdc=pdc_expr_ct_counts_std[match(deseq_sig_genes,expr_gene_names),],\n",
    "                      th=th_expr_ct_counts_std[match(deseq_sig_genes,expr_gene_names),],\n",
    "                      tc=tc_expr_ct_counts_std[match(deseq_sig_genes,expr_gene_names),],\n",
    "                       nk=nk_expr_ct_counts_std[match(deseq_sig_genes,expr_gene_names),],\n",
    "                      b=b_expr_ct_counts_std[match(deseq_sig_genes,expr_gene_names),]\n",
    "                      )\n",
    "\n",
    "\n",
    "all_expr_cts_var <- rbind(#pbmc=pbmc_expr_std[match(deseq_sig_genes,expr_gene_names),],\n",
    "                      cm=cm_expr_ct_counts_std[match(cm_var_genes,expr_gene_names),],\n",
    "                      ncm=ncm_expr_ct_counts_std[match(ncm_var_genes,expr_gene_names),],\n",
    "                      cdc=cdc_expr_ct_counts_std[match(cdc_var_genes,expr_gene_names),],\n",
    "                      pdc=pdc_expr_ct_counts_std[match(pdc_var_genes,expr_gene_names),],\n",
    "                      th=th_expr_ct_counts_std[match(th_var_genes,expr_gene_names),],\n",
    "                      tc=tc_expr_ct_counts_std[match(tc_var_genes,expr_gene_names),],\n",
    "                      nk=nk_expr_ct_counts_std[match(nk_var_genes,expr_gene_names),],\n",
    "                      b=b_expr_ct_counts_std[match(b_var_genes,expr_gene_names),]\n",
    "                      )\n",
    "\n",
    "all_expr_cts_rg <- rbind(#pbmc=pbmc_expr_std[match(deseq_sig_genes,expr_gene_names),],\n",
    "                      cm=cm_expr_ct_counts_std[na.omit(match(cm_rg_genes,expr_gene_names)),],\n",
    "                      ncm=ncm_expr_ct_counts_std[na.omit(match(ncm_rg_genes,expr_gene_names)),],\n",
    "                      cdc=cdc_expr_ct_counts_std[na.omit(match(cdc_rg_genes,expr_gene_names)),],\n",
    "                      pdc=pdc_expr_ct_counts_std[na.omit(match(pdc_rg_genes,expr_gene_names)),],\n",
    "                      th=th_expr_ct_counts_std[na.omit(match(th_rg_genes,expr_gene_names)),],\n",
    "                      tc=tc_expr_ct_counts_std[na.omit(match(tc_rg_genes,expr_gene_names)),],\n",
    "                      nk=nk_expr_ct_counts_std[na.omit(match(nk_rg_genes,expr_gene_names)),],\n",
    "                      b=b_expr_ct_counts_std[na.omit(match(b_rg_genes,expr_gene_names)),]\n",
    "                      )\n",
    "\n",
    "\n",
    "##add the CT comp to CT expr\n",
    "all_includect_comp_expr=rbind(all_expr_cts, t(comp))\n",
    "all_includect_comp_expr_ifn=rbind(all_expr_cts_ifn, t(comp))\n",
    "all_includect_comp_expr_var=rbind(t(apply(t(comp),1,function(x){(x-mean(x))/sd(x)})), all_expr_cts_var)\n",
    "all_includect_comp_expr_rg=rbind(t(apply(t(comp),1,function(x){(x-mean(x))/sd(x)})), all_expr_cts_rg)\n"
   ]
  },
  {
   "cell_type": "code",
   "execution_count": 54,
   "metadata": {},
   "outputs": [
    {
     "data": {
      "text/html": [],
      "text/latex": [],
      "text/markdown": [],
      "text/plain": [
       "named integer(0)"
      ]
     },
     "metadata": {},
     "output_type": "display_data"
    }
   ],
   "source": [
    "which(is.na(rowMeans(all_includect_comp_expr_rg)))"
   ]
  },
  {
   "cell_type": "markdown",
   "metadata": {},
   "source": [
    "## predicting sledai in cases and controls svm"
   ]
  },
  {
   "cell_type": "code",
   "execution_count": 55,
   "metadata": {},
   "outputs": [],
   "source": [
    "qualitative_prediction <- function(trait = trait, indices = NULL, method=\"svmLinear\") {\n",
    "    trait_index = match(trait, colnames(joined_pivot))\n",
    "    \n",
    "    if(is.null(indices)) {\n",
    "        indices <- 1:nrow(joined_pivot);\n",
    "    }\n",
    "\n",
    "    performance <- NULL;\n",
    "    \n",
    "    ##print(indices);\n",
    "\n",
    "    df <- data.frame(as.matrix(comp_lineage), trait=factor(unlist(joined_pivot[,..trait_index])))\n",
    "    model <- train( trait ~ ., df[indices,], method=method, trControl = trainControl(method=\"cv\", number =10))\n",
    "    cat(\"comp_lineage: \", mean(model$results$Accuracy), \"\\n\")\n",
    "    performance <- rbind(performance, c(performance=mean(model$results$Accuracy), type=\"comp_lineage\"));\n",
    "\n",
    "    df <- data.frame(as.matrix(comp), trait=factor(unlist(joined_pivot[,..trait_index])))\n",
    "    model <- train( trait ~ ., df[indices,], method=method, trControl = trainControl(method=\"cv\", number =10))\n",
    "    cat(\"comp: \", mean(model$results$Accuracy), \"\\n\")\n",
    "    performance <- rbind(performance, c(performance=mean(model$results$Accuracy), type=\"comp\"));\n",
    "\n",
    "#     df <- data.frame(as.matrix(comp_all), sledaiscore=joined_pivot$sledaiscore)\n",
    "#     model <- train( sledaiscore ~ ., df[disease_indices,], method=\"svmLinear\", trControl = trainControl(method=\"cv\", number =10))\n",
    "#     cat(\"comp_all: \", mean(model$results$Rsquared), \"\\n\")\n",
    "\n",
    "#     df <- data.frame(as.matrix(leiden), sledaiscore=joined_pivot$sledaiscore)\n",
    "#     model <- train( sledaiscore ~ ., df[disease_indices,], method=\"svmLinear\", trControl = trainControl(method=\"cv\", number =10))\n",
    "#     cat(\"leiden: \", mean(model$results$Rsquared), \"\\n\")\n",
    "\n",
    "#     df <- data.frame(t(pbmc_expr_std[match(deseq_sig_genes,expr_gene_names),]), sledaiscore=joined_pivot$sledaiscore)\n",
    "#     model <- train( sledaiscore ~ ., df[disease_indices,], method=\"svmLinear\", trControl = trainControl(method=\"cv\", number =10))\n",
    "#     cat(\"pbmc DE: \", mean(model$results$Rsquared), \"\\n\")\n",
    "\n",
    "    df <- data.frame(t(pbmc_expr_std[match(ifn_genes_use,expr_gene_names),]), trait=factor(unlist(joined_pivot[,..trait_index])))\n",
    "    model <- train( trait ~ ., df[indices,], method=method, trControl = trainControl(method=\"cv\", number =10))\n",
    "    cat(\"pbmc IFN: \", mean(model$results$Accuracy), \"\\n\")\n",
    "    performance <- rbind(performance, c(performance=mean(model$results$Accuracy), type=\"PBMC IFN\"));\n",
    "\n",
    "#     df <- data.frame(t(pbmc_expr_std[match(pbmc_var_genes,expr_gene_names),]), sledaiscore=joined_pivot$sledaiscore)\n",
    "#     model <- train( sledaiscore ~ ., df[disease_indices,], method=\"svmLinear\", trControl = trainControl(method=\"cv\", number =10))\n",
    "#     cat(\"pbmc VAR: \", mean(model$results$Rsquared), \"\\n\")\n",
    "#     ##sledai_cases <- rbind(sledai_cases, c(performance=mean(model$results$Rsquared), type=\"PBMC Var\"));\n",
    "\n",
    "#     df <- data.frame(t(rbind(pbmc_expr_std[match(deseq_sig_genes,expr_gene_names),], t(comp))), sledaiscore=joined_pivot$sledaiscore)\n",
    "#     model <- train( sledaiscore ~ ., df[disease_indices,], method=\"svmLinear\", trControl = trainControl(method=\"cv\", number =10))\n",
    "#     cat(\"pbmc DE + comp: \", mean(model$results$Rsquared), \"\\n\")\n",
    "\n",
    "#     df <- data.frame(t(rbind(pbmc_expr_std[match(ifn_genes_use,expr_gene_names),], t(comp))), sledaiscore=joined_pivot$sledaiscore)\n",
    "#     model <- train( sledaiscore ~ ., df[disease_indices,], method=\"svmLinear\", trControl = trainControl(method=\"cv\", number =10))\n",
    "#     cat(\"pbmc IFN + comp: \", mean(model$results$Rsquared), \"\\n\")\n",
    "#     ##sledai_cases <- rbind(sledai_cases, c(performance=mean(model$results$Rsquared), type=\"PBMC IFN Comp\"));\n",
    "\n",
    "#     df <- data.frame(t(rbind(pbmc_expr_std[match(pbmc_var_genes,expr_gene_names),], t(comp))), sledaiscore=joined_pivot$sledaiscore)\n",
    "#     model <- train( sledaiscore ~ ., df[disease_indices,], method=\"svmLinear\", trControl = trainControl(method=\"cv\", number =10))\n",
    "#     cat(\"pbmc VAR + comp: \", mean(model$results$Rsquared), \"\\n\")\n",
    "#     ##sledai_cases <- rbind(sledai_cases, c(performance=mean(model$results$Rsquared), type=\"PBMC Var Comp\"));\n",
    "\n",
    "#     df <- data.frame(t(all_expr_cts), sledaiscore=sledai[['sledaiscore']])\n",
    "#     model <- train( sledaiscore ~ ., df[disease_indices,], method=\"svmLinear\", trControl = trainControl(method=\"cv\", number =10))\n",
    "#     cat(\"ct DE: \", mean(model$results$Rsquared), \"\\n\")\n",
    "\n",
    "#     df <- data.frame(t(all_expr_cts_ifn), sledaiscore=sledai[['sledaiscore']])\n",
    "#     model <- train( sledaiscore ~ ., df[disease_indices,], method=\"svmLinear\", trControl = trainControl(method=\"cv\", number =10))\n",
    "#     cat(\"ct IFN: \", mean(model$results$Rsquared), \"\\n\")\n",
    "#     ##sledai_cases <- rbind(sledai_cases, c(performance=mean(model$results$Rsquared), type=\"CT IFN\"));\n",
    "\n",
    "    df <- data.frame(t(all_expr_cts_var), trait=factor(unlist(joined_pivot[,..trait_index])))\n",
    "    model <- train( trait ~ ., df[indices,], method=method, trControl = trainControl(method=\"cv\", number =10))\n",
    "    cat(\"ct VAR: \", mean(model$results$Accuracy), \"\\n\")\n",
    "    performance <- rbind(performance, c(performance=mean(model$results$Accuracy), type=\"CT VAR\"));\n",
    "\n",
    "#     df <- data.frame(t(all_includect_comp_expr), sledaiscore=sledai[['sledaiscore']])\n",
    "#     model <- train( sledaiscore ~ ., df[disease_indices,], method=\"svmLinear\", trControl = trainControl(method=\"cv\", number =10))\n",
    "#     cat(\"ct DE + comp: \", mean(model$results$Rsquared), \"\\n\")\n",
    "\n",
    "#     df <- data.frame(t(all_includect_comp_expr_ifn), sledaiscore=sledai[['sledaiscore']])\n",
    "#     model <- train( sledaiscore ~ ., df[disease_indices,], method=\"svmLinear\", trControl = trainControl(method=\"cv\", number =10))\n",
    "#     cat(\"ct IFN + comp: \", mean(model$results$Rsquared), \"\\n\")\n",
    "#     ##sledai_cases <- rbind(sledai_cases, c(performance=mean(model$results$Rsquared), type=\"CT IFN Comp\"));\n",
    "\n",
    "    df <- data.frame(t(all_includect_comp_expr_var), trait=factor(unlist(joined_pivot[,..trait_index])))\n",
    "    model <- train( trait ~ ., df[indices,], method=method, trControl = trainControl(method=\"cv\", number =10))\n",
    "    cat(\"ct VAR + comp: \", mean(model$results$Accuracy), \"\\n\")\n",
    "    performance <- rbind(performance, c(performance=mean(model$results$Accuracy), type=\"CT VAR COMP\"));\n",
    "    \n",
    "    \n",
    "#     df <- data.frame(t(all_expr_cts_rg), trait=factor(unlist(joined_pivot[,..trait_index])))\n",
    "#     model <- train( trait ~ ., df[indices,], method=method, trControl = trainControl(method=\"cv\", number =10))\n",
    "#     cat(\"ct RG: \", mean(model$results$Accuracy), \"\\n\")\n",
    "#     performance <- rbind(performance, c(performance=mean(model$results$Accuracy), type=\"CT RG\"));\n",
    "\n",
    "#     df <- data.frame(t(all_includect_comp_expr_rg), trait=factor(unlist(joined_pivot[,..trait_index])))\n",
    "#     model <- train( trait ~ ., df[indices,], method=method, trControl = trainControl(method=\"cv\", number =10))\n",
    "#     cat(\"ct RG + comp: \", mean(model$results$Accuracy), \"\\n\")\n",
    "#     performance <- rbind(performance, c(performance=mean(model$results$Accuracy), type=\"CT RG COMP\"));\n",
    "\n",
    "#     df <- data.frame(t(all_expr_cts_pbmc_counts), sledaiscore=sledai[['sledaiscore']])\n",
    "#     model <- train( sledaiscore ~ ., df[disease_indices,], method=\"svmLinear\", trControl = trainControl(method=\"cv\", number =10))\n",
    "#     cat(\"ct DE PBMC COUNTS norm: \", mean(model$results$Rsquared), \"\\n\")\n",
    "\n",
    "#     df <- data.frame(t(all_expr_cts_ifn_pbmc_counts), sledaiscore=sledai[['sledaiscore']])\n",
    "#     model <- train( sledaiscore ~ ., df[disease_indices,], method=\"svmLinear\", trControl = trainControl(method=\"cv\", number =10))\n",
    "#     cat(\"ct IFN PBMC COUNTS norm: \", mean(model$results$Rsquared), \"\\n\")\n",
    "\n",
    "#     df <- data.frame(t(all_expr_cts_var_pbmc_counts), sledaiscore=sledai[['sledaiscore']])\n",
    "#     model <- train( sledaiscore ~ ., df[disease_indices,], method=\"svmLinear\", trControl = trainControl(method=\"cv\", number =10))\n",
    "#     cat(\"ct VAR PBMC COUNTS norm: \", mean(model$results$Rsquared), \"\\n\")\n",
    "    \n",
    "    return(performance)\n",
    "}"
   ]
  },
  {
   "cell_type": "code",
   "execution_count": 56,
   "metadata": {},
   "outputs": [],
   "source": [
    "quantitative_prediction <- function(trait = trait, indices = NULL, method=\"svmLinear\") {\n",
    "    trait_index = match(trait, colnames(joined_pivot))\n",
    "    \n",
    "    if(is.null(indices)) {\n",
    "        indices <- 1:nrow(joined_pivot);\n",
    "    }\n",
    "\n",
    "    performance <- NULL;\n",
    "    \n",
    "    df <- data.frame(as.matrix(comp_lineage), trait=unlist(joined_pivot[,..trait_index]))\n",
    "    model <- train( trait ~ ., df[indices,], method=method, trControl = trainControl(method=\"cv\", number =10))\n",
    "    cat(\"comp_lineage: \", mean(model$results$Rsquared), \"\\n\")\n",
    "    performance <- rbind(performance, c(performance=mean(model$results$Rsquared), type=\"comp_lineage\"));\n",
    "\n",
    "    df <- data.frame(as.matrix(comp), trait=unlist(joined_pivot[,..trait_index]))\n",
    "    model <- train( trait ~ ., df[indices,], method=method, trControl = trainControl(method=\"cv\", number =10))\n",
    "    cat(\"comp: \", mean(model$results$Rsquared), \"\\n\")\n",
    "    performance <- rbind(performance, c(performance=mean(model$results$Rsquared), type=\"comp\"));\n",
    "\n",
    "#     df <- data.frame(as.matrix(comp_all), sledaiscore=joined_pivot$sledaiscore)\n",
    "#     model <- train( sledaiscore ~ ., df[disease_indices,], method=\"svmLinear\", trControl = trainControl(method=\"cv\", number =10))\n",
    "#     cat(\"comp_all: \", mean(model$results$Rsquared), \"\\n\")\n",
    "\n",
    "#     df <- data.frame(as.matrix(leiden), sledaiscore=joined_pivot$sledaiscore)\n",
    "#     model <- train( sledaiscore ~ ., df[disease_indices,], method=\"svmLinear\", trControl = trainControl(method=\"cv\", number =10))\n",
    "#     cat(\"leiden: \", mean(model$results$Rsquared), \"\\n\")\n",
    "\n",
    "#     df <- data.frame(t(pbmc_expr_std[match(deseq_sig_genes,expr_gene_names),]), sledaiscore=joined_pivot$sledaiscore)\n",
    "#     model <- train( sledaiscore ~ ., df[disease_indices,], method=\"svmLinear\", trControl = trainControl(method=\"cv\", number =10))\n",
    "#     cat(\"pbmc DE: \", mean(model$results$Rsquared), \"\\n\")\n",
    "\n",
    "    df <- data.frame(t(pbmc_expr_std[match(ifn_genes_use,expr_gene_names),]), trait=unlist(joined_pivot[,..trait_index]))\n",
    "    model <- train( trait ~ ., df[indices,], method=method, trControl = trainControl(method=\"cv\", number =10))\n",
    "    cat(\"pbmc IFN: \", mean(model$results$Rsquared), \"\\n\")\n",
    "    performance <- rbind(performance, c(performance=mean(model$results$Rsquared), type=\"PBMC IFN\"));\n",
    "\n",
    "#     df <- data.frame(t(pbmc_expr_std[match(pbmc_var_genes,expr_gene_names),]), sledaiscore=joined_pivot$sledaiscore)\n",
    "#     model <- train( sledaiscore ~ ., df[disease_indices,], method=\"svmLinear\", trControl = trainControl(method=\"cv\", number =10))\n",
    "#     cat(\"pbmc VAR: \", mean(model$results$Rsquared), \"\\n\")\n",
    "#     ##sledai_cases <- rbind(sledai_cases, c(performance=mean(model$results$Rsquared), type=\"PBMC Var\"));\n",
    "\n",
    "#     df <- data.frame(t(rbind(pbmc_expr_std[match(deseq_sig_genes,expr_gene_names),], t(comp))), sledaiscore=joined_pivot$sledaiscore)\n",
    "#     model <- train( sledaiscore ~ ., df[disease_indices,], method=\"svmLinear\", trControl = trainControl(method=\"cv\", number =10))\n",
    "#     cat(\"pbmc DE + comp: \", mean(model$results$Rsquared), \"\\n\")\n",
    "\n",
    "#     df <- data.frame(t(rbind(pbmc_expr_std[match(ifn_genes_use,expr_gene_names),], t(comp))), sledaiscore=joined_pivot$sledaiscore)\n",
    "#     model <- train( sledaiscore ~ ., df[disease_indices,], method=\"svmLinear\", trControl = trainControl(method=\"cv\", number =10))\n",
    "#     cat(\"pbmc IFN + comp: \", mean(model$results$Rsquared), \"\\n\")\n",
    "#     ##sledai_cases <- rbind(sledai_cases, c(performance=mean(model$results$Rsquared), type=\"PBMC IFN Comp\"));\n",
    "\n",
    "#     df <- data.frame(t(rbind(pbmc_expr_std[match(pbmc_var_genes,expr_gene_names),], t(comp))), sledaiscore=joined_pivot$sledaiscore)\n",
    "#     model <- train( sledaiscore ~ ., df[disease_indices,], method=\"svmLinear\", trControl = trainControl(method=\"cv\", number =10))\n",
    "#     cat(\"pbmc VAR + comp: \", mean(model$results$Rsquared), \"\\n\")\n",
    "#     ##sledai_cases <- rbind(sledai_cases, c(performance=mean(model$results$Rsquared), type=\"PBMC Var Comp\"));\n",
    "\n",
    "#     df <- data.frame(t(all_expr_cts), sledaiscore=sledai[['sledaiscore']])\n",
    "#     model <- train( sledaiscore ~ ., df[disease_indices,], method=\"svmLinear\", trControl = trainControl(method=\"cv\", number =10))\n",
    "#     cat(\"ct DE: \", mean(model$results$Rsquared), \"\\n\")\n",
    "\n",
    "#     df <- data.frame(t(all_expr_cts_ifn), sledaiscore=sledai[['sledaiscore']])\n",
    "#     model <- train( sledaiscore ~ ., df[disease_indices,], method=\"svmLinear\", trControl = trainControl(method=\"cv\", number =10))\n",
    "#     cat(\"ct IFN: \", mean(model$results$Rsquared), \"\\n\")\n",
    "#     ##sledai_cases <- rbind(sledai_cases, c(performance=mean(model$results$Rsquared), type=\"CT IFN\"));\n",
    "\n",
    "    df <- data.frame(t(all_expr_cts_var), trait=unlist(joined_pivot[,..trait_index]))\n",
    "    model <- train( trait ~ ., df[indices,], method=method, trControl = trainControl(method=\"cv\", number =10))\n",
    "    cat(\"ct VAR: \", mean(model$results$Rsquared), \"\\n\")\n",
    "    performance <- rbind(performance, c(performance=mean(model$results$Rsquared), type=\"CT VAR\"));\n",
    "\n",
    "#     df <- data.frame(t(all_includect_comp_expr), sledaiscore=sledai[['sledaiscore']])\n",
    "#     model <- train( sledaiscore ~ ., df[disease_indices,], method=\"svmLinear\", trControl = trainControl(method=\"cv\", number =10))\n",
    "#     cat(\"ct DE + comp: \", mean(model$results$Rsquared), \"\\n\")\n",
    "\n",
    "#     df <- data.frame(t(all_includect_comp_expr_ifn), sledaiscore=sledai[['sledaiscore']])\n",
    "#     model <- train( sledaiscore ~ ., df[disease_indices,], method=\"svmLinear\", trControl = trainControl(method=\"cv\", number =10))\n",
    "#     cat(\"ct IFN + comp: \", mean(model$results$Rsquared), \"\\n\")\n",
    "#     ##sledai_cases <- rbind(sledai_cases, c(performance=mean(model$results$Rsquared), type=\"CT IFN Comp\"));\n",
    "\n",
    "    df <- data.frame(t(all_includect_comp_expr_var), trait=unlist(joined_pivot[,..trait_index]))\n",
    "    ##print(dim(df));\n",
    "    model <- train( trait ~ ., df[indices,], method=method, trControl = trainControl(method=\"cv\", number =10))\n",
    "    cat(\"ct VAR + comp: \", mean(model$results$Rsquared), \"\\n\")\n",
    "    performance <- rbind(performance, c(performance=mean(model$results$Rsquared), type=\"CT VAR COMP\"));\n",
    "    \n",
    "    \n",
    "#     df <- data.frame(t(all_expr_cts_rg), trait=unlist(joined_pivot[,..trait_index]))\n",
    "#     ##print(dim(df))\n",
    "#     ##print(df)\n",
    "#     model <- train( trait ~ ., df[indices,], method=method, trControl = trainControl(method=\"cv\", number =10))\n",
    "#     ##print(\"here i am\\n\")\n",
    "#     cat(\"ct RG: \", mean(model$results$Rsquared), \"\\n\")\n",
    "#     performance <- rbind(performance, c(performance=mean(model$results$Rsquared), type=\"CT RG\"));\n",
    "    \n",
    "#     df <- data.frame(t(all_includect_comp_expr_rg), trait=unlist(joined_pivot[,..trait_index]))\n",
    "#     model <- train( trait ~ ., df[indices,], method=method, trControl = trainControl(method=\"cv\", number =10))\n",
    "#     cat(\"ct RG + comp: \", mean(model$results$Rsquared), \"\\n\")\n",
    "#     performance <- rbind(performance, c(performance=mean(model$results$Rsquared), type=\"CT RG COMP\"));\n",
    "\n",
    "\n",
    "#     df <- data.frame(t(all_expr_cts_pbmc_counts), sledaiscore=sledai[['sledaiscore']])\n",
    "#     model <- train( sledaiscore ~ ., df[disease_indices,], method=\"svmLinear\", trControl = trainControl(method=\"cv\", number =10))\n",
    "#     cat(\"ct DE PBMC COUNTS norm: \", mean(model$results$Rsquared), \"\\n\")\n",
    "\n",
    "#     df <- data.frame(t(all_expr_cts_ifn_pbmc_counts), sledaiscore=sledai[['sledaiscore']])\n",
    "#     model <- train( sledaiscore ~ ., df[disease_indices,], method=\"svmLinear\", trControl = trainControl(method=\"cv\", number =10))\n",
    "#     cat(\"ct IFN PBMC COUNTS norm: \", mean(model$results$Rsquared), \"\\n\")\n",
    "\n",
    "#     df <- data.frame(t(all_expr_cts_var_pbmc_counts), sledaiscore=sledai[['sledaiscore']])\n",
    "#     model <- train( sledaiscore ~ ., df[disease_indices,], method=\"svmLinear\", trControl = trainControl(method=\"cv\", number =10))\n",
    "#     cat(\"ct VAR PBMC COUNTS norm: \", mean(model$results$Rsquared), \"\\n\")\n",
    "    \n",
    "    return(performance)\n",
    "}"
   ]
  },
  {
   "cell_type": "markdown",
   "metadata": {},
   "source": [
    "## Predicting cases and controls together"
   ]
  },
  {
   "cell_type": "code",
   "execution_count": 57,
   "metadata": {},
   "outputs": [
    {
     "name": "stdout",
     "output_type": "stream",
     "text": [
      "comp_lineage:  0.7637427 \n",
      "comp:  0.9251137 \n",
      "pbmc IFN:  0.9494324 \n",
      "ct VAR:  0.9720923 \n",
      "ct VAR + comp:  0.9765107 \n"
     ]
    }
   ],
   "source": [
    "disease_performance <- qualitative_prediction(trait=\"disease_cov\", method=\"glmnet\")"
   ]
  },
  {
   "cell_type": "code",
   "execution_count": 58,
   "metadata": {},
   "outputs": [
    {
     "name": "stdout",
     "output_type": "stream",
     "text": [
      "comp_lineage:  0.7659787 \n",
      "comp:  0.902924 \n",
      "pbmc IFN:  0.945614 \n",
      "ct VAR:  0.9947368 \n",
      "ct VAR + comp:  1 \n"
     ]
    }
   ],
   "source": [
    "disease_svm_performance <- qualitative_prediction(trait=\"disease_cov\", method=\"svmLinear\")"
   ]
  },
  {
   "cell_type": "code",
   "execution_count": 59,
   "metadata": {},
   "outputs": [
    {
     "name": "stdout",
     "output_type": "stream",
     "text": [
      "comp_lineage:  0.1296107 \n",
      "comp:  0.2973369 \n",
      "pbmc IFN:  0.3045657 \n",
      "ct VAR:  0.3508777 \n",
      "ct VAR + comp:  0.3383548 \n"
     ]
    }
   ],
   "source": [
    "sledai_all_performance_glmnet <- quantitative_prediction(trait=\"sledaiscore\", method=\"glmnet\")"
   ]
  },
  {
   "cell_type": "markdown",
   "metadata": {},
   "source": [
    "## Predicting cases only outcomes"
   ]
  },
  {
   "cell_type": "code",
   "execution_count": 60,
   "metadata": {},
   "outputs": [
    {
     "name": "stdout",
     "output_type": "stream",
     "text": [
      "comp_lineage:  0.08856692 \n",
      "comp:  0.1703633 \n",
      "pbmc IFN:  0.1708193 \n",
      "ct VAR:  0.226488 \n",
      "ct VAR + comp:  0.2256056 \n",
      "comp_lineage:  0.1280312 \n",
      "comp:  0.2156124 \n",
      "pbmc IFN:  0.2285741 \n",
      "ct VAR:  0.1756562 \n",
      "ct VAR + comp:  0.2302227 \n"
     ]
    }
   ],
   "source": [
    "disease_indices <- which(joined_pivot$disease_cov == \"sle\");\n",
    "\n",
    "sledaiscore_performance <- quantitative_prediction(trait=\"sledaiscore\", indices=disease_indices, method=\"glmnet\")\n",
    "sledaiscore_svm_performance <- quantitative_prediction(trait=\"sledaiscore\", indices=disease_indices, method=\"svmLinear\")\n"
   ]
  },
  {
   "cell_type": "code",
   "execution_count": 61,
   "metadata": {},
   "outputs": [],
   "source": [
    "# disease_indices <- which(joined_pivot$disease_cov == \"sle\");\n",
    "\n",
    "# acrlymphopenia_performance <- qualitative_prediction(trait=\"acrlymphopenia\", indices=disease_indices)"
   ]
  },
  {
   "cell_type": "code",
   "execution_count": 62,
   "metadata": {},
   "outputs": [],
   "source": [
    "# disease_indices <- which(joined_pivot$disease_cov == \"sle\");\n",
    "\n",
    "# joined_pivot$mono_rat <- joined_pivot$AbsMono/(joined_pivot$AbsMono+joined_pivot$AbsLympho);\n",
    "# mono_rat_performance <- quantitative_prediction(trait=\"mono_rat\", indices=disease_indices)"
   ]
  },
  {
   "cell_type": "code",
   "execution_count": 63,
   "metadata": {},
   "outputs": [],
   "source": [
    "# disease_indices <- which(joined_pivot$disease_cov == \"sle\");\n",
    "# pbmc_indices <- which(joined_pivot$pbmc > 0);\n",
    "# all_indices <- intersect(disease_indices, pbmc_indices)\n",
    "\n",
    "# plot(comp_lineage$mye[all_indices], (joined_pivot$AbsMono/(joined_pivot$AbsMono+joined_pivot$AbsLympho))[all_indices],use='complete.obs')"
   ]
  },
  {
   "cell_type": "code",
   "execution_count": 64,
   "metadata": {},
   "outputs": [
    {
     "name": "stdout",
     "output_type": "stream",
     "text": [
      "comp_lineage:  0.6551884 \n",
      "comp:  0.684602 \n",
      "pbmc IFN:  0.4547032 \n",
      "ct VAR:  0.1842623 \n",
      "ct VAR + comp:  0.4913739 \n",
      "comp_lineage:  0.6968396 \n",
      "comp:  0.6794413 \n",
      "pbmc IFN:  0.3823821 \n",
      "ct VAR:  0.2866344 \n",
      "ct VAR + comp:  0.3750724 \n"
     ]
    }
   ],
   "source": [
    "disease_indices <- which(joined_pivot$disease_cov == \"sle\");\n",
    "pbmc_indices <- which(joined_pivot$pbmc > 0);\n",
    "##mono_indices <- which(joined_pivot$mono > 0.1);\n",
    "\n",
    "joined_pivot$mono_rat <- joined_pivot$AbsMono/(joined_pivot$AbsMono+joined_pivot$AbsLympho);\n",
    "mono_rat_performance <- quantitative_prediction(trait=\"mono_rat\", indices=intersect(disease_indices,pbmc_indices),method=\"glmnet\")\n",
    "mono_rat_svm_performance <- quantitative_prediction(trait=\"mono_rat\", indices=intersect(disease_indices,pbmc_indices),method=\"svmLinear\")"
   ]
  },
  {
   "cell_type": "code",
   "execution_count": 65,
   "metadata": {},
   "outputs": [
    {
     "name": "stdout",
     "output_type": "stream",
     "text": [
      "comp_lineage:  0.05709544 \n",
      "comp:  0.181166 \n",
      "pbmc IFN:  0.154115 \n",
      "ct VAR:  0.1929533 \n",
      "ct VAR + comp:  0.2169685 \n"
     ]
    }
   ],
   "source": [
    "disease_indices <- which(joined_pivot$disease_cov == \"sle\");\n",
    "\n",
    "anatiter1_performance <- quantitative_prediction(trait=\"ANATiter1\", indices=disease_indices)"
   ]
  },
  {
   "cell_type": "code",
   "execution_count": 66,
   "metadata": {},
   "outputs": [
    {
     "name": "stderr",
     "output_type": "stream",
     "text": [
      "Warning message in nominalTrainWorkflow(x = x, y = y, wts = weights, info = trainInfo, :\n",
      "“There were missing values in resampled performance measures.”"
     ]
    },
    {
     "name": "stdout",
     "output_type": "stream",
     "text": [
      "comp_lineage:  0.07772526 \n",
      "comp:  0.1073319 \n",
      "pbmc IFN:  0.09850159 \n",
      "ct VAR:  0.08692959 \n",
      "ct VAR + comp:  0.09480087 \n"
     ]
    }
   ],
   "source": [
    "disease_indices <- which(joined_pivot$disease_cov == \"sle\");\n",
    "\n",
    "c3num_performance <- quantitative_prediction(trait=\"C3Num\", indices=disease_indices, method='glmnet')"
   ]
  },
  {
   "cell_type": "code",
   "execution_count": 67,
   "metadata": {},
   "outputs": [
    {
     "name": "stdout",
     "output_type": "stream",
     "text": [
      "comp_lineage:  0.06634834 \n",
      "comp:  0.09082395 \n",
      "pbmc IFN:  0.06460082 \n",
      "ct VAR:  0.1072241 \n",
      "ct VAR + comp:  0.0949784 \n"
     ]
    }
   ],
   "source": [
    "disease_indices <- which(joined_pivot$disease_cov == \"sle\");\n",
    "\n",
    "procreatratio_performance <- quantitative_prediction(trait=\"ProCreatRatio\", indices=disease_indices, method='glmnet')"
   ]
  },
  {
   "cell_type": "code",
   "execution_count": 68,
   "metadata": {
    "scrolled": true
   },
   "outputs": [
    {
     "name": "stdout",
     "output_type": "stream",
     "text": [
      "comp_lineage:  0.1125058 \n",
      "comp:  0.1295673 \n",
      "pbmc IFN:  0.2094772 \n"
     ]
    },
    {
     "name": "stderr",
     "output_type": "stream",
     "text": [
      "Warning message in nominalTrainWorkflow(x = x, y = y, wts = weights, info = trainInfo, :\n",
      "“There were missing values in resampled performance measures.”"
     ]
    },
    {
     "name": "stdout",
     "output_type": "stream",
     "text": [
      "ct VAR:  0.1651358 \n"
     ]
    },
    {
     "name": "stderr",
     "output_type": "stream",
     "text": [
      "Warning message in nominalTrainWorkflow(x = x, y = y, wts = weights, info = trainInfo, :\n",
      "“There were missing values in resampled performance measures.”"
     ]
    },
    {
     "name": "stdout",
     "output_type": "stream",
     "text": [
      "ct VAR + comp:  0.1699882 \n"
     ]
    }
   ],
   "source": [
    "disease_indices <- which(joined_pivot$disease_cov == \"sle\");\n",
    "\n",
    "antidsdnanum_performance <- quantitative_prediction(trait=\"antidsDNANum\", indices=disease_indices, method='glmnet')"
   ]
  },
  {
   "cell_type": "code",
   "execution_count": 69,
   "metadata": {},
   "outputs": [
    {
     "name": "stdout",
     "output_type": "stream",
     "text": [
      "comp_lineage:  0.5567275 \n",
      "comp:  0.5506022 \n",
      "pbmc IFN:  0.5998511 \n",
      "ct VAR:  0.5978114 \n",
      "ct VAR + comp:  0.6498316 \n"
     ]
    }
   ],
   "source": [
    "disease_indices <- which(joined_pivot$disease_cov == \"sle\");\n",
    "\n",
    "acrlupneph_performance <- qualitative_prediction(trait=\"acrlupneph\", indices=disease_indices, method='glmnet')"
   ]
  },
  {
   "cell_type": "code",
   "execution_count": 70,
   "metadata": {},
   "outputs": [
    {
     "data": {
      "text/html": [
       "33"
      ],
      "text/latex": [
       "33"
      ],
      "text/markdown": [
       "33"
      ],
      "text/plain": [
       "[1] 33"
      ]
     },
     "metadata": {},
     "output_type": "display_data"
    },
    {
     "data": {
      "text/html": [
       "49"
      ],
      "text/latex": [
       "49"
      ],
      "text/markdown": [
       "49"
      ],
      "text/plain": [
       "[1] 49"
      ]
     },
     "metadata": {},
     "output_type": "display_data"
    },
    {
     "data": {
      "text/html": [
       "15"
      ],
      "text/latex": [
       "15"
      ],
      "text/markdown": [
       "15"
      ],
      "text/plain": [
       "[1] 15"
      ]
     },
     "metadata": {},
     "output_type": "display_data"
    },
    {
     "data": {
      "text/html": [
       "8"
      ],
      "text/latex": [
       "8"
      ],
      "text/markdown": [
       "8"
      ],
      "text/plain": [
       "[1] 8"
      ]
     },
     "metadata": {},
     "output_type": "display_data"
    }
   ],
   "source": [
    "sum(joined_pivot$sledailowcomp)\n",
    "sum(joined_pivot$sledaiantidsdna)\n",
    "sum(joined_pivot$sledairash)\n",
    "sum(joined_pivot$sledaimucosalulcers)"
   ]
  },
  {
   "cell_type": "code",
   "execution_count": 71,
   "metadata": {},
   "outputs": [
    {
     "name": "stdout",
     "output_type": "stream",
     "text": [
      "comp_lineage:  0.1127303 \n",
      "comp:  0.1209707 \n",
      "pbmc IFN:  0.08618067 \n",
      "ct VAR:  0.09800506 \n",
      "ct VAR + comp:  0.08433678 \n"
     ]
    }
   ],
   "source": [
    "disease_indices <- which(joined_pivot$disease_cov == \"sle\");\n",
    "\n",
    "sledactivity_performance <- quantitative_prediction(trait=\"sleactivity\", indices=disease_indices, method='glmnet')"
   ]
  },
  {
   "cell_type": "code",
   "execution_count": 72,
   "metadata": {},
   "outputs": [
    {
     "name": "stdout",
     "output_type": "stream",
     "text": [
      "comp_lineage:  0.05751714 \n",
      "comp:  0.1059567 \n",
      "pbmc IFN:  0.1469466 \n",
      "ct VAR:  0.06134808 \n",
      "ct VAR + comp:  0.09571858 \n"
     ]
    }
   ],
   "source": [
    "disease_indices <- which(joined_pivot$disease_cov == \"sle\");\n",
    "\n",
    "agedx_performance <- quantitative_prediction(trait=\"agedx\", indices=disease_indices)"
   ]
  },
  {
   "cell_type": "code",
   "execution_count": 73,
   "metadata": {},
   "outputs": [
    {
     "name": "stdout",
     "output_type": "stream",
     "text": [
      "comp_lineage:  0.4983748 \n",
      "comp:  0.507893 \n",
      "pbmc IFN:  0.5254015 \n",
      "ct VAR:  0.5995791 \n",
      "ct VAR + comp:  0.6008547 \n",
      "comp_lineage:  0.5251166 \n",
      "comp:  0.4499417 \n",
      "pbmc IFN:  0.4560023 \n",
      "ct VAR:  0.6380536 \n",
      "ct VAR + comp:  0.6469114 \n"
     ]
    }
   ],
   "source": [
    "disease_indices <- which(joined_pivot$disease_cov == \"sle\");\n",
    "\n",
    "kidney_performance <- qualitative_prediction(trait=\"kidney\", indices=disease_indices, method='glmnet')\n",
    "kidney_svm_performance <- qualitative_prediction(trait=\"kidney\", indices=disease_indices, method='svmLinear')"
   ]
  },
  {
   "cell_type": "code",
   "execution_count": 96,
   "metadata": {},
   "outputs": [
    {
     "name": "stdout",
     "output_type": "stream",
     "text": [
      "comp_lineage:  0.5765152 \n",
      "comp:  0.5959596 \n",
      "pbmc IFN:  0.5868687 \n",
      "ct VAR:  0.6043771 \n",
      "ct VAR + comp:  0.6158249 \n",
      "comp_lineage:  0.5848485 \n",
      "comp:  0.6 \n",
      "pbmc IFN:  0.6371212 \n",
      "ct VAR:  0.5766667 \n",
      "ct VAR + comp:  0.5590909 \n"
     ]
    }
   ],
   "source": [
    "disease_indices <- which(joined_pivot$disease_cov == \"sle\");\n",
    "\n",
    "sledaiantidsdna_performance <- qualitative_prediction(trait=\"sledaiantidsdna\", indices=disease_indices, method='glmnet')\n",
    "sledaiantidsdna_svm_performance <- qualitative_prediction(trait=\"sledaiantidsdna\", indices=disease_indices, method='svmLinear')"
   ]
  },
  {
   "cell_type": "code",
   "execution_count": 75,
   "metadata": {},
   "outputs": [],
   "source": [
    "# disease_indices <- which(joined_pivot$disease_cov == \"sle\");\n",
    "\n",
    "# sledaileukopenia_performance <- qualitative_prediction(trait=\"sledaileukopenia\", indices=disease_indices)"
   ]
  },
  {
   "cell_type": "code",
   "execution_count": 95,
   "metadata": {},
   "outputs": [
    {
     "name": "stdout",
     "output_type": "stream",
     "text": [
      "comp_lineage:  0.7210373 \n",
      "comp:  0.712568 \n",
      "pbmc IFN:  0.6587801 \n",
      "ct VAR:  0.6728438 \n",
      "ct VAR + comp:  0.6471704 \n",
      "comp_lineage:  0.7210373 \n",
      "comp:  0.7036131 \n",
      "pbmc IFN:  0.662296 \n",
      "ct VAR:  0.6954545 \n",
      "ct VAR + comp:  0.6350233 \n"
     ]
    }
   ],
   "source": [
    "disease_indices <- which(joined_pivot$disease_cov == \"sle\");\n",
    "\n",
    "sledailowcomp_performance <- qualitative_prediction(trait=\"sledailowcomp\", indices=disease_indices, method='glmnet')\n",
    "sledailowcomp_svm_performance <- qualitative_prediction(trait=\"sledailowcomp\", indices=disease_indices, method='svmLinear')"
   ]
  },
  {
   "cell_type": "code",
   "execution_count": 77,
   "metadata": {},
   "outputs": [
    {
     "name": "stdout",
     "output_type": "stream",
     "text": [
      "comp_lineage:  0.8745338 \n",
      "comp:  0.8659674 \n"
     ]
    },
    {
     "name": "stderr",
     "output_type": "stream",
     "text": [
      "Warning message:\n",
      "“from glmnet Fortran code (error code -81); Convergence for 81th lambda value not reached after maxit=100000 iterations; solutions for larger lambdas returned”"
     ]
    },
    {
     "name": "stdout",
     "output_type": "stream",
     "text": [
      "pbmc IFN:  0.8089096 \n",
      "ct VAR:  0.8731546 \n",
      "ct VAR + comp:  0.8781145 \n",
      "comp_lineage:  0.8740093 \n",
      "comp:  0.8745338 \n",
      "pbmc IFN:  0.856352 \n",
      "ct VAR:  0.8740093 \n",
      "ct VAR + comp:  0.8842657 \n"
     ]
    }
   ],
   "source": [
    "disease_indices <- which(joined_pivot$disease_cov == \"sle\");\n",
    "\n",
    "sledairash_performance <- qualitative_prediction(trait=\"sledairash\", indices=disease_indices, method='glmnet')\n",
    "sledairash_svm_performance <- qualitative_prediction(trait=\"sledairash\", indices=disease_indices, method='svmLinear')"
   ]
  },
  {
   "cell_type": "code",
   "execution_count": 84,
   "metadata": {},
   "outputs": [
    {
     "data": {
      "text/html": [
       "8"
      ],
      "text/latex": [
       "8"
      ],
      "text/markdown": [
       "8"
      ],
      "text/plain": [
       "[1] 8"
      ]
     },
     "metadata": {},
     "output_type": "display_data"
    }
   ],
   "source": [
    "sum(joined_pivot$cancer)"
   ]
  },
  {
   "cell_type": "code",
   "execution_count": 82,
   "metadata": {
    "scrolled": false
   },
   "outputs": [
    {
     "name": "stderr",
     "output_type": "stream",
     "text": [
      "Warning message in nominalTrainWorkflow(x = x, y = y, wts = weights, info = trainInfo, :\n",
      "“There were missing values in resampled performance measures.”"
     ]
    },
    {
     "name": "stdout",
     "output_type": "stream",
     "text": [
      "comp_lineage:  0.9333333 \n"
     ]
    },
    {
     "name": "stderr",
     "output_type": "stream",
     "text": [
      "Warning message in nominalTrainWorkflow(x = x, y = y, wts = weights, info = trainInfo, :\n",
      "“There were missing values in resampled performance measures.”"
     ]
    },
    {
     "name": "stdout",
     "output_type": "stream",
     "text": [
      "comp:  0.9333333 \n"
     ]
    },
    {
     "name": "stderr",
     "output_type": "stream",
     "text": [
      "Warning message in nominalTrainWorkflow(x = x, y = y, wts = weights, info = trainInfo, :\n",
      "“There were missing values in resampled performance measures.”"
     ]
    },
    {
     "name": "stdout",
     "output_type": "stream",
     "text": [
      "pbmc IFN:  0.925 \n"
     ]
    },
    {
     "name": "stderr",
     "output_type": "stream",
     "text": [
      "Warning message in nominalTrainWorkflow(x = x, y = y, wts = weights, info = trainInfo, :\n",
      "“There were missing values in resampled performance measures.”"
     ]
    },
    {
     "name": "stdout",
     "output_type": "stream",
     "text": [
      "ct VAR:  0.9333333 \n"
     ]
    },
    {
     "name": "stderr",
     "output_type": "stream",
     "text": [
      "Warning message in nominalTrainWorkflow(x = x, y = y, wts = weights, info = trainInfo, :\n",
      "“There were missing values in resampled performance measures.”"
     ]
    },
    {
     "name": "stdout",
     "output_type": "stream",
     "text": [
      "ct VAR + comp:  0.9333333 \n"
     ]
    }
   ],
   "source": [
    "disease_indices <- which(joined_pivot$disease_cov == \"sle\");\n",
    "\n",
    "##cancer_performance <- qualitative_prediction(trait=\"cancer\", indices=disease_indices, method='glmnet')\n",
    "cancer_svm_performance <- qualitative_prediction(trait=\"cancer\", indices=disease_indices, method='svmLinear')"
   ]
  },
  {
   "cell_type": "code",
   "execution_count": 85,
   "metadata": {},
   "outputs": [],
   "source": [
    "# disease_indices <- which(joined_pivot$disease_cov == \"sle\");\n",
    "\n",
    "# sledaimucosalulcers_performance <- qualitative_prediction(trait=\"sledaimucosalulcers\", indices=disease_indices)"
   ]
  },
  {
   "cell_type": "code",
   "execution_count": 86,
   "metadata": {},
   "outputs": [],
   "source": [
    "# disease_indices <- which(joined_pivot$disease_cov == \"sle\");\n",
    "\n",
    "# sledaipyuria_performance <- qualitative_prediction(trait=\"sledaipyuria\", indices=disease_indices)"
   ]
  },
  {
   "cell_type": "code",
   "execution_count": 87,
   "metadata": {},
   "outputs": [],
   "source": [
    "# disease_indices <- which(joined_pivot$disease_cov == \"sle\");\n",
    "\n",
    "# sledaiproteinuria_performance <- qualitative_prediction(trait=\"sledaiproteinuria\", indices=disease_indices)"
   ]
  },
  {
   "cell_type": "code",
   "execution_count": 88,
   "metadata": {},
   "outputs": [],
   "source": [
    "df <- rbind(data.frame(disease_performance, trait=\"disease_status\"),\n",
    "                 data.frame(sledaiscore_performance, trait=\"sledai_cases\"),\n",
    "                 data.frame(mono_rat_performance, trait=\"mono_rat\"),\n",
    "                 data.frame(sledailowcomp_performance, trait=\"sledailowcomp\"),\n",
    "                data.frame(sledaiantidsdna_performance, trait=\"sledaiantidsdna\"),\n",
    "                data.frame(sledairash_performance, trait=\"sledairash\"),\n",
    "                data.frame(kidney_performance, trait=\"kidney\"))\n",
    "\n",
    "df_svm <- rbind(data.frame(disease_svm_performance, trait=\"disease_status\"),\n",
    "                 data.frame(sledaiscore_svm_performance, trait=\"sledai_cases\"),\n",
    "                 data.frame(mono_rat_svm_performance, trait=\"mono_rat\"),\n",
    "                 data.frame(sledailowcomp_svm_performance, trait=\"sledailowcomp\"),\n",
    "                data.frame(sledaiantidsdna_svm_performance, trait=\"sledaiantidsdna\"),\n",
    "                data.frame(sledairash_svm_performance, trait=\"sledairash\"),\n",
    "                data.frame(kidney_svm_performance, trait=\"kidney\"))\n"
   ]
  },
  {
   "cell_type": "code",
   "execution_count": 89,
   "metadata": {
    "scrolled": false
   },
   "outputs": [
    {
     "data": {
      "image/png": "[encoded data removed]",
      "text/plain": [
       "plot without title"
      ]
     },
     "metadata": {},
     "output_type": "display_data"
    }
   ],
   "source": [
    "options(repr.plot.width = 6, repr.plot.height = 6, repr.plot.res=80)\n",
    "\n",
    "df$performance <- as.numeric(as.character(df$performance));\n",
    "df$type <- factor(df$type, levels=c(\"comp_lineage\",\"comp\", \"PBMC IFN\", \"CT VAR\", \"CT VAR COMP\"))\n",
    "df$trait <- factor(df$trait, levels=c(\"disease_status\",\"mono_rat\", \"sledairash\", \"sledaiantidsdna\", \"sledailowcomp\", \"sledai_cases\", \"kidney\"))\n",
    "\n",
    "ggplot(aes(x=trait, y=as.numeric(as.character(performance)), fill=type),data=df)+geom_bar(stat=\"identity\",position=position_dodge())+coord_flip()\n",
    "ggsave(\"performance_glmnet.png\",height=6,width=6)"
   ]
  },
  {
   "cell_type": "code",
   "execution_count": 90,
   "metadata": {},
   "outputs": [
    {
     "data": {
      "text/html": [
       "<table>\n",
       "<thead><tr><th scope=col>performance</th><th scope=col>type</th><th scope=col>trait</th></tr></thead>\n",
       "<tbody>\n",
       "\t<tr><td>0.76374269     </td><td>comp_lineage   </td><td>disease_status </td></tr>\n",
       "\t<tr><td>0.92511371     </td><td>comp           </td><td>disease_status </td></tr>\n",
       "\t<tr><td>0.94943240     </td><td>PBMC IFN       </td><td>disease_status </td></tr>\n",
       "\t<tr><td>0.97209227     </td><td>CT VAR         </td><td>disease_status </td></tr>\n",
       "\t<tr><td>0.97651072     </td><td>CT VAR COMP    </td><td>disease_status </td></tr>\n",
       "\t<tr><td>0.08856692     </td><td>comp_lineage   </td><td>sledai_cases   </td></tr>\n",
       "\t<tr><td>0.17036333     </td><td>comp           </td><td>sledai_cases   </td></tr>\n",
       "\t<tr><td>0.17081929     </td><td>PBMC IFN       </td><td>sledai_cases   </td></tr>\n",
       "\t<tr><td>0.22648803     </td><td>CT VAR         </td><td>sledai_cases   </td></tr>\n",
       "\t<tr><td>0.22560557     </td><td>CT VAR COMP    </td><td>sledai_cases   </td></tr>\n",
       "\t<tr><td>0.65518844     </td><td>comp_lineage   </td><td>mono_rat       </td></tr>\n",
       "\t<tr><td>0.68460201     </td><td>comp           </td><td>mono_rat       </td></tr>\n",
       "\t<tr><td>0.45470319     </td><td>PBMC IFN       </td><td>mono_rat       </td></tr>\n",
       "\t<tr><td>0.18426227     </td><td>CT VAR         </td><td>mono_rat       </td></tr>\n",
       "\t<tr><td>0.49137386     </td><td>CT VAR COMP    </td><td>mono_rat       </td></tr>\n",
       "\t<tr><td>0.72074592     </td><td>comp_lineage   </td><td>sledailowcomp  </td></tr>\n",
       "\t<tr><td>0.72638565     </td><td>comp           </td><td>sledailowcomp  </td></tr>\n",
       "\t<tr><td>0.70008418     </td><td>PBMC IFN       </td><td>sledailowcomp  </td></tr>\n",
       "\t<tr><td>0.69014504     </td><td>CT VAR         </td><td>sledailowcomp  </td></tr>\n",
       "\t<tr><td>0.66530692     </td><td>CT VAR COMP    </td><td>sledailowcomp  </td></tr>\n",
       "\t<tr><td>0.57651515     </td><td>comp_lineage   </td><td>sledaiantidsdna</td></tr>\n",
       "\t<tr><td>0.61287879     </td><td>comp           </td><td>sledaiantidsdna</td></tr>\n",
       "\t<tr><td>0.61129630     </td><td>PBMC IFN       </td><td>sledaiantidsdna</td></tr>\n",
       "\t<tr><td>0.60202020     </td><td>CT VAR         </td><td>sledaiantidsdna</td></tr>\n",
       "\t<tr><td>0.59301347     </td><td>CT VAR COMP    </td><td>sledaiantidsdna</td></tr>\n",
       "\t<tr><td>0.87453380     </td><td>comp_lineage   </td><td>sledairash     </td></tr>\n",
       "\t<tr><td>0.86596737     </td><td>comp           </td><td>sledairash     </td></tr>\n",
       "\t<tr><td>0.80890961     </td><td>PBMC IFN       </td><td>sledairash     </td></tr>\n",
       "\t<tr><td>0.87315462     </td><td>CT VAR         </td><td>sledairash     </td></tr>\n",
       "\t<tr><td>0.87811448     </td><td>CT VAR COMP    </td><td>sledairash     </td></tr>\n",
       "\t<tr><td>0.49837477     </td><td>comp_lineage   </td><td>kidney         </td></tr>\n",
       "\t<tr><td>0.50789303     </td><td>comp           </td><td>kidney         </td></tr>\n",
       "\t<tr><td>0.52540145     </td><td>PBMC IFN       </td><td>kidney         </td></tr>\n",
       "\t<tr><td>0.59957912     </td><td>CT VAR         </td><td>kidney         </td></tr>\n",
       "\t<tr><td>0.60085470     </td><td>CT VAR COMP    </td><td>kidney         </td></tr>\n",
       "</tbody>\n",
       "</table>\n"
      ],
      "text/latex": [
       "\\begin{tabular}{r|lll}\n",
       " performance & type & trait\\\\\n",
       "\\hline\n",
       "\t 0.76374269        & comp\\_lineage    & disease\\_status \\\\\n",
       "\t 0.92511371        & comp              & disease\\_status \\\\\n",
       "\t 0.94943240        & PBMC IFN          & disease\\_status \\\\\n",
       "\t 0.97209227        & CT VAR            & disease\\_status \\\\\n",
       "\t 0.97651072        & CT VAR COMP       & disease\\_status \\\\\n",
       "\t 0.08856692        & comp\\_lineage    & sledai\\_cases   \\\\\n",
       "\t 0.17036333        & comp              & sledai\\_cases   \\\\\n",
       "\t 0.17081929        & PBMC IFN          & sledai\\_cases   \\\\\n",
       "\t 0.22648803        & CT VAR            & sledai\\_cases   \\\\\n",
       "\t 0.22560557        & CT VAR COMP       & sledai\\_cases   \\\\\n",
       "\t 0.65518844        & comp\\_lineage    & mono\\_rat       \\\\\n",
       "\t 0.68460201        & comp              & mono\\_rat       \\\\\n",
       "\t 0.45470319        & PBMC IFN          & mono\\_rat       \\\\\n",
       "\t 0.18426227        & CT VAR            & mono\\_rat       \\\\\n",
       "\t 0.49137386        & CT VAR COMP       & mono\\_rat       \\\\\n",
       "\t 0.72074592      & comp\\_lineage  & sledailowcomp  \\\\\n",
       "\t 0.72638565      & comp            & sledailowcomp  \\\\\n",
       "\t 0.70008418      & PBMC IFN        & sledailowcomp  \\\\\n",
       "\t 0.69014504      & CT VAR          & sledailowcomp  \\\\\n",
       "\t 0.66530692      & CT VAR COMP     & sledailowcomp  \\\\\n",
       "\t 0.57651515      & comp\\_lineage  & sledaiantidsdna\\\\\n",
       "\t 0.61287879      & comp            & sledaiantidsdna\\\\\n",
       "\t 0.61129630      & PBMC IFN        & sledaiantidsdna\\\\\n",
       "\t 0.60202020      & CT VAR          & sledaiantidsdna\\\\\n",
       "\t 0.59301347      & CT VAR COMP     & sledaiantidsdna\\\\\n",
       "\t 0.87453380      & comp\\_lineage  & sledairash     \\\\\n",
       "\t 0.86596737      & comp            & sledairash     \\\\\n",
       "\t 0.80890961      & PBMC IFN        & sledairash     \\\\\n",
       "\t 0.87315462      & CT VAR          & sledairash     \\\\\n",
       "\t 0.87811448      & CT VAR COMP     & sledairash     \\\\\n",
       "\t 0.49837477      & comp\\_lineage  & kidney         \\\\\n",
       "\t 0.50789303      & comp            & kidney         \\\\\n",
       "\t 0.52540145      & PBMC IFN        & kidney         \\\\\n",
       "\t 0.59957912      & CT VAR          & kidney         \\\\\n",
       "\t 0.60085470      & CT VAR COMP     & kidney         \\\\\n",
       "\\end{tabular}\n"
      ],
      "text/markdown": [
       "\n",
       "| performance | type | trait |\n",
       "|---|---|---|\n",
       "| 0.76374269      | comp_lineage    | disease_status  |\n",
       "| 0.92511371      | comp            | disease_status  |\n",
       "| 0.94943240      | PBMC IFN        | disease_status  |\n",
       "| 0.97209227      | CT VAR          | disease_status  |\n",
       "| 0.97651072      | CT VAR COMP     | disease_status  |\n",
       "| 0.08856692      | comp_lineage    | sledai_cases    |\n",
       "| 0.17036333      | comp            | sledai_cases    |\n",
       "| 0.17081929      | PBMC IFN        | sledai_cases    |\n",
       "| 0.22648803      | CT VAR          | sledai_cases    |\n",
       "| 0.22560557      | CT VAR COMP     | sledai_cases    |\n",
       "| 0.65518844      | comp_lineage    | mono_rat        |\n",
       "| 0.68460201      | comp            | mono_rat        |\n",
       "| 0.45470319      | PBMC IFN        | mono_rat        |\n",
       "| 0.18426227      | CT VAR          | mono_rat        |\n",
       "| 0.49137386      | CT VAR COMP     | mono_rat        |\n",
       "| 0.72074592      | comp_lineage    | sledailowcomp   |\n",
       "| 0.72638565      | comp            | sledailowcomp   |\n",
       "| 0.70008418      | PBMC IFN        | sledailowcomp   |\n",
       "| 0.69014504      | CT VAR          | sledailowcomp   |\n",
       "| 0.66530692      | CT VAR COMP     | sledailowcomp   |\n",
       "| 0.57651515      | comp_lineage    | sledaiantidsdna |\n",
       "| 0.61287879      | comp            | sledaiantidsdna |\n",
       "| 0.61129630      | PBMC IFN        | sledaiantidsdna |\n",
       "| 0.60202020      | CT VAR          | sledaiantidsdna |\n",
       "| 0.59301347      | CT VAR COMP     | sledaiantidsdna |\n",
       "| 0.87453380      | comp_lineage    | sledairash      |\n",
       "| 0.86596737      | comp            | sledairash      |\n",
       "| 0.80890961      | PBMC IFN        | sledairash      |\n",
       "| 0.87315462      | CT VAR          | sledairash      |\n",
       "| 0.87811448      | CT VAR COMP     | sledairash      |\n",
       "| 0.49837477      | comp_lineage    | kidney          |\n",
       "| 0.50789303      | comp            | kidney          |\n",
       "| 0.52540145      | PBMC IFN        | kidney          |\n",
       "| 0.59957912      | CT VAR          | kidney          |\n",
       "| 0.60085470      | CT VAR COMP     | kidney          |\n",
       "\n"
      ],
      "text/plain": [
       "   performance type         trait          \n",
       "1  0.76374269  comp_lineage disease_status \n",
       "2  0.92511371  comp         disease_status \n",
       "3  0.94943240  PBMC IFN     disease_status \n",
       "4  0.97209227  CT VAR       disease_status \n",
       "5  0.97651072  CT VAR COMP  disease_status \n",
       "6  0.08856692  comp_lineage sledai_cases   \n",
       "7  0.17036333  comp         sledai_cases   \n",
       "8  0.17081929  PBMC IFN     sledai_cases   \n",
       "9  0.22648803  CT VAR       sledai_cases   \n",
       "10 0.22560557  CT VAR COMP  sledai_cases   \n",
       "11 0.65518844  comp_lineage mono_rat       \n",
       "12 0.68460201  comp         mono_rat       \n",
       "13 0.45470319  PBMC IFN     mono_rat       \n",
       "14 0.18426227  CT VAR       mono_rat       \n",
       "15 0.49137386  CT VAR COMP  mono_rat       \n",
       "16 0.72074592  comp_lineage sledailowcomp  \n",
       "17 0.72638565  comp         sledailowcomp  \n",
       "18 0.70008418  PBMC IFN     sledailowcomp  \n",
       "19 0.69014504  CT VAR       sledailowcomp  \n",
       "20 0.66530692  CT VAR COMP  sledailowcomp  \n",
       "21 0.57651515  comp_lineage sledaiantidsdna\n",
       "22 0.61287879  comp         sledaiantidsdna\n",
       "23 0.61129630  PBMC IFN     sledaiantidsdna\n",
       "24 0.60202020  CT VAR       sledaiantidsdna\n",
       "25 0.59301347  CT VAR COMP  sledaiantidsdna\n",
       "26 0.87453380  comp_lineage sledairash     \n",
       "27 0.86596737  comp         sledairash     \n",
       "28 0.80890961  PBMC IFN     sledairash     \n",
       "29 0.87315462  CT VAR       sledairash     \n",
       "30 0.87811448  CT VAR COMP  sledairash     \n",
       "31 0.49837477  comp_lineage kidney         \n",
       "32 0.50789303  comp         kidney         \n",
       "33 0.52540145  PBMC IFN     kidney         \n",
       "34 0.59957912  CT VAR       kidney         \n",
       "35 0.60085470  CT VAR COMP  kidney         "
      ]
     },
     "metadata": {},
     "output_type": "display_data"
    }
   ],
   "source": [
    "df"
   ]
  },
  {
   "cell_type": "code",
   "execution_count": 91,
   "metadata": {},
   "outputs": [
    {
     "data": {
      "image/png": "[encoded data removed]",
      "text/plain": [
       "plot without title"
      ]
     },
     "metadata": {},
     "output_type": "display_data"
    }
   ],
   "source": [
    "options(repr.plot.width = 6, repr.plot.height = 6, repr.plot.res=80)\n",
    "\n",
    "df_svm$performance <- as.numeric(as.character(df_svm$performance));\n",
    "df_svm$type <- factor(df_svm$type, levels=c(\"comp_lineage\",\"comp\", \"PBMC IFN\", \"CT VAR\", \"CT VAR COMP\"))\n",
    "df_svm$trait <- factor(df_svm$trait, levels=c(\"disease_status\",\"mono_rat\", \"sledairash\", \"sledaiantidsdna\", \"sledailowcomp\", \"sledai_cases\", \"kidney\"))\n",
    "\n",
    "ggplot(aes(x=trait, y=as.numeric(as.character(performance)), fill=type),data=df_svm)+geom_bar(stat=\"identity\",position=position_dodge())+coord_flip()"
   ]
  },
  {
   "cell_type": "code",
   "execution_count": 92,
   "metadata": {},
   "outputs": [
    {
     "data": {
      "text/plain": [
       "NULL"
      ]
     },
     "metadata": {},
     "output_type": "display_data"
    }
   ],
   "source": [
    "joined_pivot$sle"
   ]
  }
 ],
 "metadata": {
  "kernelspec": {
   "display_name": "R",
   "language": "R",
   "name": "ir"
  },
  "language_info": {
   "codemirror_mode": "r",
   "file_extension": ".r",
   "mimetype": "text/x-r-source",
   "name": "R",
   "pygments_lexer": "r",
   "version": "3.6.0"
  },
  "toc": {
   "base_numbering": 1,
   "nav_menu": {},
   "number_sections": true,
   "sideBar": true,
   "skip_h1_title": false,
   "title_cell": "Table of Contents",
   "title_sidebar": "Contents",
   "toc_cell": false,
   "toc_position": {},
   "toc_section_display": true,
   "toc_window_display": false
  },
  "toc-autonumbering": true
 },
 "nbformat": 4,
 "nbformat_minor": 4
}
